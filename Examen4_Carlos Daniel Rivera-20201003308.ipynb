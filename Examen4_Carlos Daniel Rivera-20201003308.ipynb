{
 "cells": [
  {
   "cell_type": "code",
   "execution_count": 1858,
   "id": "7f6443cf-690c-4868-a839-ec71986c7490",
   "metadata": {},
   "outputs": [],
   "source": [
    "import pandas as pd\n",
    "import numpy as np"
   ]
  },
  {
   "cell_type": "code",
   "execution_count": 1859,
   "id": "52fa8323-5437-4039-b09f-effdb81da22c",
   "metadata": {},
   "outputs": [],
   "source": [
    "import matplotlib.pyplot as plt\n",
    "import seaborn as sns"
   ]
  },
  {
   "cell_type": "code",
   "execution_count": 1860,
   "id": "e1638603-a9fd-41a8-b92d-36e847892bae",
   "metadata": {},
   "outputs": [],
   "source": [
    "from sklearn.preprocessing import StandardScaler\n",
    "from sklearn.decomposition import PCA\n",
    "\n",
    "from sklearn.cluster import KMeans"
   ]
  },
  {
   "cell_type": "code",
   "execution_count": 1861,
   "id": "84e2b540-53c5-41a7-b247-214d81eb179c",
   "metadata": {},
   "outputs": [],
   "source": [
    "import plotly.express as px"
   ]
  },
  {
   "cell_type": "code",
   "execution_count": 1862,
   "id": "b79cebc2-8fd5-4ad1-b3e1-060a97fab4bc",
   "metadata": {},
   "outputs": [],
   "source": [
    "wine = pd.read_csv('winequalityN.csv')"
   ]
  },
  {
   "cell_type": "code",
   "execution_count": 1863,
   "id": "f6d07bed-c5db-4027-b39c-58487c857b3c",
   "metadata": {},
   "outputs": [
    {
     "data": {
      "text/html": [
       "<div>\n",
       "<style scoped>\n",
       "    .dataframe tbody tr th:only-of-type {\n",
       "        vertical-align: middle;\n",
       "    }\n",
       "\n",
       "    .dataframe tbody tr th {\n",
       "        vertical-align: top;\n",
       "    }\n",
       "\n",
       "    .dataframe thead th {\n",
       "        text-align: right;\n",
       "    }\n",
       "</style>\n",
       "<table border=\"1\" class=\"dataframe\">\n",
       "  <thead>\n",
       "    <tr style=\"text-align: right;\">\n",
       "      <th></th>\n",
       "      <th>type</th>\n",
       "      <th>fixed acidity</th>\n",
       "      <th>volatile acidity</th>\n",
       "      <th>citric acid</th>\n",
       "      <th>residual sugar</th>\n",
       "      <th>chlorides</th>\n",
       "      <th>free sulfur dioxide</th>\n",
       "      <th>total sulfur dioxide</th>\n",
       "      <th>density</th>\n",
       "      <th>pH</th>\n",
       "      <th>sulphates</th>\n",
       "      <th>alcohol</th>\n",
       "      <th>quality</th>\n",
       "    </tr>\n",
       "  </thead>\n",
       "  <tbody>\n",
       "    <tr>\n",
       "      <th>0</th>\n",
       "      <td>white</td>\n",
       "      <td>7.0</td>\n",
       "      <td>0.270</td>\n",
       "      <td>0.36</td>\n",
       "      <td>20.7</td>\n",
       "      <td>0.045</td>\n",
       "      <td>45.0</td>\n",
       "      <td>170.0</td>\n",
       "      <td>1.00100</td>\n",
       "      <td>3.00</td>\n",
       "      <td>0.45</td>\n",
       "      <td>8.8</td>\n",
       "      <td>6</td>\n",
       "    </tr>\n",
       "    <tr>\n",
       "      <th>1</th>\n",
       "      <td>white</td>\n",
       "      <td>6.3</td>\n",
       "      <td>0.300</td>\n",
       "      <td>0.34</td>\n",
       "      <td>1.6</td>\n",
       "      <td>0.049</td>\n",
       "      <td>14.0</td>\n",
       "      <td>132.0</td>\n",
       "      <td>0.99400</td>\n",
       "      <td>3.30</td>\n",
       "      <td>0.49</td>\n",
       "      <td>9.5</td>\n",
       "      <td>6</td>\n",
       "    </tr>\n",
       "    <tr>\n",
       "      <th>2</th>\n",
       "      <td>white</td>\n",
       "      <td>8.1</td>\n",
       "      <td>0.280</td>\n",
       "      <td>0.40</td>\n",
       "      <td>6.9</td>\n",
       "      <td>0.050</td>\n",
       "      <td>30.0</td>\n",
       "      <td>97.0</td>\n",
       "      <td>0.99510</td>\n",
       "      <td>3.26</td>\n",
       "      <td>0.44</td>\n",
       "      <td>10.1</td>\n",
       "      <td>6</td>\n",
       "    </tr>\n",
       "    <tr>\n",
       "      <th>3</th>\n",
       "      <td>white</td>\n",
       "      <td>7.2</td>\n",
       "      <td>0.230</td>\n",
       "      <td>0.32</td>\n",
       "      <td>8.5</td>\n",
       "      <td>0.058</td>\n",
       "      <td>47.0</td>\n",
       "      <td>186.0</td>\n",
       "      <td>0.99560</td>\n",
       "      <td>3.19</td>\n",
       "      <td>0.40</td>\n",
       "      <td>9.9</td>\n",
       "      <td>6</td>\n",
       "    </tr>\n",
       "    <tr>\n",
       "      <th>4</th>\n",
       "      <td>white</td>\n",
       "      <td>7.2</td>\n",
       "      <td>0.230</td>\n",
       "      <td>0.32</td>\n",
       "      <td>8.5</td>\n",
       "      <td>0.058</td>\n",
       "      <td>47.0</td>\n",
       "      <td>186.0</td>\n",
       "      <td>0.99560</td>\n",
       "      <td>3.19</td>\n",
       "      <td>0.40</td>\n",
       "      <td>9.9</td>\n",
       "      <td>6</td>\n",
       "    </tr>\n",
       "    <tr>\n",
       "      <th>...</th>\n",
       "      <td>...</td>\n",
       "      <td>...</td>\n",
       "      <td>...</td>\n",
       "      <td>...</td>\n",
       "      <td>...</td>\n",
       "      <td>...</td>\n",
       "      <td>...</td>\n",
       "      <td>...</td>\n",
       "      <td>...</td>\n",
       "      <td>...</td>\n",
       "      <td>...</td>\n",
       "      <td>...</td>\n",
       "      <td>...</td>\n",
       "    </tr>\n",
       "    <tr>\n",
       "      <th>6492</th>\n",
       "      <td>red</td>\n",
       "      <td>6.2</td>\n",
       "      <td>0.600</td>\n",
       "      <td>0.08</td>\n",
       "      <td>2.0</td>\n",
       "      <td>0.090</td>\n",
       "      <td>32.0</td>\n",
       "      <td>44.0</td>\n",
       "      <td>0.99490</td>\n",
       "      <td>3.45</td>\n",
       "      <td>0.58</td>\n",
       "      <td>10.5</td>\n",
       "      <td>5</td>\n",
       "    </tr>\n",
       "    <tr>\n",
       "      <th>6493</th>\n",
       "      <td>red</td>\n",
       "      <td>5.9</td>\n",
       "      <td>0.550</td>\n",
       "      <td>0.10</td>\n",
       "      <td>2.2</td>\n",
       "      <td>0.062</td>\n",
       "      <td>39.0</td>\n",
       "      <td>51.0</td>\n",
       "      <td>0.99512</td>\n",
       "      <td>3.52</td>\n",
       "      <td>NaN</td>\n",
       "      <td>11.2</td>\n",
       "      <td>6</td>\n",
       "    </tr>\n",
       "    <tr>\n",
       "      <th>6494</th>\n",
       "      <td>red</td>\n",
       "      <td>6.3</td>\n",
       "      <td>0.510</td>\n",
       "      <td>0.13</td>\n",
       "      <td>2.3</td>\n",
       "      <td>0.076</td>\n",
       "      <td>29.0</td>\n",
       "      <td>40.0</td>\n",
       "      <td>0.99574</td>\n",
       "      <td>3.42</td>\n",
       "      <td>0.75</td>\n",
       "      <td>11.0</td>\n",
       "      <td>6</td>\n",
       "    </tr>\n",
       "    <tr>\n",
       "      <th>6495</th>\n",
       "      <td>red</td>\n",
       "      <td>5.9</td>\n",
       "      <td>0.645</td>\n",
       "      <td>0.12</td>\n",
       "      <td>2.0</td>\n",
       "      <td>0.075</td>\n",
       "      <td>32.0</td>\n",
       "      <td>44.0</td>\n",
       "      <td>0.99547</td>\n",
       "      <td>3.57</td>\n",
       "      <td>0.71</td>\n",
       "      <td>10.2</td>\n",
       "      <td>5</td>\n",
       "    </tr>\n",
       "    <tr>\n",
       "      <th>6496</th>\n",
       "      <td>red</td>\n",
       "      <td>6.0</td>\n",
       "      <td>0.310</td>\n",
       "      <td>0.47</td>\n",
       "      <td>3.6</td>\n",
       "      <td>0.067</td>\n",
       "      <td>18.0</td>\n",
       "      <td>42.0</td>\n",
       "      <td>0.99549</td>\n",
       "      <td>3.39</td>\n",
       "      <td>0.66</td>\n",
       "      <td>11.0</td>\n",
       "      <td>6</td>\n",
       "    </tr>\n",
       "  </tbody>\n",
       "</table>\n",
       "<p>6497 rows × 13 columns</p>\n",
       "</div>"
      ],
      "text/plain": [
       "       type  fixed acidity  volatile acidity  citric acid  residual sugar  \\\n",
       "0     white            7.0             0.270         0.36            20.7   \n",
       "1     white            6.3             0.300         0.34             1.6   \n",
       "2     white            8.1             0.280         0.40             6.9   \n",
       "3     white            7.2             0.230         0.32             8.5   \n",
       "4     white            7.2             0.230         0.32             8.5   \n",
       "...     ...            ...               ...          ...             ...   \n",
       "6492    red            6.2             0.600         0.08             2.0   \n",
       "6493    red            5.9             0.550         0.10             2.2   \n",
       "6494    red            6.3             0.510         0.13             2.3   \n",
       "6495    red            5.9             0.645         0.12             2.0   \n",
       "6496    red            6.0             0.310         0.47             3.6   \n",
       "\n",
       "      chlorides  free sulfur dioxide  total sulfur dioxide  density    pH  \\\n",
       "0         0.045                 45.0                 170.0  1.00100  3.00   \n",
       "1         0.049                 14.0                 132.0  0.99400  3.30   \n",
       "2         0.050                 30.0                  97.0  0.99510  3.26   \n",
       "3         0.058                 47.0                 186.0  0.99560  3.19   \n",
       "4         0.058                 47.0                 186.0  0.99560  3.19   \n",
       "...         ...                  ...                   ...      ...   ...   \n",
       "6492      0.090                 32.0                  44.0  0.99490  3.45   \n",
       "6493      0.062                 39.0                  51.0  0.99512  3.52   \n",
       "6494      0.076                 29.0                  40.0  0.99574  3.42   \n",
       "6495      0.075                 32.0                  44.0  0.99547  3.57   \n",
       "6496      0.067                 18.0                  42.0  0.99549  3.39   \n",
       "\n",
       "      sulphates  alcohol  quality  \n",
       "0          0.45      8.8        6  \n",
       "1          0.49      9.5        6  \n",
       "2          0.44     10.1        6  \n",
       "3          0.40      9.9        6  \n",
       "4          0.40      9.9        6  \n",
       "...         ...      ...      ...  \n",
       "6492       0.58     10.5        5  \n",
       "6493        NaN     11.2        6  \n",
       "6494       0.75     11.0        6  \n",
       "6495       0.71     10.2        5  \n",
       "6496       0.66     11.0        6  \n",
       "\n",
       "[6497 rows x 13 columns]"
      ]
     },
     "execution_count": 1863,
     "metadata": {},
     "output_type": "execute_result"
    }
   ],
   "source": [
    "wine"
   ]
  },
  {
   "cell_type": "markdown",
   "id": "e249d68f-1626-4c94-a36b-2ff8b1801b5e",
   "metadata": {},
   "source": [
    "Segun el dataset de wine, realice las siguientes actividades:\n",
    "- Limpie las variables numericas. (evalue primero si vale la pena estretificar por type), en caso de existir valores atipicos remplece por la media.\n",
    "- Aplique PCA utilizando maximo 5 columnas (evalue si el PCA vale la pena hacer uno para white y otro para red)\n",
    "    - No se debe de usar quality para este ejercicio\n",
    "- Una ves tenga el PCA, aplique un algoritmo de k-means para crear tres perfiles del vino. (explique que significa cada perfil)\n",
    "- Agregue la nueva variable al dateset y elimine las columnas que hayan formado parte de analisis del PCA, tanto para white como para red, en caso que hayan sido entrenamientos distintos.\n",
    "- Crea la varible de respuesta de la siguiente manera:\n",
    "    - if quality >= 5 ? 1 else 0\n",
    "- Elimine la variable quality del dataset\n",
    "- Aplique los siguientes entrenamientos de MLS (evalue primero si vale la pena estretificar por type):\n",
    "    - Regresion Logistica\n",
    "    - NN\n",
    "    - Aroboles de desiciones\n",
    "    - Random Forest\n",
    "- Explique cual de los entrenamientos fue el mejor?"
   ]
  },
  {
   "cell_type": "markdown",
   "id": "b7f382d3-bace-420d-86ac-6443a4ded381",
   "metadata": {},
   "source": [
    "## Primero verificamos si el dataset contiene valores nulos"
   ]
  },
  {
   "cell_type": "code",
   "execution_count": 1864,
   "id": "21bf2982-007a-4f38-93a9-274098d104cb",
   "metadata": {},
   "outputs": [
    {
     "data": {
      "text/plain": [
       "type                     0\n",
       "fixed acidity           10\n",
       "volatile acidity         8\n",
       "citric acid              3\n",
       "residual sugar           2\n",
       "chlorides                2\n",
       "free sulfur dioxide      0\n",
       "total sulfur dioxide     0\n",
       "density                  0\n",
       "pH                       9\n",
       "sulphates                4\n",
       "alcohol                  0\n",
       "quality                  0\n",
       "dtype: int64"
      ]
     },
     "execution_count": 1864,
     "metadata": {},
     "output_type": "execute_result"
    }
   ],
   "source": [
    "wine.isnull().sum()"
   ]
  },
  {
   "cell_type": "markdown",
   "id": "46faae83-a800-4a16-b35e-6079f69d296e",
   "metadata": {},
   "source": [
    "## En este caso decidi reemplazar los valores nulos de los datos numericos continuos por el mean en base al tipo de vino"
   ]
  },
  {
   "cell_type": "code",
   "execution_count": 1865,
   "id": "02ba5a46-2b6e-48dd-bee4-bc5817e6be10",
   "metadata": {},
   "outputs": [
    {
     "data": {
      "text/plain": [
       "Index(['type', 'fixed acidity', 'volatile acidity', 'citric acid',\n",
       "       'residual sugar', 'chlorides', 'free sulfur dioxide',\n",
       "       'total sulfur dioxide', 'density', 'pH', 'sulphates', 'alcohol',\n",
       "       'quality'],\n",
       "      dtype='object')"
      ]
     },
     "execution_count": 1865,
     "metadata": {},
     "output_type": "execute_result"
    }
   ],
   "source": [
    "wine.columns"
   ]
  },
  {
   "cell_type": "code",
   "execution_count": 1866,
   "id": "0e054430-3637-4528-8135-55ec3ffd1614",
   "metadata": {},
   "outputs": [],
   "source": [
    "columns_to_use=['fixed acidity', 'volatile acidity', 'citric acid',\n",
    "       'residual sugar', 'chlorides', 'free sulfur dioxide',\n",
    "       'total sulfur dioxide', 'density', 'pH', 'sulphates', 'alcohol']"
   ]
  },
  {
   "cell_type": "code",
   "execution_count": 1867,
   "id": "b3663fea-9ede-4a61-87ed-9321a67f8d7e",
   "metadata": {},
   "outputs": [],
   "source": [
    "wine_limpio  = pd.DataFrame()\n",
    "for type_ in wine.loc[ : , \"type\" ].drop_duplicates():\n",
    "    wine_type = wine.loc[ wine['type'] == type_ , : ].copy()\n",
    "    for c_ in columns_to_use: \n",
    "        mean_column = np.mean( wine_type.loc[ : , c_ ] )\n",
    "        wine_type.loc[ np.isnan( wine_type[c_] ) , c_ ] = mean_column\n",
    "        \n",
    "    wine_limpio = pd.concat([ wine_limpio.copy() , wine_type.copy() ])    "
   ]
  },
  {
   "cell_type": "markdown",
   "id": "2e1b1eb9-d1c8-45f0-b6ce-94436f34d252",
   "metadata": {},
   "source": [
    "## Vamos Analizar el mean de cada tipo de vino para descubrir que relacion tienen cada uno"
   ]
  },
  {
   "cell_type": "code",
   "execution_count": 1868,
   "id": "4a417fbe-31ec-46ba-af7f-ab36fbe1a0c0",
   "metadata": {},
   "outputs": [],
   "source": [
    "wine_red= wine_limpio.loc[wine_limpio['type']=='red',:]"
   ]
  },
  {
   "cell_type": "code",
   "execution_count": 1869,
   "id": "ca03779b-39bf-4530-b2d4-5fcb319216f5",
   "metadata": {},
   "outputs": [
    {
     "data": {
      "text/html": [
       "<div>\n",
       "<style scoped>\n",
       "    .dataframe tbody tr th:only-of-type {\n",
       "        vertical-align: middle;\n",
       "    }\n",
       "\n",
       "    .dataframe tbody tr th {\n",
       "        vertical-align: top;\n",
       "    }\n",
       "\n",
       "    .dataframe thead th {\n",
       "        text-align: right;\n",
       "    }\n",
       "</style>\n",
       "<table border=\"1\" class=\"dataframe\">\n",
       "  <thead>\n",
       "    <tr style=\"text-align: right;\">\n",
       "      <th></th>\n",
       "      <th>fixed acidity</th>\n",
       "      <th>volatile acidity</th>\n",
       "      <th>citric acid</th>\n",
       "      <th>residual sugar</th>\n",
       "      <th>chlorides</th>\n",
       "      <th>free sulfur dioxide</th>\n",
       "      <th>total sulfur dioxide</th>\n",
       "      <th>density</th>\n",
       "      <th>pH</th>\n",
       "      <th>sulphates</th>\n",
       "      <th>alcohol</th>\n",
       "      <th>quality</th>\n",
       "    </tr>\n",
       "  </thead>\n",
       "  <tbody>\n",
       "    <tr>\n",
       "      <th>count</th>\n",
       "      <td>1599.000000</td>\n",
       "      <td>1599.000000</td>\n",
       "      <td>1599.000000</td>\n",
       "      <td>1599.000000</td>\n",
       "      <td>1599.000000</td>\n",
       "      <td>1599.000000</td>\n",
       "      <td>1599.000000</td>\n",
       "      <td>1599.000000</td>\n",
       "      <td>1599.000000</td>\n",
       "      <td>1599.000000</td>\n",
       "      <td>1599.000000</td>\n",
       "      <td>1599.000000</td>\n",
       "    </tr>\n",
       "    <tr>\n",
       "      <th>mean</th>\n",
       "      <td>8.322104</td>\n",
       "      <td>0.527738</td>\n",
       "      <td>0.271145</td>\n",
       "      <td>2.538806</td>\n",
       "      <td>0.087467</td>\n",
       "      <td>15.874922</td>\n",
       "      <td>46.467792</td>\n",
       "      <td>0.996747</td>\n",
       "      <td>3.310864</td>\n",
       "      <td>0.658078</td>\n",
       "      <td>10.422983</td>\n",
       "      <td>5.636023</td>\n",
       "    </tr>\n",
       "    <tr>\n",
       "      <th>std</th>\n",
       "      <td>1.739677</td>\n",
       "      <td>0.179029</td>\n",
       "      <td>0.194683</td>\n",
       "      <td>1.409928</td>\n",
       "      <td>0.047065</td>\n",
       "      <td>10.460157</td>\n",
       "      <td>32.895324</td>\n",
       "      <td>0.001887</td>\n",
       "      <td>0.154193</td>\n",
       "      <td>0.169488</td>\n",
       "      <td>1.065668</td>\n",
       "      <td>0.807569</td>\n",
       "    </tr>\n",
       "    <tr>\n",
       "      <th>min</th>\n",
       "      <td>4.600000</td>\n",
       "      <td>0.120000</td>\n",
       "      <td>0.000000</td>\n",
       "      <td>0.900000</td>\n",
       "      <td>0.012000</td>\n",
       "      <td>1.000000</td>\n",
       "      <td>6.000000</td>\n",
       "      <td>0.990070</td>\n",
       "      <td>2.740000</td>\n",
       "      <td>0.330000</td>\n",
       "      <td>8.400000</td>\n",
       "      <td>3.000000</td>\n",
       "    </tr>\n",
       "    <tr>\n",
       "      <th>25%</th>\n",
       "      <td>7.100000</td>\n",
       "      <td>0.390000</td>\n",
       "      <td>0.090000</td>\n",
       "      <td>1.900000</td>\n",
       "      <td>0.070000</td>\n",
       "      <td>7.000000</td>\n",
       "      <td>22.000000</td>\n",
       "      <td>0.995600</td>\n",
       "      <td>3.210000</td>\n",
       "      <td>0.550000</td>\n",
       "      <td>9.500000</td>\n",
       "      <td>5.000000</td>\n",
       "    </tr>\n",
       "    <tr>\n",
       "      <th>50%</th>\n",
       "      <td>7.900000</td>\n",
       "      <td>0.520000</td>\n",
       "      <td>0.260000</td>\n",
       "      <td>2.200000</td>\n",
       "      <td>0.079000</td>\n",
       "      <td>14.000000</td>\n",
       "      <td>38.000000</td>\n",
       "      <td>0.996750</td>\n",
       "      <td>3.310000</td>\n",
       "      <td>0.620000</td>\n",
       "      <td>10.200000</td>\n",
       "      <td>6.000000</td>\n",
       "    </tr>\n",
       "    <tr>\n",
       "      <th>75%</th>\n",
       "      <td>9.200000</td>\n",
       "      <td>0.640000</td>\n",
       "      <td>0.420000</td>\n",
       "      <td>2.600000</td>\n",
       "      <td>0.090000</td>\n",
       "      <td>21.000000</td>\n",
       "      <td>62.000000</td>\n",
       "      <td>0.997835</td>\n",
       "      <td>3.400000</td>\n",
       "      <td>0.730000</td>\n",
       "      <td>11.100000</td>\n",
       "      <td>6.000000</td>\n",
       "    </tr>\n",
       "    <tr>\n",
       "      <th>max</th>\n",
       "      <td>15.900000</td>\n",
       "      <td>1.580000</td>\n",
       "      <td>1.000000</td>\n",
       "      <td>15.500000</td>\n",
       "      <td>0.611000</td>\n",
       "      <td>72.000000</td>\n",
       "      <td>289.000000</td>\n",
       "      <td>1.003690</td>\n",
       "      <td>4.010000</td>\n",
       "      <td>2.000000</td>\n",
       "      <td>14.900000</td>\n",
       "      <td>8.000000</td>\n",
       "    </tr>\n",
       "  </tbody>\n",
       "</table>\n",
       "</div>"
      ],
      "text/plain": [
       "       fixed acidity  volatile acidity  citric acid  residual sugar  \\\n",
       "count    1599.000000       1599.000000  1599.000000     1599.000000   \n",
       "mean        8.322104          0.527738     0.271145        2.538806   \n",
       "std         1.739677          0.179029     0.194683        1.409928   \n",
       "min         4.600000          0.120000     0.000000        0.900000   \n",
       "25%         7.100000          0.390000     0.090000        1.900000   \n",
       "50%         7.900000          0.520000     0.260000        2.200000   \n",
       "75%         9.200000          0.640000     0.420000        2.600000   \n",
       "max        15.900000          1.580000     1.000000       15.500000   \n",
       "\n",
       "         chlorides  free sulfur dioxide  total sulfur dioxide      density  \\\n",
       "count  1599.000000          1599.000000           1599.000000  1599.000000   \n",
       "mean      0.087467            15.874922             46.467792     0.996747   \n",
       "std       0.047065            10.460157             32.895324     0.001887   \n",
       "min       0.012000             1.000000              6.000000     0.990070   \n",
       "25%       0.070000             7.000000             22.000000     0.995600   \n",
       "50%       0.079000            14.000000             38.000000     0.996750   \n",
       "75%       0.090000            21.000000             62.000000     0.997835   \n",
       "max       0.611000            72.000000            289.000000     1.003690   \n",
       "\n",
       "                pH    sulphates      alcohol      quality  \n",
       "count  1599.000000  1599.000000  1599.000000  1599.000000  \n",
       "mean      3.310864     0.658078    10.422983     5.636023  \n",
       "std       0.154193     0.169488     1.065668     0.807569  \n",
       "min       2.740000     0.330000     8.400000     3.000000  \n",
       "25%       3.210000     0.550000     9.500000     5.000000  \n",
       "50%       3.310000     0.620000    10.200000     6.000000  \n",
       "75%       3.400000     0.730000    11.100000     6.000000  \n",
       "max       4.010000     2.000000    14.900000     8.000000  "
      ]
     },
     "execution_count": 1869,
     "metadata": {},
     "output_type": "execute_result"
    }
   ],
   "source": [
    "wine_red.describe()"
   ]
  },
  {
   "cell_type": "code",
   "execution_count": 1870,
   "id": "6c000f4b-9e1a-4f68-96ba-002cc8d41327",
   "metadata": {},
   "outputs": [],
   "source": [
    "wine_white= wine_limpio.loc[wine_limpio['type']=='white',:]"
   ]
  },
  {
   "cell_type": "code",
   "execution_count": 1871,
   "id": "ee54de21-b0a4-4e93-bcc4-52ec72b81c20",
   "metadata": {},
   "outputs": [
    {
     "data": {
      "text/html": [
       "<div>\n",
       "<style scoped>\n",
       "    .dataframe tbody tr th:only-of-type {\n",
       "        vertical-align: middle;\n",
       "    }\n",
       "\n",
       "    .dataframe tbody tr th {\n",
       "        vertical-align: top;\n",
       "    }\n",
       "\n",
       "    .dataframe thead th {\n",
       "        text-align: right;\n",
       "    }\n",
       "</style>\n",
       "<table border=\"1\" class=\"dataframe\">\n",
       "  <thead>\n",
       "    <tr style=\"text-align: right;\">\n",
       "      <th></th>\n",
       "      <th>fixed acidity</th>\n",
       "      <th>volatile acidity</th>\n",
       "      <th>citric acid</th>\n",
       "      <th>residual sugar</th>\n",
       "      <th>chlorides</th>\n",
       "      <th>free sulfur dioxide</th>\n",
       "      <th>total sulfur dioxide</th>\n",
       "      <th>density</th>\n",
       "      <th>pH</th>\n",
       "      <th>sulphates</th>\n",
       "      <th>alcohol</th>\n",
       "      <th>quality</th>\n",
       "    </tr>\n",
       "  </thead>\n",
       "  <tbody>\n",
       "    <tr>\n",
       "      <th>count</th>\n",
       "      <td>4898.000000</td>\n",
       "      <td>4898.000000</td>\n",
       "      <td>4898.00000</td>\n",
       "      <td>4898.000000</td>\n",
       "      <td>4898.000000</td>\n",
       "      <td>4898.000000</td>\n",
       "      <td>4898.000000</td>\n",
       "      <td>4898.000000</td>\n",
       "      <td>4898.000000</td>\n",
       "      <td>4898.000000</td>\n",
       "      <td>4898.000000</td>\n",
       "      <td>4898.000000</td>\n",
       "    </tr>\n",
       "    <tr>\n",
       "      <th>mean</th>\n",
       "      <td>6.855532</td>\n",
       "      <td>0.278252</td>\n",
       "      <td>0.33425</td>\n",
       "      <td>6.393250</td>\n",
       "      <td>0.045778</td>\n",
       "      <td>35.308085</td>\n",
       "      <td>138.360657</td>\n",
       "      <td>0.994027</td>\n",
       "      <td>3.188203</td>\n",
       "      <td>0.489835</td>\n",
       "      <td>10.514267</td>\n",
       "      <td>5.877909</td>\n",
       "    </tr>\n",
       "    <tr>\n",
       "      <th>std</th>\n",
       "      <td>0.843118</td>\n",
       "      <td>0.100739</td>\n",
       "      <td>0.12096</td>\n",
       "      <td>5.071239</td>\n",
       "      <td>0.021845</td>\n",
       "      <td>17.007137</td>\n",
       "      <td>42.498065</td>\n",
       "      <td>0.002991</td>\n",
       "      <td>0.150906</td>\n",
       "      <td>0.114123</td>\n",
       "      <td>1.230621</td>\n",
       "      <td>0.885639</td>\n",
       "    </tr>\n",
       "    <tr>\n",
       "      <th>min</th>\n",
       "      <td>3.800000</td>\n",
       "      <td>0.080000</td>\n",
       "      <td>0.00000</td>\n",
       "      <td>0.600000</td>\n",
       "      <td>0.009000</td>\n",
       "      <td>2.000000</td>\n",
       "      <td>9.000000</td>\n",
       "      <td>0.987110</td>\n",
       "      <td>2.720000</td>\n",
       "      <td>0.220000</td>\n",
       "      <td>8.000000</td>\n",
       "      <td>3.000000</td>\n",
       "    </tr>\n",
       "    <tr>\n",
       "      <th>25%</th>\n",
       "      <td>6.300000</td>\n",
       "      <td>0.210000</td>\n",
       "      <td>0.27000</td>\n",
       "      <td>1.700000</td>\n",
       "      <td>0.036000</td>\n",
       "      <td>23.000000</td>\n",
       "      <td>108.000000</td>\n",
       "      <td>0.991723</td>\n",
       "      <td>3.090000</td>\n",
       "      <td>0.410000</td>\n",
       "      <td>9.500000</td>\n",
       "      <td>5.000000</td>\n",
       "    </tr>\n",
       "    <tr>\n",
       "      <th>50%</th>\n",
       "      <td>6.800000</td>\n",
       "      <td>0.260000</td>\n",
       "      <td>0.32000</td>\n",
       "      <td>5.200000</td>\n",
       "      <td>0.043000</td>\n",
       "      <td>34.000000</td>\n",
       "      <td>134.000000</td>\n",
       "      <td>0.993740</td>\n",
       "      <td>3.180000</td>\n",
       "      <td>0.470000</td>\n",
       "      <td>10.400000</td>\n",
       "      <td>6.000000</td>\n",
       "    </tr>\n",
       "    <tr>\n",
       "      <th>75%</th>\n",
       "      <td>7.300000</td>\n",
       "      <td>0.320000</td>\n",
       "      <td>0.39000</td>\n",
       "      <td>9.900000</td>\n",
       "      <td>0.050000</td>\n",
       "      <td>46.000000</td>\n",
       "      <td>167.000000</td>\n",
       "      <td>0.996100</td>\n",
       "      <td>3.280000</td>\n",
       "      <td>0.550000</td>\n",
       "      <td>11.400000</td>\n",
       "      <td>6.000000</td>\n",
       "    </tr>\n",
       "    <tr>\n",
       "      <th>max</th>\n",
       "      <td>14.200000</td>\n",
       "      <td>1.100000</td>\n",
       "      <td>1.66000</td>\n",
       "      <td>65.800000</td>\n",
       "      <td>0.346000</td>\n",
       "      <td>289.000000</td>\n",
       "      <td>440.000000</td>\n",
       "      <td>1.038980</td>\n",
       "      <td>3.820000</td>\n",
       "      <td>1.080000</td>\n",
       "      <td>14.200000</td>\n",
       "      <td>9.000000</td>\n",
       "    </tr>\n",
       "  </tbody>\n",
       "</table>\n",
       "</div>"
      ],
      "text/plain": [
       "       fixed acidity  volatile acidity  citric acid  residual sugar  \\\n",
       "count    4898.000000       4898.000000   4898.00000     4898.000000   \n",
       "mean        6.855532          0.278252      0.33425        6.393250   \n",
       "std         0.843118          0.100739      0.12096        5.071239   \n",
       "min         3.800000          0.080000      0.00000        0.600000   \n",
       "25%         6.300000          0.210000      0.27000        1.700000   \n",
       "50%         6.800000          0.260000      0.32000        5.200000   \n",
       "75%         7.300000          0.320000      0.39000        9.900000   \n",
       "max        14.200000          1.100000      1.66000       65.800000   \n",
       "\n",
       "         chlorides  free sulfur dioxide  total sulfur dioxide      density  \\\n",
       "count  4898.000000          4898.000000           4898.000000  4898.000000   \n",
       "mean      0.045778            35.308085            138.360657     0.994027   \n",
       "std       0.021845            17.007137             42.498065     0.002991   \n",
       "min       0.009000             2.000000              9.000000     0.987110   \n",
       "25%       0.036000            23.000000            108.000000     0.991723   \n",
       "50%       0.043000            34.000000            134.000000     0.993740   \n",
       "75%       0.050000            46.000000            167.000000     0.996100   \n",
       "max       0.346000           289.000000            440.000000     1.038980   \n",
       "\n",
       "                pH    sulphates      alcohol      quality  \n",
       "count  4898.000000  4898.000000  4898.000000  4898.000000  \n",
       "mean      3.188203     0.489835    10.514267     5.877909  \n",
       "std       0.150906     0.114123     1.230621     0.885639  \n",
       "min       2.720000     0.220000     8.000000     3.000000  \n",
       "25%       3.090000     0.410000     9.500000     5.000000  \n",
       "50%       3.180000     0.470000    10.400000     6.000000  \n",
       "75%       3.280000     0.550000    11.400000     6.000000  \n",
       "max       3.820000     1.080000    14.200000     9.000000  "
      ]
     },
     "execution_count": 1871,
     "metadata": {},
     "output_type": "execute_result"
    }
   ],
   "source": [
    "wine_white.describe()"
   ]
  },
  {
   "cell_type": "markdown",
   "id": "535243aa-a277-4d22-9fed-67c246f1aed5",
   "metadata": {
    "tags": []
   },
   "source": [
    "### Según lo que pude observar observo lo siguiente:\n",
    "### 1. El vino blanco tiene ciertas diferencias que el vino rojo como ser el citric acid, residual sugar, chlorides... etc\n",
    "### 2. Puedo concluir que el vino blanco es más acido que el rojo, pero el vino rojo tiene una mayor azucar residual\n",
    "### 3. El dióxido de sulfuro es menor en el vino rojo que en el vino blanco"
   ]
  },
  {
   "cell_type": "code",
   "execution_count": 1872,
   "id": "a1690db8-4d55-451e-82ea-bdb43d06ff7c",
   "metadata": {},
   "outputs": [
    {
     "data": {
      "text/plain": [
       "type                     object\n",
       "fixed acidity           float64\n",
       "volatile acidity        float64\n",
       "citric acid             float64\n",
       "residual sugar          float64\n",
       "chlorides               float64\n",
       "free sulfur dioxide     float64\n",
       "total sulfur dioxide    float64\n",
       "density                 float64\n",
       "pH                      float64\n",
       "sulphates               float64\n",
       "alcohol                 float64\n",
       "quality                   int64\n",
       "dtype: object"
      ]
     },
     "execution_count": 1872,
     "metadata": {},
     "output_type": "execute_result"
    }
   ],
   "source": [
    "wine_limpio.dtypes"
   ]
  },
  {
   "cell_type": "code",
   "execution_count": 1873,
   "id": "2d4dad6b-f68d-41f4-a165-a0322a2f92dc",
   "metadata": {},
   "outputs": [
    {
     "data": {
      "text/plain": [
       "9.500000     5.648761\n",
       "9.400000     5.110051\n",
       "9.200000     4.171156\n",
       "10.000000    3.524704\n",
       "10.500000    3.493920\n",
       "               ...   \n",
       "10.533333    0.015392\n",
       "11.366667    0.015392\n",
       "12.333333    0.015392\n",
       "14.050000    0.015392\n",
       "10.750000    0.015392\n",
       "Name: alcohol, Length: 111, dtype: float64"
      ]
     },
     "execution_count": 1873,
     "metadata": {},
     "output_type": "execute_result"
    }
   ],
   "source": [
    "wine_limpio['alcohol'].value_counts()*100/wine_limpio.shape[0]"
   ]
  },
  {
   "cell_type": "code",
   "execution_count": 1874,
   "id": "1c57ca66-559c-4bb6-9e27-d4130a20d618",
   "metadata": {},
   "outputs": [
    {
     "data": {
      "text/plain": [
       "{'whiskers': [<matplotlib.lines.Line2D at 0x229c1e5ee50>,\n",
       "  <matplotlib.lines.Line2D at 0x229c1e70160>],\n",
       " 'caps': [<matplotlib.lines.Line2D at 0x229c1e70430>,\n",
       "  <matplotlib.lines.Line2D at 0x229c1e70700>],\n",
       " 'boxes': [<matplotlib.lines.Line2D at 0x229c1e5eb80>],\n",
       " 'medians': [<matplotlib.lines.Line2D at 0x229c1e709d0>],\n",
       " 'fliers': [<matplotlib.lines.Line2D at 0x229c1e70ca0>],\n",
       " 'means': []}"
      ]
     },
     "execution_count": 1874,
     "metadata": {},
     "output_type": "execute_result"
    },
    {
     "data": {
      "image/png": "[encoded data removed]",
      "text/plain": [
       "<Figure size 432x288 with 1 Axes>"
      ]
     },
     "metadata": {
      "needs_background": "light"
     },
     "output_type": "display_data"
    }
   ],
   "source": [
    "plt.boxplot( wine_limpio[\"fixed acidity\"] )"
   ]
  },
  {
   "cell_type": "code",
   "execution_count": 1875,
   "id": "a9f3ee7e-dce1-4471-9634-5a306ad48734",
   "metadata": {},
   "outputs": [
    {
     "data": {
      "text/plain": [
       "{'whiskers': [<matplotlib.lines.Line2D at 0x229c1ec4cd0>,\n",
       "  <matplotlib.lines.Line2D at 0x229c1ec4fa0>],\n",
       " 'caps': [<matplotlib.lines.Line2D at 0x229c1ed32b0>,\n",
       "  <matplotlib.lines.Line2D at 0x229c1ed3580>],\n",
       " 'boxes': [<matplotlib.lines.Line2D at 0x229c1ec4b20>],\n",
       " 'medians': [<matplotlib.lines.Line2D at 0x229c1ed3850>],\n",
       " 'fliers': [<matplotlib.lines.Line2D at 0x229c1ed3b20>],\n",
       " 'means': []}"
      ]
     },
     "execution_count": 1875,
     "metadata": {},
     "output_type": "execute_result"
    },
    {
     "data": {
      "image/png": "[encoded data removed]",
      "text/plain": [
       "<Figure size 432x288 with 1 Axes>"
      ]
     },
     "metadata": {
      "needs_background": "light"
     },
     "output_type": "display_data"
    }
   ],
   "source": [
    "plt.boxplot( wine_limpio[\"free sulfur dioxide\"] )"
   ]
  },
  {
   "cell_type": "markdown",
   "id": "9bc1a3fe-dd9f-41ba-a85a-fee1f3fec39b",
   "metadata": {},
   "source": [
    "### Para este caso segun el analisis anterior existen valores atipicos en el dataset por lo que tocara limpiar las variables numericas continunas, decidi omitir las varibles alcohol, PH y density ya que ambos vinos poseen valores muy similares y un mean bastante similar asi que no generara muchos valores atipicos"
   ]
  },
  {
   "cell_type": "code",
   "execution_count": 1876,
   "id": "97be2832-44d9-463e-96bb-78d0266be021",
   "metadata": {},
   "outputs": [
    {
     "data": {
      "text/plain": [
       "{'whiskers': [<matplotlib.lines.Line2D at 0x229c3038be0>,\n",
       "  <matplotlib.lines.Line2D at 0x229c3038eb0>],\n",
       " 'caps': [<matplotlib.lines.Line2D at 0x229c30461c0>,\n",
       "  <matplotlib.lines.Line2D at 0x229c3046490>],\n",
       " 'boxes': [<matplotlib.lines.Line2D at 0x229c3038a30>],\n",
       " 'medians': [<matplotlib.lines.Line2D at 0x229c3046760>],\n",
       " 'fliers': [<matplotlib.lines.Line2D at 0x229c3046a30>],\n",
       " 'means': []}"
      ]
     },
     "execution_count": 1876,
     "metadata": {},
     "output_type": "execute_result"
    },
    {
     "data": {
      "image/png": "[encoded data removed]",
      "text/plain": [
       "<Figure size 432x288 with 1 Axes>"
      ]
     },
     "metadata": {
      "needs_background": "light"
     },
     "output_type": "display_data"
    }
   ],
   "source": [
    "plt.boxplot( wine_limpio[\"alcohol\"] )"
   ]
  },
  {
   "cell_type": "code",
   "execution_count": 1877,
   "id": "6d5ca847-bb20-43ad-8400-9a0189ac2501",
   "metadata": {},
   "outputs": [
    {
     "data": {
      "text/plain": [
       "{'whiskers': [<matplotlib.lines.Line2D at 0x229c30a61f0>,\n",
       "  <matplotlib.lines.Line2D at 0x229c30a64c0>],\n",
       " 'caps': [<matplotlib.lines.Line2D at 0x229c30a6790>,\n",
       "  <matplotlib.lines.Line2D at 0x229c30a6a60>],\n",
       " 'boxes': [<matplotlib.lines.Line2D at 0x229c308ad30>],\n",
       " 'medians': [<matplotlib.lines.Line2D at 0x229c30a6d30>],\n",
       " 'fliers': [<matplotlib.lines.Line2D at 0x229c30b3040>],\n",
       " 'means': []}"
      ]
     },
     "execution_count": 1877,
     "metadata": {},
     "output_type": "execute_result"
    },
    {
     "data": {
      "image/png": "[encoded data removed]",
      "text/plain": [
       "<Figure size 432x288 with 1 Axes>"
      ]
     },
     "metadata": {
      "needs_background": "light"
     },
     "output_type": "display_data"
    }
   ],
   "source": [
    "plt.boxplot( wine_limpio[\"density\"] )"
   ]
  },
  {
   "cell_type": "markdown",
   "id": "88e228d2-0492-49c5-aa2f-dba81f664e17",
   "metadata": {},
   "source": [
    "## Aqui realizare un analisis por estratificacion de tipo de vino y otro por calidad y tipo de vino para ver cual me genera la menor cantidad de valores atipicos"
   ]
  },
  {
   "cell_type": "markdown",
   "id": "1537cc65-7e36-4875-a93e-6708f69cea86",
   "metadata": {},
   "source": [
    "## Analizaremos valores atipicos de ambos tipos de vino"
   ]
  },
  {
   "cell_type": "code",
   "execution_count": 1878,
   "id": "4c231479-80e9-4bf2-b120-643ce867ff13",
   "metadata": {},
   "outputs": [
    {
     "data": {
      "text/plain": [
       "<AxesSubplot:xlabel='type', ylabel='fixed acidity'>"
      ]
     },
     "execution_count": 1878,
     "metadata": {},
     "output_type": "execute_result"
    },
    {
     "data": {
      "image/png": "[encoded data removed]",
      "text/plain": [
       "<Figure size 432x288 with 1 Axes>"
      ]
     },
     "metadata": {
      "needs_background": "light"
     },
     "output_type": "display_data"
    }
   ],
   "source": [
    "sns.boxplot( data=wine_limpio , x=\"type\" , y=\"fixed acidity\" )"
   ]
  },
  {
   "cell_type": "code",
   "execution_count": 1879,
   "id": "c320aa96-f657-472e-ba87-8707fd6a47b0",
   "metadata": {},
   "outputs": [
    {
     "data": {
      "text/plain": [
       "<AxesSubplot:xlabel='type', ylabel='volatile acidity'>"
      ]
     },
     "execution_count": 1879,
     "metadata": {},
     "output_type": "execute_result"
    },
    {
     "data": {
      "image/png": "[encoded data removed]",
      "text/plain": [
       "<Figure size 432x288 with 1 Axes>"
      ]
     },
     "metadata": {
      "needs_background": "light"
     },
     "output_type": "display_data"
    }
   ],
   "source": [
    "sns.boxplot( data=wine_limpio , x=\"type\" , y=\"volatile acidity\" )"
   ]
  },
  {
   "cell_type": "code",
   "execution_count": 1880,
   "id": "73cfff6b-51fe-4b0f-9852-fed3f2449f8a",
   "metadata": {},
   "outputs": [
    {
     "data": {
      "text/plain": [
       "<AxesSubplot:xlabel='type', ylabel='citric acid'>"
      ]
     },
     "execution_count": 1880,
     "metadata": {},
     "output_type": "execute_result"
    },
    {
     "data": {
      "image/png": "[encoded data removed]",
      "text/plain": [
       "<Figure size 432x288 with 1 Axes>"
      ]
     },
     "metadata": {
      "needs_background": "light"
     },
     "output_type": "display_data"
    }
   ],
   "source": [
    "sns.boxplot( data=wine_limpio , x=\"type\" , y=\"citric acid\" )"
   ]
  },
  {
   "cell_type": "code",
   "execution_count": 1881,
   "id": "c9f88c26-93b9-403a-afa6-aef4a1cc956d",
   "metadata": {},
   "outputs": [
    {
     "data": {
      "text/plain": [
       "<AxesSubplot:xlabel='type', ylabel='residual sugar'>"
      ]
     },
     "execution_count": 1881,
     "metadata": {},
     "output_type": "execute_result"
    },
    {
     "data": {
      "image/png": "[encoded data removed]",
      "text/plain": [
       "<Figure size 432x288 with 1 Axes>"
      ]
     },
     "metadata": {
      "needs_background": "light"
     },
     "output_type": "display_data"
    }
   ],
   "source": [
    "sns.boxplot( data=wine_limpio , x=\"type\" , y=\"residual sugar\" )"
   ]
  },
  {
   "cell_type": "code",
   "execution_count": 1882,
   "id": "b1af91d7-b084-4f7e-82d3-a4e4423e3a29",
   "metadata": {},
   "outputs": [
    {
     "data": {
      "text/plain": [
       "<AxesSubplot:xlabel='type', ylabel='chlorides'>"
      ]
     },
     "execution_count": 1882,
     "metadata": {},
     "output_type": "execute_result"
    },
    {
     "data": {
      "image/png": "[encoded data removed]",
      "text/plain": [
       "<Figure size 432x288 with 1 Axes>"
      ]
     },
     "metadata": {
      "needs_background": "light"
     },
     "output_type": "display_data"
    }
   ],
   "source": [
    "sns.boxplot( data=wine_limpio , x=\"type\" , y=\"chlorides\" )"
   ]
  },
  {
   "cell_type": "code",
   "execution_count": 1883,
   "id": "a972809c-7568-42c3-8c0d-67f96575966a",
   "metadata": {},
   "outputs": [
    {
     "data": {
      "text/plain": [
       "<AxesSubplot:xlabel='type', ylabel='free sulfur dioxide'>"
      ]
     },
     "execution_count": 1883,
     "metadata": {},
     "output_type": "execute_result"
    },
    {
     "data": {
      "image/png": "[encoded data removed]",
      "text/plain": [
       "<Figure size 432x288 with 1 Axes>"
      ]
     },
     "metadata": {
      "needs_background": "light"
     },
     "output_type": "display_data"
    }
   ],
   "source": [
    "sns.boxplot( data=wine_limpio , x=\"type\" , y=\"free sulfur dioxide\" )"
   ]
  },
  {
   "cell_type": "code",
   "execution_count": 1884,
   "id": "886a6f2d-35c7-4448-8c96-8a29cc82784b",
   "metadata": {},
   "outputs": [
    {
     "data": {
      "text/plain": [
       "<AxesSubplot:xlabel='type', ylabel='total sulfur dioxide'>"
      ]
     },
     "execution_count": 1884,
     "metadata": {},
     "output_type": "execute_result"
    },
    {
     "data": {
      "image/png": "[encoded data removed]",
      "text/plain": [
       "<Figure size 432x288 with 1 Axes>"
      ]
     },
     "metadata": {
      "needs_background": "light"
     },
     "output_type": "display_data"
    }
   ],
   "source": [
    "sns.boxplot( data=wine_limpio , x=\"type\" , y=\"total sulfur dioxide\" )"
   ]
  },
  {
   "cell_type": "code",
   "execution_count": 1885,
   "id": "d087204a-f5b7-4b90-8a63-9e9893c26454",
   "metadata": {},
   "outputs": [
    {
     "data": {
      "text/plain": [
       "<AxesSubplot:xlabel='type', ylabel='sulphates'>"
      ]
     },
     "execution_count": 1885,
     "metadata": {},
     "output_type": "execute_result"
    },
    {
     "data": {
      "image/png": "[encoded data removed]",
      "text/plain": [
       "<Figure size 432x288 with 1 Axes>"
      ]
     },
     "metadata": {
      "needs_background": "light"
     },
     "output_type": "display_data"
    }
   ],
   "source": [
    "sns.boxplot( data=wine_limpio , x=\"type\" , y=\"sulphates\" )"
   ]
  },
  {
   "cell_type": "markdown",
   "id": "a4df3afc-95b2-4271-988f-ea44ef89cec0",
   "metadata": {},
   "source": [
    "## Limpieza Fixed acidity"
   ]
  },
  {
   "cell_type": "markdown",
   "id": "a7a9ea2b-c8e7-487d-8982-ae1199f99808",
   "metadata": {},
   "source": [
    "## Analisis de estratificacion por tipo de vino"
   ]
  },
  {
   "cell_type": "code",
   "execution_count": 1886,
   "id": "4a7f92d3-f978-49aa-a9e0-4146f49e72c9",
   "metadata": {},
   "outputs": [],
   "source": [
    "dfq1=wine_limpio.loc[:,[\"type\",\"fixed acidity\"]].groupby([\"type\"],as_index=False).quantile(0.25)\n",
    "dfq1.columns=[\"type\",\"fixed acidity_q1\"]"
   ]
  },
  {
   "cell_type": "code",
   "execution_count": 1887,
   "id": "4d5416ba-79a8-445a-845e-51a0f57fcb65",
   "metadata": {},
   "outputs": [],
   "source": [
    "dfq3=wine_limpio.loc[:,[\"type\",\"fixed acidity\"]].groupby([\"type\"],as_index=False).quantile(0.75)\n",
    "dfq3.columns=[\"type\",\"fixed acidity_q3\"]"
   ]
  },
  {
   "cell_type": "code",
   "execution_count": 1888,
   "id": "3dd2634a-d8ec-483b-8466-62aaebeac298",
   "metadata": {},
   "outputs": [],
   "source": [
    "dfqmean=wine_limpio.loc[:,[\"type\",\"fixed acidity\"]].groupby([\"type\"],as_index=False).mean()\n",
    "dfqmean.columns=[\"type\",\"fixed acidity_mean\"]"
   ]
  },
  {
   "cell_type": "code",
   "execution_count": 1889,
   "id": "26e12b22-293a-4b05-b136-9c1cce0dc0bf",
   "metadata": {},
   "outputs": [],
   "source": [
    "df_iqr=dfq1.merge(dfq3,on=[\"type\"],how=\"inner\").merge(dfqmean,on=[\"type\"],how=\"inner\")"
   ]
  },
  {
   "cell_type": "code",
   "execution_count": 1890,
   "id": "07ba0a9d-e30a-452a-9323-6d374ad1aff1",
   "metadata": {},
   "outputs": [],
   "source": [
    "df_iqr[\"iqr\"] = df_iqr.apply( lambda r: r[\"fixed acidity_q3\"] - r[\"fixed acidity_q1\"] , axis = 1)"
   ]
  },
  {
   "cell_type": "code",
   "execution_count": 1891,
   "id": "036d93d8-cecd-40fe-992f-8494c077b359",
   "metadata": {},
   "outputs": [],
   "source": [
    "df_iqr[\"upper_bound\"] = df_iqr.apply( lambda r:  r[\"fixed acidity_q3\"] + (1.5*r[\"iqr\"] ) , axis = 1)\n",
    "df_iqr[\"lower_bound\"] = df_iqr.apply( lambda r:  r[\"fixed acidity_q1\"] - (1.5*r[\"iqr\"] ) , axis = 1)"
   ]
  },
  {
   "cell_type": "code",
   "execution_count": 1892,
   "id": "571e0e48-5b72-4b76-b960-bd654dc06690",
   "metadata": {},
   "outputs": [],
   "source": [
    "df_t = wine_limpio.merge( df_iqr , on=[\"type\"] , how=\"left\" ).copy()"
   ]
  },
  {
   "cell_type": "code",
   "execution_count": 1893,
   "id": "28b9ead5-2388-462c-a6cf-3c68d328ead8",
   "metadata": {},
   "outputs": [],
   "source": [
    "def get_real_avg(r):\n",
    "    if (r[\"fixed acidity\"]<r[\"lower_bound\"]) | (r[\"fixed acidity\"]>r[\"upper_bound\"]):\n",
    "        return r[\"fixed acidity_mean\"]\n",
    "    else:\n",
    "        return r[\"fixed acidity\"]"
   ]
  },
  {
   "cell_type": "code",
   "execution_count": 1894,
   "id": "739a51e5-c7db-4128-8581-4d1dd21cf808",
   "metadata": {},
   "outputs": [],
   "source": [
    "wine_limpio[\"new_fixed acidity\"]=df_t.apply( lambda r: get_real_avg(r) , axis = 1 )"
   ]
  },
  {
   "cell_type": "code",
   "execution_count": 1895,
   "id": "ec7ce28f-adb1-4ce2-9773-2556352a394d",
   "metadata": {},
   "outputs": [
    {
     "data": {
      "text/plain": [
       "<AxesSubplot:xlabel='type', ylabel='fixed acidity'>"
      ]
     },
     "execution_count": 1895,
     "metadata": {},
     "output_type": "execute_result"
    },
    {
     "data": {
      "image/png": "[encoded data removed]",
      "text/plain": [
       "<Figure size 432x288 with 1 Axes>"
      ]
     },
     "metadata": {
      "needs_background": "light"
     },
     "output_type": "display_data"
    }
   ],
   "source": [
    "sns.boxplot( data=wine_limpio , x=\"type\" , y=\"fixed acidity\" )"
   ]
  },
  {
   "cell_type": "code",
   "execution_count": 1896,
   "id": "1e5ac0db-6041-4b19-a536-10c94178c50b",
   "metadata": {},
   "outputs": [
    {
     "data": {
      "text/plain": [
       "<AxesSubplot:xlabel='type', ylabel='new_fixed acidity'>"
      ]
     },
     "execution_count": 1896,
     "metadata": {},
     "output_type": "execute_result"
    },
    {
     "data": {
      "image/png": "[encoded data removed]",
      "text/plain": [
       "<Figure size 432x288 with 1 Axes>"
      ]
     },
     "metadata": {
      "needs_background": "light"
     },
     "output_type": "display_data"
    }
   ],
   "source": [
    "sns.boxplot( data=wine_limpio , x=\"type\" , y=\"new_fixed acidity\" )"
   ]
  },
  {
   "cell_type": "code",
   "execution_count": 1897,
   "id": "c72e07b8-7b8c-4a24-aae2-1e4d57e7c593",
   "metadata": {},
   "outputs": [
    {
     "data": {
      "text/plain": [
       "{'whiskers': [<matplotlib.lines.Line2D at 0x229c453f1f0>,\n",
       "  <matplotlib.lines.Line2D at 0x229c453f4c0>],\n",
       " 'caps': [<matplotlib.lines.Line2D at 0x229c453f790>,\n",
       "  <matplotlib.lines.Line2D at 0x229c453fa60>],\n",
       " 'boxes': [<matplotlib.lines.Line2D at 0x229c4531ee0>],\n",
       " 'medians': [<matplotlib.lines.Line2D at 0x229c453fd30>],\n",
       " 'fliers': [<matplotlib.lines.Line2D at 0x229c454e040>],\n",
       " 'means': []}"
      ]
     },
     "execution_count": 1897,
     "metadata": {},
     "output_type": "execute_result"
    },
    {
     "data": {
      "image/png": "[encoded data removed]",
      "text/plain": [
       "<Figure size 432x288 with 1 Axes>"
      ]
     },
     "metadata": {
      "needs_background": "light"
     },
     "output_type": "display_data"
    }
   ],
   "source": [
    "plt.boxplot( wine_limpio[\"new_fixed acidity\"] )"
   ]
  },
  {
   "cell_type": "markdown",
   "id": "36616f99-550b-4eed-9b54-6586ce087574",
   "metadata": {},
   "source": [
    "# Analisis de estratificacion por tipo y calidad"
   ]
  },
  {
   "cell_type": "code",
   "execution_count": 1898,
   "id": "834c82a2-d2f5-4889-ba63-bad01b21dad0",
   "metadata": {},
   "outputs": [],
   "source": [
    "dfq1=wine_limpio.loc[:,[\"type\",'quality',\"fixed acidity\"]].groupby([\"type\",'quality'],as_index=False).quantile(0.25)\n",
    "dfq1.columns=[\"type\",'quality',\"fixed acidity_q1\"]"
   ]
  },
  {
   "cell_type": "code",
   "execution_count": 1899,
   "id": "36c802e5-b8b4-4ad1-b254-d5b41ee387dd",
   "metadata": {},
   "outputs": [],
   "source": [
    "dfq3=wine_limpio.loc[:,[\"type\",'quality',\"fixed acidity\"]].groupby([\"type\",'quality'],as_index=False).quantile(0.75)\n",
    "dfq3.columns=[\"type\",'quality',\"fixed acidity_q3\"]"
   ]
  },
  {
   "cell_type": "code",
   "execution_count": 1900,
   "id": "e9961f5b-e323-4137-98a4-bbb4e5449a25",
   "metadata": {},
   "outputs": [],
   "source": [
    "dfqmean=wine_limpio.loc[:,[\"type\",'quality',\"fixed acidity\"]].groupby([\"type\",'quality'],as_index=False).mean()\n",
    "dfqmean.columns=[\"type\",'quality',\"fixed acidity_mean\"]"
   ]
  },
  {
   "cell_type": "code",
   "execution_count": 1901,
   "id": "9db2e72e-6163-4936-83ec-0a4cfb4ab902",
   "metadata": {},
   "outputs": [],
   "source": [
    "df_iqr=dfq1.merge(dfq3,on=[\"type\",'quality'],how=\"inner\").merge(dfqmean,on=[\"type\",'quality'],how=\"inner\")"
   ]
  },
  {
   "cell_type": "code",
   "execution_count": 1902,
   "id": "f16f6b1f-9ea7-4a3e-8df6-e4f30435055e",
   "metadata": {},
   "outputs": [],
   "source": [
    "df_iqr[\"iqr\"] = df_iqr.apply( lambda r: r[\"fixed acidity_q3\"] - r[\"fixed acidity_q1\"] , axis = 1)"
   ]
  },
  {
   "cell_type": "code",
   "execution_count": 1903,
   "id": "d6733eed-422c-4774-a810-4f95ebb8e8da",
   "metadata": {},
   "outputs": [],
   "source": [
    "df_iqr[\"upper_bound\"] = df_iqr.apply( lambda r:  r[\"fixed acidity_q3\"] + (1.5*r[\"iqr\"] ) , axis = 1)\n",
    "df_iqr[\"lower_bound\"] = df_iqr.apply( lambda r:  r[\"fixed acidity_q1\"] - (1.5*r[\"iqr\"] ) , axis = 1)"
   ]
  },
  {
   "cell_type": "code",
   "execution_count": 1904,
   "id": "91c99f27-9d69-41e8-888c-43e295b60e45",
   "metadata": {},
   "outputs": [],
   "source": [
    "df_t = wine_limpio.merge( df_iqr , on=[\"type\",'quality'] , how=\"left\" ).copy()"
   ]
  },
  {
   "cell_type": "code",
   "execution_count": 1905,
   "id": "2ebd89b4-ebdd-40b2-bcc8-fd369a7d9181",
   "metadata": {},
   "outputs": [],
   "source": [
    "def get_real_avg(r):\n",
    "    if (r[\"fixed acidity\"]<r[\"lower_bound\"]) | (r[\"fixed acidity\"]>r[\"upper_bound\"]):\n",
    "        return r[\"fixed acidity_mean\"]\n",
    "    else:\n",
    "        return r[\"fixed acidity\"]"
   ]
  },
  {
   "cell_type": "code",
   "execution_count": 1906,
   "id": "10ab106d-4be0-4284-a0ab-f11b06264c99",
   "metadata": {},
   "outputs": [],
   "source": [
    "wine_limpio[\"new_fixed acidity\"]=df_t.apply( lambda r: get_real_avg(r) , axis = 1 )"
   ]
  },
  {
   "cell_type": "code",
   "execution_count": 1907,
   "id": "68f36d47-6d72-4e3b-aec0-c7a2ef2f2593",
   "metadata": {},
   "outputs": [
    {
     "data": {
      "text/plain": [
       "<AxesSubplot:xlabel='type', ylabel='fixed acidity'>"
      ]
     },
     "execution_count": 1907,
     "metadata": {},
     "output_type": "execute_result"
    },
    {
     "data": {
      "image/png": "[encoded data removed]",
      "text/plain": [
       "<Figure size 432x288 with 1 Axes>"
      ]
     },
     "metadata": {
      "needs_background": "light"
     },
     "output_type": "display_data"
    }
   ],
   "source": [
    "sns.boxplot( data=wine_limpio , x=\"type\" , y=\"fixed acidity\" )"
   ]
  },
  {
   "cell_type": "code",
   "execution_count": 1908,
   "id": "4e4bdc6b-45ae-4f70-8e15-cf131ce0b912",
   "metadata": {},
   "outputs": [
    {
     "data": {
      "text/plain": [
       "<AxesSubplot:xlabel='type', ylabel='new_fixed acidity'>"
      ]
     },
     "execution_count": 1908,
     "metadata": {},
     "output_type": "execute_result"
    },
    {
     "data": {
      "image/png": "[encoded data removed]",
      "text/plain": [
       "<Figure size 432x288 with 1 Axes>"
      ]
     },
     "metadata": {
      "needs_background": "light"
     },
     "output_type": "display_data"
    }
   ],
   "source": [
    "sns.boxplot( data=wine_limpio , x=\"type\" , y=\"new_fixed acidity\" )"
   ]
  },
  {
   "cell_type": "code",
   "execution_count": 1909,
   "id": "3bf555e7-3280-4495-b145-f914d58fcc58",
   "metadata": {},
   "outputs": [
    {
     "data": {
      "text/plain": [
       "{'whiskers': [<matplotlib.lines.Line2D at 0x229c4602be0>,\n",
       "  <matplotlib.lines.Line2D at 0x229c4602eb0>],\n",
       " 'caps': [<matplotlib.lines.Line2D at 0x229c46121c0>,\n",
       "  <matplotlib.lines.Line2D at 0x229c4612490>],\n",
       " 'boxes': [<matplotlib.lines.Line2D at 0x229c4602910>],\n",
       " 'medians': [<matplotlib.lines.Line2D at 0x229c4612760>],\n",
       " 'fliers': [<matplotlib.lines.Line2D at 0x229c4612a30>],\n",
       " 'means': []}"
      ]
     },
     "execution_count": 1909,
     "metadata": {},
     "output_type": "execute_result"
    },
    {
     "data": {
      "image/png": "[encoded data removed]",
      "text/plain": [
       "<Figure size 432x288 with 1 Axes>"
      ]
     },
     "metadata": {
      "needs_background": "light"
     },
     "output_type": "display_data"
    }
   ],
   "source": [
    "plt.boxplot( wine_limpio[\"new_fixed acidity\"] )"
   ]
  },
  {
   "cell_type": "markdown",
   "id": "2fb1d61e-36a2-430d-82d1-faf7de106fba",
   "metadata": {},
   "source": [
    "## Podemos concluir que al estratificar solo por el tipo de vino obtenemos mejores resultados y menos valores atipicos a diferencia de estratificar con tipo y calidad"
   ]
  },
  {
   "cell_type": "markdown",
   "id": "85e0496c-e882-4689-937f-ddadb2ab74ed",
   "metadata": {},
   "source": [
    "## Limpieza volatile acidity"
   ]
  },
  {
   "cell_type": "code",
   "execution_count": 1910,
   "id": "f234fec0-8285-4058-b6ef-c44108c73a6c",
   "metadata": {},
   "outputs": [],
   "source": [
    "dfq1=wine_limpio.loc[:,[\"type\",\"volatile acidity\"]].groupby([\"type\"],as_index=False).quantile(0.25)\n",
    "dfq1.columns=[\"type\",\"volatile acidity_q1\"]"
   ]
  },
  {
   "cell_type": "code",
   "execution_count": 1911,
   "id": "cc41b93a-568f-4876-9667-c73339b3c4a2",
   "metadata": {},
   "outputs": [],
   "source": [
    "dfq3=wine_limpio.loc[:,[\"type\",\"volatile acidity\"]].groupby([\"type\"],as_index=False).quantile(0.75)\n",
    "dfq3.columns=[\"type\",\"volatile acidity_q3\"]"
   ]
  },
  {
   "cell_type": "code",
   "execution_count": 1912,
   "id": "fecb1101-8127-404f-b86a-4cf73ae346dc",
   "metadata": {},
   "outputs": [],
   "source": [
    "dfqmean=wine_limpio.loc[:,[\"type\",\"volatile acidity\"]].groupby([\"type\"],as_index=False).mean()\n",
    "dfqmean.columns=[\"type\",\"volatile acidity_mean\"]"
   ]
  },
  {
   "cell_type": "code",
   "execution_count": 1913,
   "id": "c66bbcca-ea7d-4d17-8b26-8f7ebde18bea",
   "metadata": {},
   "outputs": [],
   "source": [
    "df_iqr=dfq1.merge(dfq3,on=[\"type\"],how=\"inner\").merge(dfqmean,on=[\"type\"],how=\"inner\")"
   ]
  },
  {
   "cell_type": "code",
   "execution_count": 1914,
   "id": "3c2ba28d-2655-405c-9af3-3a394bea580e",
   "metadata": {},
   "outputs": [],
   "source": [
    "df_iqr[\"iqr\"] = df_iqr.apply( lambda r: r[\"volatile acidity_q3\"] - r[\"volatile acidity_q1\"] , axis = 1)"
   ]
  },
  {
   "cell_type": "code",
   "execution_count": 1915,
   "id": "39398035-87b6-442d-9b76-2d28d6ce4104",
   "metadata": {},
   "outputs": [],
   "source": [
    "df_iqr[\"upper_bound\"] = df_iqr.apply( lambda r:  r[\"volatile acidity_q3\"] + (1.5*r[\"iqr\"] ) , axis = 1)\n",
    "df_iqr[\"lower_bound\"] = df_iqr.apply( lambda r:  r[\"volatile acidity_q1\"] - (1.5*r[\"iqr\"] ) , axis = 1)"
   ]
  },
  {
   "cell_type": "code",
   "execution_count": 1916,
   "id": "2aff16da-7ab9-4413-a788-11523d78dcad",
   "metadata": {},
   "outputs": [],
   "source": [
    "df_t = wine_limpio.merge( df_iqr , on=[\"type\"] , how=\"left\" ).copy()"
   ]
  },
  {
   "cell_type": "code",
   "execution_count": 1917,
   "id": "3ece92d7-69bf-4812-801e-c0496ff40007",
   "metadata": {},
   "outputs": [],
   "source": [
    "def get_real_avg(r):\n",
    "    if (r[\"volatile acidity\"]<r[\"lower_bound\"]) | (r[\"volatile acidity\"]>r[\"upper_bound\"]):\n",
    "        return r[\"volatile acidity_mean\"]\n",
    "    else:\n",
    "        return r[\"volatile acidity\"]"
   ]
  },
  {
   "cell_type": "code",
   "execution_count": 1918,
   "id": "23f34bf8-9023-429b-9300-f3740953d1c1",
   "metadata": {},
   "outputs": [],
   "source": [
    "wine_limpio[\"new_volatile acidity\"]=df_t.apply( lambda r: get_real_avg(r) , axis = 1 )"
   ]
  },
  {
   "cell_type": "code",
   "execution_count": 1919,
   "id": "69a5d28c-6189-431c-b4ad-617c0bb048e8",
   "metadata": {},
   "outputs": [
    {
     "data": {
      "text/plain": [
       "<AxesSubplot:xlabel='type', ylabel='volatile acidity'>"
      ]
     },
     "execution_count": 1919,
     "metadata": {},
     "output_type": "execute_result"
    },
    {
     "data": {
      "image/png": "[encoded data removed]",
      "text/plain": [
       "<Figure size 432x288 with 1 Axes>"
      ]
     },
     "metadata": {
      "needs_background": "light"
     },
     "output_type": "display_data"
    }
   ],
   "source": [
    "sns.boxplot( data=wine_limpio , x=\"type\" , y=\"volatile acidity\" )"
   ]
  },
  {
   "cell_type": "code",
   "execution_count": 1920,
   "id": "0c75df67-1d27-4c63-ad76-4109bc7690e4",
   "metadata": {},
   "outputs": [
    {
     "data": {
      "text/plain": [
       "<AxesSubplot:xlabel='type', ylabel='new_volatile acidity'>"
      ]
     },
     "execution_count": 1920,
     "metadata": {},
     "output_type": "execute_result"
    },
    {
     "data": {
      "image/png": "[encoded data removed]",
      "text/plain": [
       "<Figure size 432x288 with 1 Axes>"
      ]
     },
     "metadata": {
      "needs_background": "light"
     },
     "output_type": "display_data"
    }
   ],
   "source": [
    "sns.boxplot( data=wine_limpio , x=\"type\" , y=\"new_volatile acidity\" )"
   ]
  },
  {
   "cell_type": "markdown",
   "id": "32aa2a1d-531f-4396-ac1c-2e5e371bb414",
   "metadata": {},
   "source": [
    "## Limpieza Citric acid"
   ]
  },
  {
   "cell_type": "code",
   "execution_count": 1921,
   "id": "02b20175-57d2-4dff-93bd-90c275764cc0",
   "metadata": {},
   "outputs": [],
   "source": [
    "dfq1=wine_limpio.loc[:,[\"type\",\"citric acid\"]].groupby([\"type\"],as_index=False).quantile(0.25)\n",
    "dfq1.columns=[\"type\",\"citric acid_q1\"]"
   ]
  },
  {
   "cell_type": "code",
   "execution_count": 1922,
   "id": "789485f7-d48f-4443-b71d-739fb179db33",
   "metadata": {},
   "outputs": [],
   "source": [
    "dfq3=wine_limpio.loc[:,[\"type\",\"citric acid\"]].groupby([\"type\"],as_index=False).quantile(0.75)\n",
    "dfq3.columns=[\"type\",\"citric acid_q3\"]"
   ]
  },
  {
   "cell_type": "code",
   "execution_count": 1923,
   "id": "f568fc7e-3bcd-41fe-b46d-9251fcbcb4f9",
   "metadata": {},
   "outputs": [],
   "source": [
    "dfqmean=wine_limpio.loc[:,[\"type\",\"citric acid\"]].groupby([\"type\"],as_index=False).mean()\n",
    "dfqmean.columns=[\"type\",\"citric acid_mean\"]"
   ]
  },
  {
   "cell_type": "code",
   "execution_count": 1924,
   "id": "bd088d84-7420-4cad-b261-1a383c832005",
   "metadata": {},
   "outputs": [],
   "source": [
    "df_iqr=dfq1.merge(dfq3,on=[\"type\"],how=\"inner\").merge(dfqmean,on=[\"type\"],how=\"inner\")"
   ]
  },
  {
   "cell_type": "code",
   "execution_count": 1925,
   "id": "f75e53ca-bfa8-4e92-aca2-b854502d1ce0",
   "metadata": {},
   "outputs": [],
   "source": [
    "df_iqr[\"iqr\"] = df_iqr.apply( lambda r: r[\"citric acid_q3\"] - r[\"citric acid_q1\"] , axis = 1)"
   ]
  },
  {
   "cell_type": "code",
   "execution_count": 1926,
   "id": "feb403e7-7607-4bf6-a687-26a14865e908",
   "metadata": {},
   "outputs": [],
   "source": [
    "df_iqr[\"upper_bound\"] = df_iqr.apply( lambda r:  r[\"citric acid_q3\"] + (1.5*r[\"iqr\"] ) , axis = 1)\n",
    "df_iqr[\"lower_bound\"] = df_iqr.apply( lambda r:  r[\"citric acid_q1\"] - (1.5*r[\"iqr\"] ) , axis = 1)"
   ]
  },
  {
   "cell_type": "code",
   "execution_count": 1927,
   "id": "ed40d7b8-8e6f-479a-bb29-a95ccb5929fc",
   "metadata": {},
   "outputs": [],
   "source": [
    "df_t = wine_limpio.merge( df_iqr , on=[\"type\"] , how=\"left\" ).copy()"
   ]
  },
  {
   "cell_type": "code",
   "execution_count": 1928,
   "id": "111e9c51-fa51-4e5a-9a48-cee64af8e2c2",
   "metadata": {},
   "outputs": [],
   "source": [
    "def get_real_avg(r):\n",
    "    if (r[\"citric acid\"]<r[\"lower_bound\"]) | (r[\"citric acid\"]>r[\"upper_bound\"]):\n",
    "        return r[\"citric acid_mean\"]\n",
    "    else:\n",
    "        return r[\"citric acid\"]"
   ]
  },
  {
   "cell_type": "code",
   "execution_count": 1929,
   "id": "3e77f71f-2016-4a15-b868-72cc6a27902c",
   "metadata": {},
   "outputs": [],
   "source": [
    "wine_limpio[\"new_citric acid\"]=df_t.apply( lambda r: get_real_avg(r) , axis = 1 )"
   ]
  },
  {
   "cell_type": "code",
   "execution_count": 1930,
   "id": "1edf4855-1984-4675-a8f8-51017f0a74da",
   "metadata": {},
   "outputs": [
    {
     "data": {
      "text/plain": [
       "<AxesSubplot:xlabel='type', ylabel='citric acid'>"
      ]
     },
     "execution_count": 1930,
     "metadata": {},
     "output_type": "execute_result"
    },
    {
     "data": {
      "image/png": "[encoded data removed]",
      "text/plain": [
       "<Figure size 432x288 with 1 Axes>"
      ]
     },
     "metadata": {
      "needs_background": "light"
     },
     "output_type": "display_data"
    }
   ],
   "source": [
    "sns.boxplot( data=wine_limpio , x=\"type\" , y=\"citric acid\" )"
   ]
  },
  {
   "cell_type": "code",
   "execution_count": 1931,
   "id": "c9348235-e2bd-401a-8291-30a908ad8a21",
   "metadata": {},
   "outputs": [
    {
     "data": {
      "text/plain": [
       "<AxesSubplot:xlabel='type', ylabel='new_citric acid'>"
      ]
     },
     "execution_count": 1931,
     "metadata": {},
     "output_type": "execute_result"
    },
    {
     "data": {
      "image/png": "[encoded data removed]",
      "text/plain": [
       "<Figure size 432x288 with 1 Axes>"
      ]
     },
     "metadata": {
      "needs_background": "light"
     },
     "output_type": "display_data"
    }
   ],
   "source": [
    "sns.boxplot( data=wine_limpio , x=\"type\" , y=\"new_citric acid\" )"
   ]
  },
  {
   "cell_type": "markdown",
   "id": "bf18990a-9fed-4f70-a328-6f09ad092a60",
   "metadata": {},
   "source": [
    "## Limpieza residual Sugar"
   ]
  },
  {
   "cell_type": "code",
   "execution_count": 1932,
   "id": "e2a13ae8-9752-41d7-a8ef-f4c9a6b05c6b",
   "metadata": {},
   "outputs": [],
   "source": [
    "dfq1=wine_limpio.loc[:,[\"type\",\"residual sugar\"]].groupby([\"type\"],as_index=False).quantile(0.25)\n",
    "dfq1.columns=[\"type\",\"residual sugar_q1\"]"
   ]
  },
  {
   "cell_type": "code",
   "execution_count": 1933,
   "id": "664445c4-8600-4442-b702-58f82702f7d2",
   "metadata": {},
   "outputs": [],
   "source": [
    "dfq3=wine_limpio.loc[:,[\"type\",\"residual sugar\"]].groupby([\"type\"],as_index=False).quantile(0.75)\n",
    "dfq3.columns=[\"type\",\"residual sugar_q3\"]"
   ]
  },
  {
   "cell_type": "code",
   "execution_count": 1934,
   "id": "f9b1350d-14bd-487e-ad27-1c07b4ca0868",
   "metadata": {},
   "outputs": [],
   "source": [
    "dfqmean=wine_limpio.loc[:,[\"type\",\"residual sugar\"]].groupby([\"type\"],as_index=False).mean()\n",
    "dfqmean.columns=[\"type\",\"residual sugar_mean\"]"
   ]
  },
  {
   "cell_type": "code",
   "execution_count": 1935,
   "id": "6c6d4e53-d4fc-4638-bdfb-3118feea8ff5",
   "metadata": {},
   "outputs": [],
   "source": [
    "df_iqr=dfq1.merge(dfq3,on=[\"type\"],how=\"inner\").merge(dfqmean,on=[\"type\"],how=\"inner\")"
   ]
  },
  {
   "cell_type": "code",
   "execution_count": 1936,
   "id": "7376bb35-0b8c-4f08-88f5-4f7204e1412b",
   "metadata": {},
   "outputs": [],
   "source": [
    "df_iqr[\"iqr\"] = df_iqr.apply( lambda r: r[\"residual sugar_q3\"] - r[\"residual sugar_q1\"] , axis = 1)"
   ]
  },
  {
   "cell_type": "code",
   "execution_count": 1937,
   "id": "37cefe6f-bdb6-4acd-b682-a064385c44a1",
   "metadata": {},
   "outputs": [],
   "source": [
    "df_iqr[\"upper_bound\"] = df_iqr.apply( lambda r:  r[\"residual sugar_q3\"] + (1.5*r[\"iqr\"] ) , axis = 1)\n",
    "df_iqr[\"lower_bound\"] = df_iqr.apply( lambda r:  r[\"residual sugar_q1\"] - (1.5*r[\"iqr\"] ) , axis = 1)"
   ]
  },
  {
   "cell_type": "code",
   "execution_count": 1938,
   "id": "5a7aadfb-c185-408a-abd2-d62350e5efb2",
   "metadata": {},
   "outputs": [],
   "source": [
    "df_t = wine_limpio.merge( df_iqr , on=[\"type\"] , how=\"left\" ).copy()"
   ]
  },
  {
   "cell_type": "code",
   "execution_count": 1939,
   "id": "49bdd296-98f2-42ac-9277-71c2ab3146ba",
   "metadata": {},
   "outputs": [],
   "source": [
    "def get_real_avg(r):\n",
    "    if (r[\"residual sugar\"]<r[\"lower_bound\"]) | (r[\"residual sugar\"]>r[\"upper_bound\"]):\n",
    "        return r[\"residual sugar_mean\"]\n",
    "    else:\n",
    "        return r[\"residual sugar\"]"
   ]
  },
  {
   "cell_type": "code",
   "execution_count": 1940,
   "id": "535eb72e-ebfa-4442-a18e-e4c4bfcd0fa5",
   "metadata": {},
   "outputs": [],
   "source": [
    "wine_limpio[\"new_residual sugar\"]=df_t.apply( lambda r: get_real_avg(r) , axis = 1 )"
   ]
  },
  {
   "cell_type": "code",
   "execution_count": 1941,
   "id": "2649f6a2-c5f0-4f77-b731-c29fd044579b",
   "metadata": {},
   "outputs": [
    {
     "data": {
      "text/plain": [
       "<AxesSubplot:xlabel='type', ylabel='residual sugar'>"
      ]
     },
     "execution_count": 1941,
     "metadata": {},
     "output_type": "execute_result"
    },
    {
     "data": {
      "image/png": "[encoded data removed]",
      "text/plain": [
       "<Figure size 432x288 with 1 Axes>"
      ]
     },
     "metadata": {
      "needs_background": "light"
     },
     "output_type": "display_data"
    }
   ],
   "source": [
    "sns.boxplot( data=wine_limpio , x=\"type\" , y=\"residual sugar\" )"
   ]
  },
  {
   "cell_type": "code",
   "execution_count": 1942,
   "id": "10663ea1-ad4e-4e07-b1c3-4940da90d914",
   "metadata": {},
   "outputs": [
    {
     "data": {
      "text/plain": [
       "<AxesSubplot:xlabel='type', ylabel='new_residual sugar'>"
      ]
     },
     "execution_count": 1942,
     "metadata": {},
     "output_type": "execute_result"
    },
    {
     "data": {
      "image/png": "[encoded data removed]",
      "text/plain": [
       "<Figure size 432x288 with 1 Axes>"
      ]
     },
     "metadata": {
      "needs_background": "light"
     },
     "output_type": "display_data"
    }
   ],
   "source": [
    "sns.boxplot( data=wine_limpio , x=\"type\" , y=\"new_residual sugar\" )"
   ]
  },
  {
   "cell_type": "markdown",
   "id": "9d7c8314-29c1-4281-b26d-7d6029e5b48f",
   "metadata": {},
   "source": [
    "## Limpieza Chlorides"
   ]
  },
  {
   "cell_type": "code",
   "execution_count": 1943,
   "id": "a7f41b51-047f-42e5-ba49-1c38bdf62d9e",
   "metadata": {},
   "outputs": [],
   "source": [
    "dfq1=wine_limpio.loc[:,[\"type\",\"chlorides\"]].groupby([\"type\"],as_index=False).quantile(0.25)\n",
    "dfq1.columns=[\"type\",\"chlorides_q1\"]"
   ]
  },
  {
   "cell_type": "code",
   "execution_count": 1944,
   "id": "136359a1-5291-4730-8844-b0efbd74594b",
   "metadata": {},
   "outputs": [],
   "source": [
    "dfq3=wine_limpio.loc[:,[\"type\",\"chlorides\"]].groupby([\"type\"],as_index=False).quantile(0.75)\n",
    "dfq3.columns=[\"type\",\"chlorides_q3\"]"
   ]
  },
  {
   "cell_type": "code",
   "execution_count": 1945,
   "id": "a25ddb1b-14c8-4dcd-b8bc-8ca480667948",
   "metadata": {},
   "outputs": [],
   "source": [
    "dfqmean=wine_limpio.loc[:,[\"type\",\"chlorides\"]].groupby([\"type\"],as_index=False).mean()\n",
    "dfqmean.columns=[\"type\",\"chlorides_mean\"]"
   ]
  },
  {
   "cell_type": "code",
   "execution_count": 1946,
   "id": "b863b6b2-5cbc-49ed-92e8-46021ba919b0",
   "metadata": {},
   "outputs": [],
   "source": [
    "df_iqr=dfq1.merge(dfq3,on=[\"type\"],how=\"inner\").merge(dfqmean,on=[\"type\"],how=\"inner\")"
   ]
  },
  {
   "cell_type": "code",
   "execution_count": 1947,
   "id": "c1387329-e68a-4985-ac6f-04730dd06b1e",
   "metadata": {},
   "outputs": [],
   "source": [
    "df_iqr[\"iqr\"] = df_iqr.apply( lambda r: r[\"chlorides_q3\"] - r[\"chlorides_q1\"] , axis = 1)"
   ]
  },
  {
   "cell_type": "code",
   "execution_count": 1948,
   "id": "323458a5-0ef6-459d-8f23-6d2f010d7a63",
   "metadata": {},
   "outputs": [],
   "source": [
    "df_iqr[\"upper_bound\"] = df_iqr.apply( lambda r:  r[\"chlorides_q3\"] + (1.5*r[\"iqr\"] ) , axis = 1)\n",
    "df_iqr[\"lower_bound\"] = df_iqr.apply( lambda r:  r[\"chlorides_q1\"] - (1.5*r[\"iqr\"] ) , axis = 1)"
   ]
  },
  {
   "cell_type": "code",
   "execution_count": 1949,
   "id": "37a41b41-0d6f-4c6d-95dc-43b658e65920",
   "metadata": {},
   "outputs": [],
   "source": [
    "df_t = wine_limpio.merge( df_iqr , on=[\"type\"] , how=\"left\" ).copy()"
   ]
  },
  {
   "cell_type": "code",
   "execution_count": 1950,
   "id": "de06ea78-124f-4b79-b9f4-2720e0a9897c",
   "metadata": {},
   "outputs": [],
   "source": [
    "def get_real_avg(r):\n",
    "    if (r[\"chlorides\"]<r[\"lower_bound\"]) | (r[\"chlorides\"]>r[\"upper_bound\"]):\n",
    "        return r[\"chlorides_mean\"]\n",
    "    else:\n",
    "        return r[\"chlorides\"]"
   ]
  },
  {
   "cell_type": "code",
   "execution_count": 1951,
   "id": "c73bab34-3ef4-4cc7-9666-dd96e76aafb6",
   "metadata": {},
   "outputs": [],
   "source": [
    "wine_limpio[\"new_chlorides\"]=df_t.apply( lambda r: get_real_avg(r) , axis = 1 )"
   ]
  },
  {
   "cell_type": "code",
   "execution_count": 1952,
   "id": "74460f25-5562-4b2c-ad03-a05cd9015072",
   "metadata": {},
   "outputs": [
    {
     "data": {
      "text/plain": [
       "<AxesSubplot:xlabel='type', ylabel='chlorides'>"
      ]
     },
     "execution_count": 1952,
     "metadata": {},
     "output_type": "execute_result"
    },
    {
     "data": {
      "image/png": "[encoded data removed]",
      "text/plain": [
       "<Figure size 432x288 with 1 Axes>"
      ]
     },
     "metadata": {
      "needs_background": "light"
     },
     "output_type": "display_data"
    }
   ],
   "source": [
    "sns.boxplot( data=wine_limpio , x=\"type\" , y=\"chlorides\" )"
   ]
  },
  {
   "cell_type": "code",
   "execution_count": 1953,
   "id": "88bcc9dd-609f-47f2-92a6-b8312ce712f2",
   "metadata": {},
   "outputs": [
    {
     "data": {
      "text/plain": [
       "<AxesSubplot:xlabel='type', ylabel='new_chlorides'>"
      ]
     },
     "execution_count": 1953,
     "metadata": {},
     "output_type": "execute_result"
    },
    {
     "data": {
      "image/png": "[encoded data removed]",
      "text/plain": [
       "<Figure size 432x288 with 1 Axes>"
      ]
     },
     "metadata": {
      "needs_background": "light"
     },
     "output_type": "display_data"
    }
   ],
   "source": [
    "sns.boxplot( data=wine_limpio , x=\"type\" , y=\"new_chlorides\" )"
   ]
  },
  {
   "cell_type": "markdown",
   "id": "b7b4a149-8966-4540-a69a-dc5f5a2b5644",
   "metadata": {},
   "source": [
    "## Limpieza free sulfur dioxide"
   ]
  },
  {
   "cell_type": "code",
   "execution_count": 1954,
   "id": "f12c20b2-dd8f-4655-b130-880ef6f5d687",
   "metadata": {},
   "outputs": [],
   "source": [
    "dfq1=wine_limpio.loc[:,[\"type\",\"free sulfur dioxide\"]].groupby([\"type\"],as_index=False).quantile(0.25)\n",
    "dfq1.columns=[\"type\",\"free sulfur dioxide_q1\"]"
   ]
  },
  {
   "cell_type": "code",
   "execution_count": 1955,
   "id": "b65bbe09-28db-485f-b011-f1ffd97959e4",
   "metadata": {
    "tags": []
   },
   "outputs": [],
   "source": [
    "dfq3=wine_limpio.loc[:,[\"type\",\"free sulfur dioxide\"]].groupby([\"type\"],as_index=False).quantile(0.75)\n",
    "dfq3.columns=[\"type\",\"free sulfur dioxide_q3\"]"
   ]
  },
  {
   "cell_type": "code",
   "execution_count": 1956,
   "id": "6bee62cb-567f-470f-b4de-8de089b75fa9",
   "metadata": {
    "tags": []
   },
   "outputs": [],
   "source": [
    "dfqmean=wine_limpio.loc[:,[\"type\",\"free sulfur dioxide\"]].groupby([\"type\"],as_index=False).mean()\n",
    "dfqmean.columns=[\"type\",\"free sulfur dioxide_mean\"]"
   ]
  },
  {
   "cell_type": "code",
   "execution_count": 1957,
   "id": "47196b19-3d62-4947-beaa-69dd04329a97",
   "metadata": {
    "tags": []
   },
   "outputs": [],
   "source": [
    "df_iqr=dfq1.merge(dfq3,on=[\"type\"],how=\"inner\").merge(dfqmean,on=[\"type\"],how=\"inner\")"
   ]
  },
  {
   "cell_type": "code",
   "execution_count": 1958,
   "id": "74dbf2fb-7adf-4a82-9a81-6e1a339b6bc2",
   "metadata": {},
   "outputs": [],
   "source": [
    "df_iqr[\"iqr\"] = df_iqr.apply( lambda r: r[\"free sulfur dioxide_q3\"] - r[\"free sulfur dioxide_q1\"] , axis = 1)"
   ]
  },
  {
   "cell_type": "code",
   "execution_count": 1959,
   "id": "edb3199b-abca-4af2-9032-96acd3b6ca88",
   "metadata": {},
   "outputs": [],
   "source": [
    "df_iqr[\"upper_bound\"] = df_iqr.apply( lambda r:  r[\"free sulfur dioxide_q3\"] + (1.5*r[\"iqr\"] ) , axis = 1)\n",
    "df_iqr[\"lower_bound\"] = df_iqr.apply( lambda r:  r[\"free sulfur dioxide_q1\"] - (1.5*r[\"iqr\"] ) , axis = 1)"
   ]
  },
  {
   "cell_type": "code",
   "execution_count": 1960,
   "id": "33c6ecc6-a363-4d2f-8838-ae58efba57ea",
   "metadata": {},
   "outputs": [],
   "source": [
    "df_t = wine_limpio.merge( df_iqr , on=[\"type\"] , how=\"left\" ).copy()"
   ]
  },
  {
   "cell_type": "code",
   "execution_count": 1961,
   "id": "cdb5846d-a697-45e0-8bfc-d688c7a61b81",
   "metadata": {},
   "outputs": [],
   "source": [
    "def get_real_avg(r):\n",
    "    if (r[\"free sulfur dioxide\"]<r[\"lower_bound\"]) | (r[\"free sulfur dioxide\"]>r[\"upper_bound\"]):\n",
    "        return r[\"free sulfur dioxide_mean\"]\n",
    "    else:\n",
    "        return r[\"free sulfur dioxide\"]"
   ]
  },
  {
   "cell_type": "code",
   "execution_count": 1962,
   "id": "707923f3-3fa8-4b0e-bbf8-fdec68575639",
   "metadata": {},
   "outputs": [],
   "source": [
    "wine_limpio[\"new_free sulfur dioxide\"]=df_t.apply( lambda r: get_real_avg(r) , axis = 1 )"
   ]
  },
  {
   "cell_type": "code",
   "execution_count": 1963,
   "id": "0f0c97b4-931b-432a-a474-696c36a3097f",
   "metadata": {},
   "outputs": [
    {
     "data": {
      "text/plain": [
       "<AxesSubplot:xlabel='type', ylabel='free sulfur dioxide'>"
      ]
     },
     "execution_count": 1963,
     "metadata": {},
     "output_type": "execute_result"
    },
    {
     "data": {
      "image/png": "[encoded data removed]",
      "text/plain": [
       "<Figure size 432x288 with 1 Axes>"
      ]
     },
     "metadata": {
      "needs_background": "light"
     },
     "output_type": "display_data"
    }
   ],
   "source": [
    "sns.boxplot( data=wine_limpio , x=\"type\" , y=\"free sulfur dioxide\" )"
   ]
  },
  {
   "cell_type": "code",
   "execution_count": 1964,
   "id": "f55019fe-78a5-4d2f-a997-7c307fbdf14a",
   "metadata": {},
   "outputs": [
    {
     "data": {
      "text/plain": [
       "<AxesSubplot:xlabel='type', ylabel='new_free sulfur dioxide'>"
      ]
     },
     "execution_count": 1964,
     "metadata": {},
     "output_type": "execute_result"
    },
    {
     "data": {
      "image/png": "[encoded data removed]",
      "text/plain": [
       "<Figure size 432x288 with 1 Axes>"
      ]
     },
     "metadata": {
      "needs_background": "light"
     },
     "output_type": "display_data"
    }
   ],
   "source": [
    "sns.boxplot( data=wine_limpio , x=\"type\" , y=\"new_free sulfur dioxide\" )"
   ]
  },
  {
   "cell_type": "markdown",
   "id": "10f943ac-723a-4a1c-b2f2-4a077f196e45",
   "metadata": {},
   "source": [
    "## Limpieza total sulfur dioxide"
   ]
  },
  {
   "cell_type": "code",
   "execution_count": 1965,
   "id": "4444fe05-690e-4fb8-8324-9f9e875326c9",
   "metadata": {},
   "outputs": [],
   "source": [
    "dfq1=wine_limpio.loc[:,[\"type\",\"total sulfur dioxide\"]].groupby([\"type\"],as_index=False).quantile(0.25)\n",
    "dfq1.columns=[\"type\",\"total sulfur dioxide_q1\"]"
   ]
  },
  {
   "cell_type": "code",
   "execution_count": 1966,
   "id": "7c9105fd-d7bb-4cf9-a0ad-12b2b0f54dfd",
   "metadata": {},
   "outputs": [],
   "source": [
    "dfq3=wine_limpio.loc[:,[\"type\",\"total sulfur dioxide\"]].groupby([\"type\"],as_index=False).quantile(0.75)\n",
    "dfq3.columns=[\"type\",\"total sulfur dioxide_q3\"]"
   ]
  },
  {
   "cell_type": "code",
   "execution_count": 1967,
   "id": "7885952f-8177-4005-a58b-87dc918ab564",
   "metadata": {},
   "outputs": [],
   "source": [
    "dfqmean=wine_limpio.loc[:,[\"type\",\"total sulfur dioxide\"]].groupby([\"type\"],as_index=False).mean()\n",
    "dfqmean.columns=[\"type\",\"total sulfur dioxide_mean\"]"
   ]
  },
  {
   "cell_type": "code",
   "execution_count": 1968,
   "id": "68a60648-2c4e-44a6-b6b8-9136226ed630",
   "metadata": {},
   "outputs": [],
   "source": [
    "df_iqr=dfq1.merge(dfq3,on=[\"type\"],how=\"inner\").merge(dfqmean,on=[\"type\"],how=\"inner\")"
   ]
  },
  {
   "cell_type": "code",
   "execution_count": 1969,
   "id": "b8afcedd-4b88-4409-9063-19d0161c60a1",
   "metadata": {},
   "outputs": [],
   "source": [
    "df_iqr[\"iqr\"] = df_iqr.apply( lambda r: r[\"total sulfur dioxide_q3\"] - r[\"total sulfur dioxide_q1\"] , axis = 1)"
   ]
  },
  {
   "cell_type": "code",
   "execution_count": 1970,
   "id": "f919f49c-1093-4516-9db7-9f15b4b73beb",
   "metadata": {},
   "outputs": [],
   "source": [
    "df_iqr[\"upper_bound\"] = df_iqr.apply( lambda r:  r[\"total sulfur dioxide_q3\"] + (1.5*r[\"iqr\"] ) , axis = 1)\n",
    "df_iqr[\"lower_bound\"] = df_iqr.apply( lambda r:  r[\"total sulfur dioxide_q1\"] - (1.5*r[\"iqr\"] ) , axis = 1)"
   ]
  },
  {
   "cell_type": "code",
   "execution_count": 1971,
   "id": "798a735d-e9a7-4c0e-8cbc-24ebb3302b10",
   "metadata": {},
   "outputs": [],
   "source": [
    "df_t = wine_limpio.merge( df_iqr , on=[\"type\"] , how=\"left\" ).copy()"
   ]
  },
  {
   "cell_type": "code",
   "execution_count": 1972,
   "id": "5648122b-4600-4c26-93e5-aa9e414d49fd",
   "metadata": {},
   "outputs": [],
   "source": [
    "def get_real_avg(r):\n",
    "    if (r[\"total sulfur dioxide\"]<r[\"lower_bound\"]) | (r[\"total sulfur dioxide\"]>r[\"upper_bound\"]):\n",
    "        return r[\"total sulfur dioxide_mean\"]\n",
    "    else:\n",
    "        return r[\"total sulfur dioxide\"]"
   ]
  },
  {
   "cell_type": "code",
   "execution_count": 1973,
   "id": "c679953b-7610-48e6-887b-c02050dc5856",
   "metadata": {},
   "outputs": [],
   "source": [
    "wine_limpio[\"new_total sulfur dioxide\"]=df_t.apply( lambda r: get_real_avg(r) , axis = 1 )"
   ]
  },
  {
   "cell_type": "code",
   "execution_count": 1974,
   "id": "f13d9825-ee58-4e92-945d-4c403c70c5f3",
   "metadata": {},
   "outputs": [
    {
     "data": {
      "text/plain": [
       "<AxesSubplot:xlabel='type', ylabel='total sulfur dioxide'>"
      ]
     },
     "execution_count": 1974,
     "metadata": {},
     "output_type": "execute_result"
    },
    {
     "data": {
      "image/png": "[encoded data removed]",
      "text/plain": [
       "<Figure size 432x288 with 1 Axes>"
      ]
     },
     "metadata": {
      "needs_background": "light"
     },
     "output_type": "display_data"
    }
   ],
   "source": [
    "sns.boxplot( data=wine_limpio , x=\"type\" , y=\"total sulfur dioxide\" )"
   ]
  },
  {
   "cell_type": "code",
   "execution_count": 1975,
   "id": "c2cea4ea-141a-4b5c-8c4c-99850d9b4950",
   "metadata": {},
   "outputs": [
    {
     "data": {
      "text/plain": [
       "<AxesSubplot:xlabel='type', ylabel='new_total sulfur dioxide'>"
      ]
     },
     "execution_count": 1975,
     "metadata": {},
     "output_type": "execute_result"
    },
    {
     "data": {
      "image/png": "[encoded data removed]",
      "text/plain": [
       "<Figure size 432x288 with 1 Axes>"
      ]
     },
     "metadata": {
      "needs_background": "light"
     },
     "output_type": "display_data"
    }
   ],
   "source": [
    "sns.boxplot( data=wine_limpio , x=\"type\" , y=\"new_total sulfur dioxide\" )"
   ]
  },
  {
   "cell_type": "markdown",
   "id": "77d257d7-21b0-499e-9780-1919044864e6",
   "metadata": {},
   "source": [
    "## Limpieza sulphates"
   ]
  },
  {
   "cell_type": "code",
   "execution_count": 1976,
   "id": "57872614-043b-4d65-b782-5f7ed885f2a3",
   "metadata": {},
   "outputs": [],
   "source": [
    "dfq1=wine_limpio.loc[:,[\"type\",\"sulphates\"]].groupby([\"type\"],as_index=False).quantile(0.25)\n",
    "dfq1.columns=[\"type\",\"sulphates_q1\"]"
   ]
  },
  {
   "cell_type": "code",
   "execution_count": 1977,
   "id": "f3162486-3341-4f28-a8cb-5b1ce1228b8a",
   "metadata": {},
   "outputs": [],
   "source": [
    "dfq3=wine_limpio.loc[:,[\"type\",\"sulphates\"]].groupby([\"type\"],as_index=False).quantile(0.75)\n",
    "dfq3.columns=[\"type\",\"sulphates_q3\"]"
   ]
  },
  {
   "cell_type": "code",
   "execution_count": 1978,
   "id": "a51efbe3-5e9f-45e6-970b-a3dbac05d139",
   "metadata": {},
   "outputs": [],
   "source": [
    "dfqmean=wine_limpio.loc[:,[\"type\",\"sulphates\"]].groupby([\"type\"],as_index=False).mean()\n",
    "dfqmean.columns=[\"type\",\"sulphates_mean\"]"
   ]
  },
  {
   "cell_type": "code",
   "execution_count": 1979,
   "id": "a43c5151-7b0e-4001-9634-4828796a4bac",
   "metadata": {},
   "outputs": [],
   "source": [
    "df_iqr=dfq1.merge(dfq3,on=[\"type\"],how=\"inner\").merge(dfqmean,on=[\"type\"],how=\"inner\")"
   ]
  },
  {
   "cell_type": "code",
   "execution_count": 1980,
   "id": "a813c5c3-034f-4647-96d2-e0f27455a432",
   "metadata": {},
   "outputs": [],
   "source": [
    "df_iqr[\"iqr\"] = df_iqr.apply( lambda r: r[\"sulphates_q3\"] - r[\"sulphates_q1\"] , axis = 1)"
   ]
  },
  {
   "cell_type": "code",
   "execution_count": 1981,
   "id": "730534dc-0203-4d45-bd0d-ca79907bf68a",
   "metadata": {},
   "outputs": [],
   "source": [
    "df_iqr[\"upper_bound\"] = df_iqr.apply( lambda r:  r[\"sulphates_q3\"] + (1.5*r[\"iqr\"] ) , axis = 1)\n",
    "df_iqr[\"lower_bound\"] = df_iqr.apply( lambda r:  r[\"sulphates_q1\"] - (1.5*r[\"iqr\"] ) , axis = 1)"
   ]
  },
  {
   "cell_type": "code",
   "execution_count": 1982,
   "id": "58fdd2c5-83a3-48bf-8b8e-1c5e73da2ff9",
   "metadata": {},
   "outputs": [],
   "source": [
    "df_t = wine_limpio.merge( df_iqr , on=[\"type\"] , how=\"left\" ).copy()"
   ]
  },
  {
   "cell_type": "code",
   "execution_count": 1983,
   "id": "c00c2957-6d68-4874-ba86-533fa1ea04ae",
   "metadata": {},
   "outputs": [],
   "source": [
    "def get_real_avg(r):\n",
    "    if (r[\"sulphates\"]<r[\"lower_bound\"]) | (r[\"sulphates\"]>r[\"upper_bound\"]):\n",
    "        return r[\"sulphates_mean\"]\n",
    "    else:\n",
    "        return r[\"sulphates\"]"
   ]
  },
  {
   "cell_type": "code",
   "execution_count": 1984,
   "id": "41324e32-b7cb-480a-aaf2-5f2c7bb4218f",
   "metadata": {},
   "outputs": [],
   "source": [
    "wine_limpio[\"new_sulphates\"]=df_t.apply( lambda r: get_real_avg(r) , axis = 1 )"
   ]
  },
  {
   "cell_type": "code",
   "execution_count": 1985,
   "id": "14d0524f-284b-4e9f-9413-966d92b9da8f",
   "metadata": {},
   "outputs": [
    {
     "data": {
      "text/plain": [
       "<AxesSubplot:xlabel='type', ylabel='sulphates'>"
      ]
     },
     "execution_count": 1985,
     "metadata": {},
     "output_type": "execute_result"
    },
    {
     "data": {
      "image/png": "[encoded data removed]",
      "text/plain": [
       "<Figure size 432x288 with 1 Axes>"
      ]
     },
     "metadata": {
      "needs_background": "light"
     },
     "output_type": "display_data"
    }
   ],
   "source": [
    "sns.boxplot( data=wine_limpio , x=\"type\" , y=\"sulphates\" )"
   ]
  },
  {
   "cell_type": "code",
   "execution_count": 1986,
   "id": "7d97ff76-f19d-437d-8165-15343318e4e5",
   "metadata": {},
   "outputs": [
    {
     "data": {
      "text/plain": [
       "<AxesSubplot:xlabel='type', ylabel='new_sulphates'>"
      ]
     },
     "execution_count": 1986,
     "metadata": {},
     "output_type": "execute_result"
    },
    {
     "data": {
      "image/png": "[encoded data removed]",
      "text/plain": [
       "<Figure size 432x288 with 1 Axes>"
      ]
     },
     "metadata": {
      "needs_background": "light"
     },
     "output_type": "display_data"
    }
   ],
   "source": [
    "sns.boxplot( data=wine_limpio , x=\"type\" , y=\"new_sulphates\" )"
   ]
  },
  {
   "cell_type": "markdown",
   "id": "618b0a00-3610-47b1-9f74-29261177f72b",
   "metadata": {},
   "source": [
    "## En esta parte ya se limpiaron las variables numericas continuas que fueron estratificadas por el tipo de vino"
   ]
  },
  {
   "cell_type": "markdown",
   "id": "90b663ea-24c1-4be4-81eb-c21863feb726",
   "metadata": {},
   "source": [
    "## Arreglamos el Dataset limpio y lo guardamos en un .csv"
   ]
  },
  {
   "cell_type": "code",
   "execution_count": 1987,
   "id": "ae7e4411-d64f-45af-84bf-ffa86b1e3555",
   "metadata": {},
   "outputs": [
    {
     "data": {
      "text/plain": [
       "Index(['type', 'fixed acidity', 'volatile acidity', 'citric acid',\n",
       "       'residual sugar', 'chlorides', 'free sulfur dioxide',\n",
       "       'total sulfur dioxide', 'density', 'pH', 'sulphates', 'alcohol',\n",
       "       'quality', 'new_fixed acidity', 'new_volatile acidity',\n",
       "       'new_citric acid', 'new_residual sugar', 'new_chlorides',\n",
       "       'new_free sulfur dioxide', 'new_total sulfur dioxide', 'new_sulphates'],\n",
       "      dtype='object')"
      ]
     },
     "execution_count": 1987,
     "metadata": {},
     "output_type": "execute_result"
    }
   ],
   "source": [
    "wine_limpio.columns"
   ]
  },
  {
   "cell_type": "code",
   "execution_count": 1988,
   "id": "c03b0e62-32b1-4206-b86a-0a91e958fd5b",
   "metadata": {},
   "outputs": [],
   "source": [
    "wine_limpio=wine_limpio.loc[:,['type','new_fixed acidity', 'new_volatile acidity',\n",
    "       'new_citric acid', 'new_residual sugar', 'new_chlorides',\n",
    "       'new_free sulfur dioxide', 'new_total sulfur dioxide', 'density', 'pH', 'new_sulphates', 'alcohol',\n",
    "       'quality']]"
   ]
  },
  {
   "cell_type": "code",
   "execution_count": 1989,
   "id": "8dd1f164-5fa2-47b4-b27c-a305c97f37b2",
   "metadata": {},
   "outputs": [],
   "source": [
    "wine_limpio.to_csv('wine_limpio.csv')"
   ]
  },
  {
   "cell_type": "markdown",
   "id": "42dac902-dd92-499a-bb5c-99ea959f99cc",
   "metadata": {},
   "source": [
    "## PCA"
   ]
  },
  {
   "cell_type": "code",
   "execution_count": 1990,
   "id": "e99ed2f5-7d51-4e5a-aa2f-5d26190fb964",
   "metadata": {},
   "outputs": [
    {
     "data": {
      "text/html": [
       "<div>\n",
       "<style scoped>\n",
       "    .dataframe tbody tr th:only-of-type {\n",
       "        vertical-align: middle;\n",
       "    }\n",
       "\n",
       "    .dataframe tbody tr th {\n",
       "        vertical-align: top;\n",
       "    }\n",
       "\n",
       "    .dataframe thead th {\n",
       "        text-align: right;\n",
       "    }\n",
       "</style>\n",
       "<table border=\"1\" class=\"dataframe\">\n",
       "  <thead>\n",
       "    <tr style=\"text-align: right;\">\n",
       "      <th></th>\n",
       "      <th>type</th>\n",
       "      <th>new_fixed acidity</th>\n",
       "      <th>new_volatile acidity</th>\n",
       "      <th>new_citric acid</th>\n",
       "      <th>new_residual sugar</th>\n",
       "      <th>new_chlorides</th>\n",
       "      <th>new_free sulfur dioxide</th>\n",
       "      <th>new_total sulfur dioxide</th>\n",
       "      <th>density</th>\n",
       "      <th>pH</th>\n",
       "      <th>new_sulphates</th>\n",
       "      <th>alcohol</th>\n",
       "      <th>quality</th>\n",
       "    </tr>\n",
       "  </thead>\n",
       "  <tbody>\n",
       "    <tr>\n",
       "      <th>0</th>\n",
       "      <td>white</td>\n",
       "      <td>7.0</td>\n",
       "      <td>0.270</td>\n",
       "      <td>0.36</td>\n",
       "      <td>20.7</td>\n",
       "      <td>0.045</td>\n",
       "      <td>45.0</td>\n",
       "      <td>170.0</td>\n",
       "      <td>1.00100</td>\n",
       "      <td>3.00</td>\n",
       "      <td>0.450000</td>\n",
       "      <td>8.8</td>\n",
       "      <td>6</td>\n",
       "    </tr>\n",
       "    <tr>\n",
       "      <th>1</th>\n",
       "      <td>white</td>\n",
       "      <td>6.3</td>\n",
       "      <td>0.300</td>\n",
       "      <td>0.34</td>\n",
       "      <td>1.6</td>\n",
       "      <td>0.049</td>\n",
       "      <td>14.0</td>\n",
       "      <td>132.0</td>\n",
       "      <td>0.99400</td>\n",
       "      <td>3.30</td>\n",
       "      <td>0.490000</td>\n",
       "      <td>9.5</td>\n",
       "      <td>6</td>\n",
       "    </tr>\n",
       "    <tr>\n",
       "      <th>2</th>\n",
       "      <td>white</td>\n",
       "      <td>8.1</td>\n",
       "      <td>0.280</td>\n",
       "      <td>0.40</td>\n",
       "      <td>6.9</td>\n",
       "      <td>0.050</td>\n",
       "      <td>30.0</td>\n",
       "      <td>97.0</td>\n",
       "      <td>0.99510</td>\n",
       "      <td>3.26</td>\n",
       "      <td>0.440000</td>\n",
       "      <td>10.1</td>\n",
       "      <td>6</td>\n",
       "    </tr>\n",
       "    <tr>\n",
       "      <th>3</th>\n",
       "      <td>white</td>\n",
       "      <td>7.2</td>\n",
       "      <td>0.230</td>\n",
       "      <td>0.32</td>\n",
       "      <td>8.5</td>\n",
       "      <td>0.058</td>\n",
       "      <td>47.0</td>\n",
       "      <td>186.0</td>\n",
       "      <td>0.99560</td>\n",
       "      <td>3.19</td>\n",
       "      <td>0.400000</td>\n",
       "      <td>9.9</td>\n",
       "      <td>6</td>\n",
       "    </tr>\n",
       "    <tr>\n",
       "      <th>4</th>\n",
       "      <td>white</td>\n",
       "      <td>7.2</td>\n",
       "      <td>0.230</td>\n",
       "      <td>0.32</td>\n",
       "      <td>8.5</td>\n",
       "      <td>0.058</td>\n",
       "      <td>47.0</td>\n",
       "      <td>186.0</td>\n",
       "      <td>0.99560</td>\n",
       "      <td>3.19</td>\n",
       "      <td>0.400000</td>\n",
       "      <td>9.9</td>\n",
       "      <td>6</td>\n",
       "    </tr>\n",
       "    <tr>\n",
       "      <th>...</th>\n",
       "      <td>...</td>\n",
       "      <td>...</td>\n",
       "      <td>...</td>\n",
       "      <td>...</td>\n",
       "      <td>...</td>\n",
       "      <td>...</td>\n",
       "      <td>...</td>\n",
       "      <td>...</td>\n",
       "      <td>...</td>\n",
       "      <td>...</td>\n",
       "      <td>...</td>\n",
       "      <td>...</td>\n",
       "      <td>...</td>\n",
       "    </tr>\n",
       "    <tr>\n",
       "      <th>6492</th>\n",
       "      <td>red</td>\n",
       "      <td>6.2</td>\n",
       "      <td>0.600</td>\n",
       "      <td>0.08</td>\n",
       "      <td>2.0</td>\n",
       "      <td>0.090</td>\n",
       "      <td>32.0</td>\n",
       "      <td>44.0</td>\n",
       "      <td>0.99490</td>\n",
       "      <td>3.45</td>\n",
       "      <td>0.580000</td>\n",
       "      <td>10.5</td>\n",
       "      <td>5</td>\n",
       "    </tr>\n",
       "    <tr>\n",
       "      <th>6493</th>\n",
       "      <td>red</td>\n",
       "      <td>5.9</td>\n",
       "      <td>0.550</td>\n",
       "      <td>0.10</td>\n",
       "      <td>2.2</td>\n",
       "      <td>0.062</td>\n",
       "      <td>39.0</td>\n",
       "      <td>51.0</td>\n",
       "      <td>0.99512</td>\n",
       "      <td>3.52</td>\n",
       "      <td>0.658078</td>\n",
       "      <td>11.2</td>\n",
       "      <td>6</td>\n",
       "    </tr>\n",
       "    <tr>\n",
       "      <th>6494</th>\n",
       "      <td>red</td>\n",
       "      <td>6.3</td>\n",
       "      <td>0.510</td>\n",
       "      <td>0.13</td>\n",
       "      <td>2.3</td>\n",
       "      <td>0.076</td>\n",
       "      <td>29.0</td>\n",
       "      <td>40.0</td>\n",
       "      <td>0.99574</td>\n",
       "      <td>3.42</td>\n",
       "      <td>0.750000</td>\n",
       "      <td>11.0</td>\n",
       "      <td>6</td>\n",
       "    </tr>\n",
       "    <tr>\n",
       "      <th>6495</th>\n",
       "      <td>red</td>\n",
       "      <td>5.9</td>\n",
       "      <td>0.645</td>\n",
       "      <td>0.12</td>\n",
       "      <td>2.0</td>\n",
       "      <td>0.075</td>\n",
       "      <td>32.0</td>\n",
       "      <td>44.0</td>\n",
       "      <td>0.99547</td>\n",
       "      <td>3.57</td>\n",
       "      <td>0.710000</td>\n",
       "      <td>10.2</td>\n",
       "      <td>5</td>\n",
       "    </tr>\n",
       "    <tr>\n",
       "      <th>6496</th>\n",
       "      <td>red</td>\n",
       "      <td>6.0</td>\n",
       "      <td>0.310</td>\n",
       "      <td>0.47</td>\n",
       "      <td>3.6</td>\n",
       "      <td>0.067</td>\n",
       "      <td>18.0</td>\n",
       "      <td>42.0</td>\n",
       "      <td>0.99549</td>\n",
       "      <td>3.39</td>\n",
       "      <td>0.660000</td>\n",
       "      <td>11.0</td>\n",
       "      <td>6</td>\n",
       "    </tr>\n",
       "  </tbody>\n",
       "</table>\n",
       "<p>6497 rows × 13 columns</p>\n",
       "</div>"
      ],
      "text/plain": [
       "       type  new_fixed acidity  new_volatile acidity  new_citric acid  \\\n",
       "0     white                7.0                 0.270             0.36   \n",
       "1     white                6.3                 0.300             0.34   \n",
       "2     white                8.1                 0.280             0.40   \n",
       "3     white                7.2                 0.230             0.32   \n",
       "4     white                7.2                 0.230             0.32   \n",
       "...     ...                ...                   ...              ...   \n",
       "6492    red                6.2                 0.600             0.08   \n",
       "6493    red                5.9                 0.550             0.10   \n",
       "6494    red                6.3                 0.510             0.13   \n",
       "6495    red                5.9                 0.645             0.12   \n",
       "6496    red                6.0                 0.310             0.47   \n",
       "\n",
       "      new_residual sugar  new_chlorides  new_free sulfur dioxide  \\\n",
       "0                   20.7          0.045                     45.0   \n",
       "1                    1.6          0.049                     14.0   \n",
       "2                    6.9          0.050                     30.0   \n",
       "3                    8.5          0.058                     47.0   \n",
       "4                    8.5          0.058                     47.0   \n",
       "...                  ...            ...                      ...   \n",
       "6492                 2.0          0.090                     32.0   \n",
       "6493                 2.2          0.062                     39.0   \n",
       "6494                 2.3          0.076                     29.0   \n",
       "6495                 2.0          0.075                     32.0   \n",
       "6496                 3.6          0.067                     18.0   \n",
       "\n",
       "      new_total sulfur dioxide  density    pH  new_sulphates  alcohol  quality  \n",
       "0                        170.0  1.00100  3.00       0.450000      8.8        6  \n",
       "1                        132.0  0.99400  3.30       0.490000      9.5        6  \n",
       "2                         97.0  0.99510  3.26       0.440000     10.1        6  \n",
       "3                        186.0  0.99560  3.19       0.400000      9.9        6  \n",
       "4                        186.0  0.99560  3.19       0.400000      9.9        6  \n",
       "...                        ...      ...   ...            ...      ...      ...  \n",
       "6492                      44.0  0.99490  3.45       0.580000     10.5        5  \n",
       "6493                      51.0  0.99512  3.52       0.658078     11.2        6  \n",
       "6494                      40.0  0.99574  3.42       0.750000     11.0        6  \n",
       "6495                      44.0  0.99547  3.57       0.710000     10.2        5  \n",
       "6496                      42.0  0.99549  3.39       0.660000     11.0        6  \n",
       "\n",
       "[6497 rows x 13 columns]"
      ]
     },
     "execution_count": 1990,
     "metadata": {},
     "output_type": "execute_result"
    }
   ],
   "source": [
    "wine_limpio"
   ]
  },
  {
   "cell_type": "code",
   "execution_count": 1991,
   "id": "67dcabc0-11f0-4b68-aae4-6d17b4f19f6b",
   "metadata": {},
   "outputs": [
    {
     "data": {
      "text/html": [
       "<div>\n",
       "<style scoped>\n",
       "    .dataframe tbody tr th:only-of-type {\n",
       "        vertical-align: middle;\n",
       "    }\n",
       "\n",
       "    .dataframe tbody tr th {\n",
       "        vertical-align: top;\n",
       "    }\n",
       "\n",
       "    .dataframe thead th {\n",
       "        text-align: right;\n",
       "    }\n",
       "</style>\n",
       "<table border=\"1\" class=\"dataframe\">\n",
       "  <thead>\n",
       "    <tr style=\"text-align: right;\">\n",
       "      <th></th>\n",
       "      <th>new_fixed acidity</th>\n",
       "      <th>new_volatile acidity</th>\n",
       "      <th>new_citric acid</th>\n",
       "      <th>new_residual sugar</th>\n",
       "      <th>new_chlorides</th>\n",
       "      <th>new_free sulfur dioxide</th>\n",
       "      <th>new_total sulfur dioxide</th>\n",
       "      <th>density</th>\n",
       "      <th>pH</th>\n",
       "      <th>new_sulphates</th>\n",
       "      <th>alcohol</th>\n",
       "      <th>quality</th>\n",
       "    </tr>\n",
       "  </thead>\n",
       "  <tbody>\n",
       "    <tr>\n",
       "      <th>count</th>\n",
       "      <td>6497.000000</td>\n",
       "      <td>6497.000000</td>\n",
       "      <td>6497.000000</td>\n",
       "      <td>6497.000000</td>\n",
       "      <td>6497.000000</td>\n",
       "      <td>6497.000000</td>\n",
       "      <td>6497.000000</td>\n",
       "      <td>6497.000000</td>\n",
       "      <td>6497.000000</td>\n",
       "      <td>6497.000000</td>\n",
       "      <td>6497.000000</td>\n",
       "      <td>6497.000000</td>\n",
       "    </tr>\n",
       "    <tr>\n",
       "      <th>mean</th>\n",
       "      <td>7.155883</td>\n",
       "      <td>0.328865</td>\n",
       "      <td>0.312037</td>\n",
       "      <td>5.336756</td>\n",
       "      <td>0.051592</td>\n",
       "      <td>29.855649</td>\n",
       "      <td>114.662780</td>\n",
       "      <td>0.994697</td>\n",
       "      <td>3.218391</td>\n",
       "      <td>0.519368</td>\n",
       "      <td>10.491801</td>\n",
       "      <td>5.818378</td>\n",
       "    </tr>\n",
       "    <tr>\n",
       "      <th>std</th>\n",
       "      <td>1.166577</td>\n",
       "      <td>0.152135</td>\n",
       "      <td>0.124371</td>\n",
       "      <td>4.655421</td>\n",
       "      <td>0.019363</td>\n",
       "      <td>16.366023</td>\n",
       "      <td>55.982608</td>\n",
       "      <td>0.002999</td>\n",
       "      <td>0.160648</td>\n",
       "      <td>0.123618</td>\n",
       "      <td>1.192712</td>\n",
       "      <td>0.873255</td>\n",
       "    </tr>\n",
       "    <tr>\n",
       "      <th>min</th>\n",
       "      <td>4.200000</td>\n",
       "      <td>0.080000</td>\n",
       "      <td>0.000000</td>\n",
       "      <td>0.600000</td>\n",
       "      <td>0.015000</td>\n",
       "      <td>1.000000</td>\n",
       "      <td>6.000000</td>\n",
       "      <td>0.987110</td>\n",
       "      <td>2.720000</td>\n",
       "      <td>0.220000</td>\n",
       "      <td>8.000000</td>\n",
       "      <td>3.000000</td>\n",
       "    </tr>\n",
       "    <tr>\n",
       "      <th>25%</th>\n",
       "      <td>6.400000</td>\n",
       "      <td>0.230000</td>\n",
       "      <td>0.250000</td>\n",
       "      <td>1.800000</td>\n",
       "      <td>0.038000</td>\n",
       "      <td>17.000000</td>\n",
       "      <td>76.000000</td>\n",
       "      <td>0.992340</td>\n",
       "      <td>3.110000</td>\n",
       "      <td>0.430000</td>\n",
       "      <td>9.500000</td>\n",
       "      <td>5.000000</td>\n",
       "    </tr>\n",
       "    <tr>\n",
       "      <th>50%</th>\n",
       "      <td>6.935568</td>\n",
       "      <td>0.280000</td>\n",
       "      <td>0.310000</td>\n",
       "      <td>2.800000</td>\n",
       "      <td>0.046000</td>\n",
       "      <td>29.000000</td>\n",
       "      <td>117.000000</td>\n",
       "      <td>0.994890</td>\n",
       "      <td>3.210000</td>\n",
       "      <td>0.500000</td>\n",
       "      <td>10.300000</td>\n",
       "      <td>6.000000</td>\n",
       "    </tr>\n",
       "    <tr>\n",
       "      <th>75%</th>\n",
       "      <td>7.600000</td>\n",
       "      <td>0.390000</td>\n",
       "      <td>0.380000</td>\n",
       "      <td>8.000000</td>\n",
       "      <td>0.060000</td>\n",
       "      <td>41.000000</td>\n",
       "      <td>155.000000</td>\n",
       "      <td>0.996990</td>\n",
       "      <td>3.320000</td>\n",
       "      <td>0.590000</td>\n",
       "      <td>11.300000</td>\n",
       "      <td>6.000000</td>\n",
       "    </tr>\n",
       "    <tr>\n",
       "      <th>max</th>\n",
       "      <td>13.300000</td>\n",
       "      <td>1.010000</td>\n",
       "      <td>0.790000</td>\n",
       "      <td>22.000000</td>\n",
       "      <td>0.119000</td>\n",
       "      <td>80.000000</td>\n",
       "      <td>255.000000</td>\n",
       "      <td>1.038980</td>\n",
       "      <td>4.010000</td>\n",
       "      <td>0.990000</td>\n",
       "      <td>14.900000</td>\n",
       "      <td>9.000000</td>\n",
       "    </tr>\n",
       "  </tbody>\n",
       "</table>\n",
       "</div>"
      ],
      "text/plain": [
       "       new_fixed acidity  new_volatile acidity  new_citric acid  \\\n",
       "count        6497.000000           6497.000000      6497.000000   \n",
       "mean            7.155883              0.328865         0.312037   \n",
       "std             1.166577              0.152135         0.124371   \n",
       "min             4.200000              0.080000         0.000000   \n",
       "25%             6.400000              0.230000         0.250000   \n",
       "50%             6.935568              0.280000         0.310000   \n",
       "75%             7.600000              0.390000         0.380000   \n",
       "max            13.300000              1.010000         0.790000   \n",
       "\n",
       "       new_residual sugar  new_chlorides  new_free sulfur dioxide  \\\n",
       "count         6497.000000    6497.000000              6497.000000   \n",
       "mean             5.336756       0.051592                29.855649   \n",
       "std              4.655421       0.019363                16.366023   \n",
       "min              0.600000       0.015000                 1.000000   \n",
       "25%              1.800000       0.038000                17.000000   \n",
       "50%              2.800000       0.046000                29.000000   \n",
       "75%              8.000000       0.060000                41.000000   \n",
       "max             22.000000       0.119000                80.000000   \n",
       "\n",
       "       new_total sulfur dioxide      density           pH  new_sulphates  \\\n",
       "count               6497.000000  6497.000000  6497.000000    6497.000000   \n",
       "mean                 114.662780     0.994697     3.218391       0.519368   \n",
       "std                   55.982608     0.002999     0.160648       0.123618   \n",
       "min                    6.000000     0.987110     2.720000       0.220000   \n",
       "25%                   76.000000     0.992340     3.110000       0.430000   \n",
       "50%                  117.000000     0.994890     3.210000       0.500000   \n",
       "75%                  155.000000     0.996990     3.320000       0.590000   \n",
       "max                  255.000000     1.038980     4.010000       0.990000   \n",
       "\n",
       "           alcohol      quality  \n",
       "count  6497.000000  6497.000000  \n",
       "mean     10.491801     5.818378  \n",
       "std       1.192712     0.873255  \n",
       "min       8.000000     3.000000  \n",
       "25%       9.500000     5.000000  \n",
       "50%      10.300000     6.000000  \n",
       "75%      11.300000     6.000000  \n",
       "max      14.900000     9.000000  "
      ]
     },
     "execution_count": 1991,
     "metadata": {},
     "output_type": "execute_result"
    }
   ],
   "source": [
    "wine_limpio.describe()"
   ]
  },
  {
   "cell_type": "code",
   "execution_count": 1992,
   "id": "d91a0f5f-165c-485f-89cc-a99ff0007563",
   "metadata": {},
   "outputs": [],
   "source": [
    "wine_white1 =  wine_limpio.loc[ wine_limpio['type']=='white' ,:].copy()"
   ]
  },
  {
   "cell_type": "code",
   "execution_count": 1993,
   "id": "3397f39d-493d-4f47-8794-cd0309fe1b0e",
   "metadata": {},
   "outputs": [],
   "source": [
    "wine_red1 =  wine_limpio.loc[ wine_limpio['type']=='red' ,:].copy()"
   ]
  },
  {
   "cell_type": "code",
   "execution_count": 1994,
   "id": "d43fc0ad-2828-455f-a205-21a698eac666",
   "metadata": {},
   "outputs": [],
   "source": [
    "wine_limpio1 =  wine_limpio.loc[ : , ['new_fixed acidity', 'new_volatile acidity', 'new_citric acid',\n",
    "       'new_residual sugar', 'new_chlorides', 'new_free sulfur dioxide',\n",
    "       'new_total sulfur dioxide', 'density', 'pH', 'new_sulphates', 'alcohol'] ].copy()"
   ]
  },
  {
   "cell_type": "code",
   "execution_count": 1995,
   "id": "7a767f02-cc9c-4550-85bd-89e3fa101e6d",
   "metadata": {},
   "outputs": [],
   "source": [
    "x = wine_limpio1[\"new_residual sugar\"] \n",
    "y = wine_limpio1[\"alcohol\"]"
   ]
  },
  {
   "cell_type": "code",
   "execution_count": 1996,
   "id": "b40bb9c9-15e6-4dff-a920-d958c4d5c9a7",
   "metadata": {},
   "outputs": [
    {
     "data": {
      "text/plain": [
       "<matplotlib.collections.PathCollection at 0x229c4a556d0>"
      ]
     },
     "execution_count": 1996,
     "metadata": {},
     "output_type": "execute_result"
    },
    {
     "data": {
      "image/png": "[encoded data removed]",
      "text/plain": [
       "<Figure size 432x288 with 1 Axes>"
      ]
     },
     "metadata": {
      "needs_background": "light"
     },
     "output_type": "display_data"
    }
   ],
   "source": [
    "plt.scatter( x , y )"
   ]
  },
  {
   "cell_type": "markdown",
   "id": "30ea4cd6-ac33-46ee-a830-aeca801006c1",
   "metadata": {},
   "source": [
    "## según el grafico anterior podemos ver que el alcohol se ve afectado por el residual sugar, a mayor residual sugar menor alcohol, por lo que es una correlación negativa"
   ]
  },
  {
   "cell_type": "code",
   "execution_count": 1997,
   "id": "0528fad5-8af4-4125-8ce9-6ade611dea3e",
   "metadata": {},
   "outputs": [],
   "source": [
    "c = wine_limpio1.corr()"
   ]
  },
  {
   "cell_type": "code",
   "execution_count": 1998,
   "id": "f9399598-fb5b-4b00-b043-ccc58304786d",
   "metadata": {},
   "outputs": [
    {
     "data": {
      "text/html": [
       "<div>\n",
       "<style scoped>\n",
       "    .dataframe tbody tr th:only-of-type {\n",
       "        vertical-align: middle;\n",
       "    }\n",
       "\n",
       "    .dataframe tbody tr th {\n",
       "        vertical-align: top;\n",
       "    }\n",
       "\n",
       "    .dataframe thead th {\n",
       "        text-align: right;\n",
       "    }\n",
       "</style>\n",
       "<table border=\"1\" class=\"dataframe\">\n",
       "  <thead>\n",
       "    <tr style=\"text-align: right;\">\n",
       "      <th></th>\n",
       "      <th>new_fixed acidity</th>\n",
       "      <th>new_volatile acidity</th>\n",
       "      <th>new_citric acid</th>\n",
       "      <th>new_residual sugar</th>\n",
       "      <th>new_chlorides</th>\n",
       "      <th>new_free sulfur dioxide</th>\n",
       "      <th>new_total sulfur dioxide</th>\n",
       "      <th>density</th>\n",
       "      <th>pH</th>\n",
       "      <th>new_sulphates</th>\n",
       "      <th>alcohol</th>\n",
       "    </tr>\n",
       "  </thead>\n",
       "  <tbody>\n",
       "    <tr>\n",
       "      <th>new_fixed acidity</th>\n",
       "      <td>1.000000</td>\n",
       "      <td>0.264139</td>\n",
       "      <td>0.304883</td>\n",
       "      <td>-0.130536</td>\n",
       "      <td>0.497720</td>\n",
       "      <td>-0.295119</td>\n",
       "      <td>-0.351473</td>\n",
       "      <td>0.450485</td>\n",
       "      <td>-0.208983</td>\n",
       "      <td>0.341726</td>\n",
       "      <td>-0.096550</td>\n",
       "    </tr>\n",
       "    <tr>\n",
       "      <th>new_volatile acidity</th>\n",
       "      <td>0.264139</td>\n",
       "      <td>1.000000</td>\n",
       "      <td>-0.399719</td>\n",
       "      <td>-0.248032</td>\n",
       "      <td>0.614507</td>\n",
       "      <td>-0.389303</td>\n",
       "      <td>-0.483500</td>\n",
       "      <td>0.288230</td>\n",
       "      <td>0.270797</td>\n",
       "      <td>0.303684</td>\n",
       "      <td>-0.045081</td>\n",
       "    </tr>\n",
       "    <tr>\n",
       "      <th>new_citric acid</th>\n",
       "      <td>0.304883</td>\n",
       "      <td>-0.399719</td>\n",
       "      <td>1.000000</td>\n",
       "      <td>0.092700</td>\n",
       "      <td>-0.113988</td>\n",
       "      <td>0.125838</td>\n",
       "      <td>0.167276</td>\n",
       "      <td>0.054477</td>\n",
       "      <td>-0.321371</td>\n",
       "      <td>0.026866</td>\n",
       "      <td>0.033583</td>\n",
       "    </tr>\n",
       "    <tr>\n",
       "      <th>new_residual sugar</th>\n",
       "      <td>-0.130536</td>\n",
       "      <td>-0.248032</td>\n",
       "      <td>0.092700</td>\n",
       "      <td>1.000000</td>\n",
       "      <td>-0.205487</td>\n",
       "      <td>0.452967</td>\n",
       "      <td>0.526821</td>\n",
       "      <td>0.499276</td>\n",
       "      <td>-0.277192</td>\n",
       "      <td>-0.222092</td>\n",
       "      <td>-0.367522</td>\n",
       "    </tr>\n",
       "    <tr>\n",
       "      <th>new_chlorides</th>\n",
       "      <td>0.497720</td>\n",
       "      <td>0.614507</td>\n",
       "      <td>-0.113988</td>\n",
       "      <td>-0.205487</td>\n",
       "      <td>1.000000</td>\n",
       "      <td>-0.363611</td>\n",
       "      <td>-0.489212</td>\n",
       "      <td>0.548959</td>\n",
       "      <td>0.224218</td>\n",
       "      <td>0.464454</td>\n",
       "      <td>-0.288261</td>\n",
       "    </tr>\n",
       "    <tr>\n",
       "      <th>new_free sulfur dioxide</th>\n",
       "      <td>-0.295119</td>\n",
       "      <td>-0.389303</td>\n",
       "      <td>0.125838</td>\n",
       "      <td>0.452967</td>\n",
       "      <td>-0.363611</td>\n",
       "      <td>1.000000</td>\n",
       "      <td>0.728485</td>\n",
       "      <td>0.019120</td>\n",
       "      <td>-0.163387</td>\n",
       "      <td>-0.245786</td>\n",
       "      <td>-0.182431</td>\n",
       "    </tr>\n",
       "    <tr>\n",
       "      <th>new_total sulfur dioxide</th>\n",
       "      <td>-0.351473</td>\n",
       "      <td>-0.483500</td>\n",
       "      <td>0.167276</td>\n",
       "      <td>0.526821</td>\n",
       "      <td>-0.489212</td>\n",
       "      <td>0.728485</td>\n",
       "      <td>1.000000</td>\n",
       "      <td>0.018124</td>\n",
       "      <td>-0.239808</td>\n",
       "      <td>-0.333973</td>\n",
       "      <td>-0.258299</td>\n",
       "    </tr>\n",
       "    <tr>\n",
       "      <th>density</th>\n",
       "      <td>0.450485</td>\n",
       "      <td>0.288230</td>\n",
       "      <td>0.054477</td>\n",
       "      <td>0.499276</td>\n",
       "      <td>0.548959</td>\n",
       "      <td>0.019120</td>\n",
       "      <td>0.018124</td>\n",
       "      <td>1.000000</td>\n",
       "      <td>0.011988</td>\n",
       "      <td>0.290638</td>\n",
       "      <td>-0.686745</td>\n",
       "    </tr>\n",
       "    <tr>\n",
       "      <th>pH</th>\n",
       "      <td>-0.208983</td>\n",
       "      <td>0.270797</td>\n",
       "      <td>-0.321371</td>\n",
       "      <td>-0.277192</td>\n",
       "      <td>0.224218</td>\n",
       "      <td>-0.163387</td>\n",
       "      <td>-0.239808</td>\n",
       "      <td>0.011988</td>\n",
       "      <td>1.000000</td>\n",
       "      <td>0.256926</td>\n",
       "      <td>0.121016</td>\n",
       "    </tr>\n",
       "    <tr>\n",
       "      <th>new_sulphates</th>\n",
       "      <td>0.341726</td>\n",
       "      <td>0.303684</td>\n",
       "      <td>0.026866</td>\n",
       "      <td>-0.222092</td>\n",
       "      <td>0.464454</td>\n",
       "      <td>-0.245786</td>\n",
       "      <td>-0.333973</td>\n",
       "      <td>0.290638</td>\n",
       "      <td>0.256926</td>\n",
       "      <td>1.000000</td>\n",
       "      <td>-0.005825</td>\n",
       "    </tr>\n",
       "    <tr>\n",
       "      <th>alcohol</th>\n",
       "      <td>-0.096550</td>\n",
       "      <td>-0.045081</td>\n",
       "      <td>0.033583</td>\n",
       "      <td>-0.367522</td>\n",
       "      <td>-0.288261</td>\n",
       "      <td>-0.182431</td>\n",
       "      <td>-0.258299</td>\n",
       "      <td>-0.686745</td>\n",
       "      <td>0.121016</td>\n",
       "      <td>-0.005825</td>\n",
       "      <td>1.000000</td>\n",
       "    </tr>\n",
       "  </tbody>\n",
       "</table>\n",
       "</div>"
      ],
      "text/plain": [
       "                          new_fixed acidity  new_volatile acidity  \\\n",
       "new_fixed acidity                  1.000000              0.264139   \n",
       "new_volatile acidity               0.264139              1.000000   \n",
       "new_citric acid                    0.304883             -0.399719   \n",
       "new_residual sugar                -0.130536             -0.248032   \n",
       "new_chlorides                      0.497720              0.614507   \n",
       "new_free sulfur dioxide           -0.295119             -0.389303   \n",
       "new_total sulfur dioxide          -0.351473             -0.483500   \n",
       "density                            0.450485              0.288230   \n",
       "pH                                -0.208983              0.270797   \n",
       "new_sulphates                      0.341726              0.303684   \n",
       "alcohol                           -0.096550             -0.045081   \n",
       "\n",
       "                          new_citric acid  new_residual sugar  new_chlorides  \\\n",
       "new_fixed acidity                0.304883           -0.130536       0.497720   \n",
       "new_volatile acidity            -0.399719           -0.248032       0.614507   \n",
       "new_citric acid                  1.000000            0.092700      -0.113988   \n",
       "new_residual sugar               0.092700            1.000000      -0.205487   \n",
       "new_chlorides                   -0.113988           -0.205487       1.000000   \n",
       "new_free sulfur dioxide          0.125838            0.452967      -0.363611   \n",
       "new_total sulfur dioxide         0.167276            0.526821      -0.489212   \n",
       "density                          0.054477            0.499276       0.548959   \n",
       "pH                              -0.321371           -0.277192       0.224218   \n",
       "new_sulphates                    0.026866           -0.222092       0.464454   \n",
       "alcohol                          0.033583           -0.367522      -0.288261   \n",
       "\n",
       "                          new_free sulfur dioxide  new_total sulfur dioxide  \\\n",
       "new_fixed acidity                       -0.295119                 -0.351473   \n",
       "new_volatile acidity                    -0.389303                 -0.483500   \n",
       "new_citric acid                          0.125838                  0.167276   \n",
       "new_residual sugar                       0.452967                  0.526821   \n",
       "new_chlorides                           -0.363611                 -0.489212   \n",
       "new_free sulfur dioxide                  1.000000                  0.728485   \n",
       "new_total sulfur dioxide                 0.728485                  1.000000   \n",
       "density                                  0.019120                  0.018124   \n",
       "pH                                      -0.163387                 -0.239808   \n",
       "new_sulphates                           -0.245786                 -0.333973   \n",
       "alcohol                                 -0.182431                 -0.258299   \n",
       "\n",
       "                           density        pH  new_sulphates   alcohol  \n",
       "new_fixed acidity         0.450485 -0.208983       0.341726 -0.096550  \n",
       "new_volatile acidity      0.288230  0.270797       0.303684 -0.045081  \n",
       "new_citric acid           0.054477 -0.321371       0.026866  0.033583  \n",
       "new_residual sugar        0.499276 -0.277192      -0.222092 -0.367522  \n",
       "new_chlorides             0.548959  0.224218       0.464454 -0.288261  \n",
       "new_free sulfur dioxide   0.019120 -0.163387      -0.245786 -0.182431  \n",
       "new_total sulfur dioxide  0.018124 -0.239808      -0.333973 -0.258299  \n",
       "density                   1.000000  0.011988       0.290638 -0.686745  \n",
       "pH                        0.011988  1.000000       0.256926  0.121016  \n",
       "new_sulphates             0.290638  0.256926       1.000000 -0.005825  \n",
       "alcohol                  -0.686745  0.121016      -0.005825  1.000000  "
      ]
     },
     "execution_count": 1998,
     "metadata": {},
     "output_type": "execute_result"
    }
   ],
   "source": [
    "c"
   ]
  },
  {
   "cell_type": "code",
   "execution_count": 1999,
   "id": "52113962-6ba0-4a9e-b843-22e85ffaa713",
   "metadata": {},
   "outputs": [
    {
     "data": {
      "text/plain": [
       "<matplotlib.image.AxesImage at 0x229c4b343a0>"
      ]
     },
     "execution_count": 1999,
     "metadata": {},
     "output_type": "execute_result"
    },
    {
     "data": {
      "image/png": "[encoded data removed]",
      "text/plain": [
       "<Figure size 288x288 with 1 Axes>"
      ]
     },
     "metadata": {
      "needs_background": "light"
     },
     "output_type": "display_data"
    }
   ],
   "source": [
    "plt.matshow(c)"
   ]
  },
  {
   "cell_type": "code",
   "execution_count": 2000,
   "id": "ec5a87fa-f4e4-419f-8f64-02485cb881a3",
   "metadata": {},
   "outputs": [
    {
     "name": "stderr",
     "output_type": "stream",
     "text": [
      "C:\\Users\\dqnie\\AppData\\Local\\Temp\\ipykernel_2692\\1104028275.py:3: DeprecationWarning: `np.bool` is a deprecated alias for the builtin `bool`. To silence this warning, use `bool` by itself. Doing this will not modify any behavior and is safe. If you specifically wanted the numpy scalar type, use `np.bool_` here.\n",
      "Deprecated in NumPy 1.20; for more details and guidance: https://numpy.org/devdocs/release/1.20.0-notes.html#deprecations\n",
      "  sns.heatmap(c, mask=np.zeros_like(c, dtype=np.bool), cmap=sns.diverging_palette(220, 10, as_cmap=True),\n"
     ]
    },
    {
     "data": {
      "text/plain": [
       "<AxesSubplot:>"
      ]
     },
     "execution_count": 2000,
     "metadata": {},
     "output_type": "execute_result"
    },
    {
     "data": {
      "image/png": "[encoded data removed]",
      "text/plain": [
       "<Figure size 720x576 with 2 Axes>"
      ]
     },
     "metadata": {
      "needs_background": "light"
     },
     "output_type": "display_data"
    }
   ],
   "source": [
    "f, ax = plt.subplots(figsize=(10, 8))\n",
    "\n",
    "sns.heatmap(c, mask=np.zeros_like(c, dtype=np.bool), cmap=sns.diverging_palette(220, 10, as_cmap=True),\n",
    "            square=True, ax=ax, vmin = -1 , vmax= 1 )"
   ]
  },
  {
   "cell_type": "markdown",
   "id": "805fbe9e-bb2c-444c-a180-81836cdbe615",
   "metadata": {},
   "source": [
    "### Principal component Analysis (PCA) - implementacion"
   ]
  },
  {
   "cell_type": "markdown",
   "id": "c30a207e-0b78-4cf3-9818-13c06cbfc3f5",
   "metadata": {},
   "source": [
    "### Para este caso realizaremos 2 analisis uno incluyendo todos los tipos de vino y en el otro estratificaremos por tipo de vino para ver que concluciones podemos sacar"
   ]
  },
  {
   "cell_type": "markdown",
   "id": "3eafd64a-4126-41ed-b234-57ad37c20c14",
   "metadata": {},
   "source": [
    "## Analisis por estratificacion de tipo de vino PCA (2 entrenaminetos 1 para white y red)"
   ]
  },
  {
   "cell_type": "code",
   "execution_count": 2001,
   "id": "dda2d768-3e28-4178-8e78-d17e02ae23f2",
   "metadata": {},
   "outputs": [],
   "source": [
    "cols_to_use = ['new_volatile acidity', 'new_residual sugar', 'pH', 'density', 'alcohol']"
   ]
  },
  {
   "cell_type": "code",
   "execution_count": 2002,
   "id": "4aac893f-e9f5-4726-938e-0156801f37ac",
   "metadata": {},
   "outputs": [],
   "source": [
    "wine_nred =  wine_limpio.loc[ wine_limpio['type']=='red' , cols_to_use].copy()"
   ]
  },
  {
   "cell_type": "code",
   "execution_count": 2003,
   "id": "c6e73e7e-e861-4404-915d-24ef858105eb",
   "metadata": {},
   "outputs": [],
   "source": [
    "wine_nwhite =  wine_limpio.loc[ wine_limpio['type']=='white' , cols_to_use ].copy()"
   ]
  },
  {
   "cell_type": "code",
   "execution_count": 2004,
   "id": "80388fd0-3503-4bc1-b847-3ffadd4594ec",
   "metadata": {},
   "outputs": [],
   "source": [
    "x = wine_nred.loc[ : , cols_to_use ].values"
   ]
  },
  {
   "cell_type": "code",
   "execution_count": 2005,
   "id": "a0a6619d-4283-4fcf-99c9-be3d766db4bd",
   "metadata": {},
   "outputs": [],
   "source": [
    "y = wine_nwhite.loc[ : , cols_to_use ].values"
   ]
  },
  {
   "cell_type": "code",
   "execution_count": 2006,
   "id": "2060cfa7-4220-4d35-8e06-ccdf90465e8d",
   "metadata": {},
   "outputs": [
    {
     "data": {
      "text/plain": [
       "array([[ 0.7    ,  1.9    ,  3.51   ,  0.9978 ,  9.4    ],\n",
       "       [ 0.88   ,  2.6    ,  3.2    ,  0.9968 ,  9.8    ],\n",
       "       [ 0.76   ,  2.3    ,  3.26   ,  0.997  ,  9.8    ],\n",
       "       ...,\n",
       "       [ 0.51   ,  2.3    ,  3.42   ,  0.99574, 11.     ],\n",
       "       [ 0.645  ,  2.     ,  3.57   ,  0.99547, 10.2    ],\n",
       "       [ 0.31   ,  3.6    ,  3.39   ,  0.99549, 11.     ]])"
      ]
     },
     "execution_count": 2006,
     "metadata": {},
     "output_type": "execute_result"
    }
   ],
   "source": [
    "x"
   ]
  },
  {
   "cell_type": "code",
   "execution_count": 2007,
   "id": "2c62d16e-3322-46c2-8b55-5fb8c2628ea5",
   "metadata": {},
   "outputs": [
    {
     "data": {
      "text/plain": [
       "array([[ 0.27      , 20.7       ,  3.        ,  1.001     ,  8.8       ],\n",
       "       [ 0.3       ,  1.6       ,  3.3       ,  0.994     ,  9.5       ],\n",
       "       [ 0.28      ,  6.9       ,  3.26      ,  0.9951    , 10.1       ],\n",
       "       ...,\n",
       "       [ 0.27825189,  1.2       ,  2.99      ,  0.99254   ,  9.4       ],\n",
       "       [ 0.29      ,  1.1       ,  3.34      ,  0.98869   , 12.8       ],\n",
       "       [ 0.21      ,  0.8       ,  3.26      ,  0.98941   , 11.8       ]])"
      ]
     },
     "execution_count": 2007,
     "metadata": {},
     "output_type": "execute_result"
    }
   ],
   "source": [
    "y"
   ]
  },
  {
   "cell_type": "code",
   "execution_count": 2008,
   "id": "51c22283-ec2a-41fc-a0ed-f2144985aec2",
   "metadata": {},
   "outputs": [],
   "source": [
    "x = StandardScaler().fit_transform(x)"
   ]
  },
  {
   "cell_type": "code",
   "execution_count": 2009,
   "id": "add699f0-53fa-4d10-9af9-eae3c8625506",
   "metadata": {},
   "outputs": [],
   "source": [
    "y = StandardScaler().fit_transform(y)"
   ]
  },
  {
   "cell_type": "code",
   "execution_count": 2010,
   "id": "01d00a1c-f913-4641-9522-5d908654f3a1",
   "metadata": {},
   "outputs": [],
   "source": [
    "pca = PCA( n_components=2 )"
   ]
  },
  {
   "cell_type": "code",
   "execution_count": 2011,
   "id": "f5ef4c82-8785-4fe6-921f-13f8dd800208",
   "metadata": {},
   "outputs": [],
   "source": [
    "principalComponents_red = pca.fit_transform(x)"
   ]
  },
  {
   "cell_type": "code",
   "execution_count": 2012,
   "id": "8c85d0c1-1f99-4fc6-9765-555f8ca86819",
   "metadata": {},
   "outputs": [],
   "source": [
    "principalComponents_white = pca.fit_transform(y)"
   ]
  },
  {
   "cell_type": "code",
   "execution_count": 2013,
   "id": "4df0431d-b1b9-43f5-8127-779d3d94b384",
   "metadata": {},
   "outputs": [],
   "source": [
    "pcadf1 = pd.DataFrame(data=principalComponents_red ,columns=['c1','c2']) "
   ]
  },
  {
   "cell_type": "code",
   "execution_count": 2014,
   "id": "e643e602-cd80-4fd1-a4c3-1e4a367cc827",
   "metadata": {},
   "outputs": [],
   "source": [
    "pcadf2 = pd.DataFrame(data=principalComponents_white ,columns=['c1','c2']) "
   ]
  },
  {
   "cell_type": "code",
   "execution_count": 2015,
   "id": "ca6e3e7e-6ede-47f9-ae35-a6b29d2725a6",
   "metadata": {},
   "outputs": [
    {
     "data": {
      "text/plain": [
       "<matplotlib.collections.PathCollection at 0x229c4c45d00>"
      ]
     },
     "execution_count": 2015,
     "metadata": {},
     "output_type": "execute_result"
    },
    {
     "data": {
      "image/png": "[encoded data removed]",
      "text/plain": [
       "<Figure size 432x288 with 1 Axes>"
      ]
     },
     "metadata": {
      "needs_background": "light"
     },
     "output_type": "display_data"
    }
   ],
   "source": [
    "plt.scatter( pcadf1['c1'] , pcadf1['c2'] )"
   ]
  },
  {
   "cell_type": "code",
   "execution_count": 2016,
   "id": "de7c2084-3509-4332-b081-00cb9315c214",
   "metadata": {},
   "outputs": [
    {
     "data": {
      "text/plain": [
       "<matplotlib.collections.PathCollection at 0x229c4ca2460>"
      ]
     },
     "execution_count": 2016,
     "metadata": {},
     "output_type": "execute_result"
    },
    {
     "data": {
      "image/png": "[encoded data removed]",
      "text/plain": [
       "<Figure size 432x288 with 1 Axes>"
      ]
     },
     "metadata": {
      "needs_background": "light"
     },
     "output_type": "display_data"
    }
   ],
   "source": [
    "plt.scatter( pcadf2['c1'] , pcadf2['c2'] )"
   ]
  },
  {
   "cell_type": "code",
   "execution_count": 2017,
   "id": "54b09fb4-9d07-4f1d-88fd-c53448090456",
   "metadata": {},
   "outputs": [],
   "source": [
    "km_red = KMeans( n_clusters=3  ).fit(pcadf1)"
   ]
  },
  {
   "cell_type": "code",
   "execution_count": 2018,
   "id": "d8d8a55a-ed25-488f-bf41-9a808cc1fd0a",
   "metadata": {},
   "outputs": [],
   "source": [
    "km_white = KMeans( n_clusters=3  ).fit(pcadf2)"
   ]
  },
  {
   "cell_type": "code",
   "execution_count": 2019,
   "id": "f01be9d2-3f92-428d-910c-09e7ebe1d1ce",
   "metadata": {},
   "outputs": [
    {
     "data": {
      "text/plain": [
       "array([[ 1.57136884,  0.76072526],\n",
       "       [-0.04156591, -0.90600175],\n",
       "       [-1.25983066,  0.71613982]])"
      ]
     },
     "execution_count": 2019,
     "metadata": {},
     "output_type": "execute_result"
    }
   ],
   "source": [
    "km_red.cluster_centers_"
   ]
  },
  {
   "cell_type": "code",
   "execution_count": 2020,
   "id": "3d1dc12c-ceca-43ca-a832-700712566246",
   "metadata": {},
   "outputs": [
    {
     "data": {
      "text/plain": [
       "array([[-1.3494097 , -0.81659168],\n",
       "       [ 1.70357699, -0.16910398],\n",
       "       [-0.63167527,  0.89406841]])"
      ]
     },
     "execution_count": 2020,
     "metadata": {},
     "output_type": "execute_result"
    }
   ],
   "source": [
    "km_white.cluster_centers_"
   ]
  },
  {
   "cell_type": "code",
   "execution_count": 2021,
   "id": "a61dacef-de2a-4124-95d8-db4ed651d1dd",
   "metadata": {},
   "outputs": [],
   "source": [
    "cetroids = km_red.cluster_centers_"
   ]
  },
  {
   "cell_type": "code",
   "execution_count": 2022,
   "id": "f00c2475-6676-4a22-9900-6cbde25e92c4",
   "metadata": {},
   "outputs": [],
   "source": [
    "cetroids = km_white.cluster_centers_"
   ]
  },
  {
   "cell_type": "code",
   "execution_count": 2023,
   "id": "cdb8c659-676f-48d0-84a0-dea85d0b78c1",
   "metadata": {},
   "outputs": [
    {
     "data": {
      "text/plain": [
       "array([1, 1, 1, ..., 0, 1, 2])"
      ]
     },
     "execution_count": 2023,
     "metadata": {},
     "output_type": "execute_result"
    }
   ],
   "source": [
    "km_red.labels_"
   ]
  },
  {
   "cell_type": "code",
   "execution_count": 2024,
   "id": "7e32e641-4786-48ea-b81b-8b881cc311d4",
   "metadata": {},
   "outputs": [
    {
     "data": {
      "text/plain": [
       "array([1, 2, 2, ..., 0, 0, 2])"
      ]
     },
     "execution_count": 2024,
     "metadata": {},
     "output_type": "execute_result"
    }
   ],
   "source": [
    "km_white.labels_"
   ]
  },
  {
   "cell_type": "code",
   "execution_count": 2025,
   "id": "e736c292-4abf-42af-ac39-4e99812c9d99",
   "metadata": {},
   "outputs": [
    {
     "data": {
      "text/plain": [
       "<matplotlib.collections.PathCollection at 0x229c4d8d790>"
      ]
     },
     "execution_count": 2025,
     "metadata": {},
     "output_type": "execute_result"
    },
    {
     "data": {
      "image/png": "[encoded data removed]",
      "text/plain": [
       "<Figure size 432x288 with 1 Axes>"
      ]
     },
     "metadata": {
      "needs_background": "light"
     },
     "output_type": "display_data"
    }
   ],
   "source": [
    "plt.scatter( pcadf1['c1'] , pcadf1['c2'] , c=km_red.labels_.astype(float) , s=50, alpha=0.5 )"
   ]
  },
  {
   "cell_type": "code",
   "execution_count": 2026,
   "id": "96a1e056-b2f9-453d-b642-0352ff5e059e",
   "metadata": {},
   "outputs": [
    {
     "data": {
      "text/plain": [
       "<matplotlib.collections.PathCollection at 0x229c4decd90>"
      ]
     },
     "execution_count": 2026,
     "metadata": {},
     "output_type": "execute_result"
    },
    {
     "data": {
      "image/png": "[encoded data removed]",
      "text/plain": [
       "<Figure size 432x288 with 1 Axes>"
      ]
     },
     "metadata": {
      "needs_background": "light"
     },
     "output_type": "display_data"
    }
   ],
   "source": [
    "plt.scatter( pcadf2['c1'] , pcadf2['c2'] , c=km_white.labels_.astype(float) , s=50, alpha=0.5 )"
   ]
  },
  {
   "cell_type": "code",
   "execution_count": 2027,
   "id": "a40036f2-6a11-46ec-834f-18a397615999",
   "metadata": {},
   "outputs": [],
   "source": [
    "wine_white1['cluster'] = km_white.labels_"
   ]
  },
  {
   "cell_type": "code",
   "execution_count": 2028,
   "id": "37521207-15d9-45ef-9282-86bb0e3016d3",
   "metadata": {},
   "outputs": [
    {
     "data": {
      "text/html": [
       "<div>\n",
       "<style scoped>\n",
       "    .dataframe tbody tr th:only-of-type {\n",
       "        vertical-align: middle;\n",
       "    }\n",
       "\n",
       "    .dataframe tbody tr th {\n",
       "        vertical-align: top;\n",
       "    }\n",
       "\n",
       "    .dataframe thead th {\n",
       "        text-align: right;\n",
       "    }\n",
       "</style>\n",
       "<table border=\"1\" class=\"dataframe\">\n",
       "  <thead>\n",
       "    <tr style=\"text-align: right;\">\n",
       "      <th></th>\n",
       "      <th>type</th>\n",
       "      <th>new_fixed acidity</th>\n",
       "      <th>new_volatile acidity</th>\n",
       "      <th>new_citric acid</th>\n",
       "      <th>new_residual sugar</th>\n",
       "      <th>new_chlorides</th>\n",
       "      <th>new_free sulfur dioxide</th>\n",
       "      <th>new_total sulfur dioxide</th>\n",
       "      <th>density</th>\n",
       "      <th>pH</th>\n",
       "      <th>new_sulphates</th>\n",
       "      <th>alcohol</th>\n",
       "      <th>quality</th>\n",
       "      <th>cluster</th>\n",
       "    </tr>\n",
       "  </thead>\n",
       "  <tbody>\n",
       "    <tr>\n",
       "      <th>0</th>\n",
       "      <td>white</td>\n",
       "      <td>7.0</td>\n",
       "      <td>0.270000</td>\n",
       "      <td>0.36</td>\n",
       "      <td>20.7</td>\n",
       "      <td>0.045</td>\n",
       "      <td>45.0</td>\n",
       "      <td>170.0</td>\n",
       "      <td>1.00100</td>\n",
       "      <td>3.00</td>\n",
       "      <td>0.45</td>\n",
       "      <td>8.8</td>\n",
       "      <td>6</td>\n",
       "      <td>1</td>\n",
       "    </tr>\n",
       "    <tr>\n",
       "      <th>1</th>\n",
       "      <td>white</td>\n",
       "      <td>6.3</td>\n",
       "      <td>0.300000</td>\n",
       "      <td>0.34</td>\n",
       "      <td>1.6</td>\n",
       "      <td>0.049</td>\n",
       "      <td>14.0</td>\n",
       "      <td>132.0</td>\n",
       "      <td>0.99400</td>\n",
       "      <td>3.30</td>\n",
       "      <td>0.49</td>\n",
       "      <td>9.5</td>\n",
       "      <td>6</td>\n",
       "      <td>2</td>\n",
       "    </tr>\n",
       "    <tr>\n",
       "      <th>2</th>\n",
       "      <td>white</td>\n",
       "      <td>8.1</td>\n",
       "      <td>0.280000</td>\n",
       "      <td>0.40</td>\n",
       "      <td>6.9</td>\n",
       "      <td>0.050</td>\n",
       "      <td>30.0</td>\n",
       "      <td>97.0</td>\n",
       "      <td>0.99510</td>\n",
       "      <td>3.26</td>\n",
       "      <td>0.44</td>\n",
       "      <td>10.1</td>\n",
       "      <td>6</td>\n",
       "      <td>2</td>\n",
       "    </tr>\n",
       "    <tr>\n",
       "      <th>3</th>\n",
       "      <td>white</td>\n",
       "      <td>7.2</td>\n",
       "      <td>0.230000</td>\n",
       "      <td>0.32</td>\n",
       "      <td>8.5</td>\n",
       "      <td>0.058</td>\n",
       "      <td>47.0</td>\n",
       "      <td>186.0</td>\n",
       "      <td>0.99560</td>\n",
       "      <td>3.19</td>\n",
       "      <td>0.40</td>\n",
       "      <td>9.9</td>\n",
       "      <td>6</td>\n",
       "      <td>1</td>\n",
       "    </tr>\n",
       "    <tr>\n",
       "      <th>4</th>\n",
       "      <td>white</td>\n",
       "      <td>7.2</td>\n",
       "      <td>0.230000</td>\n",
       "      <td>0.32</td>\n",
       "      <td>8.5</td>\n",
       "      <td>0.058</td>\n",
       "      <td>47.0</td>\n",
       "      <td>186.0</td>\n",
       "      <td>0.99560</td>\n",
       "      <td>3.19</td>\n",
       "      <td>0.40</td>\n",
       "      <td>9.9</td>\n",
       "      <td>6</td>\n",
       "      <td>1</td>\n",
       "    </tr>\n",
       "    <tr>\n",
       "      <th>...</th>\n",
       "      <td>...</td>\n",
       "      <td>...</td>\n",
       "      <td>...</td>\n",
       "      <td>...</td>\n",
       "      <td>...</td>\n",
       "      <td>...</td>\n",
       "      <td>...</td>\n",
       "      <td>...</td>\n",
       "      <td>...</td>\n",
       "      <td>...</td>\n",
       "      <td>...</td>\n",
       "      <td>...</td>\n",
       "      <td>...</td>\n",
       "      <td>...</td>\n",
       "    </tr>\n",
       "    <tr>\n",
       "      <th>4893</th>\n",
       "      <td>white</td>\n",
       "      <td>6.2</td>\n",
       "      <td>0.210000</td>\n",
       "      <td>0.29</td>\n",
       "      <td>1.6</td>\n",
       "      <td>0.039</td>\n",
       "      <td>24.0</td>\n",
       "      <td>92.0</td>\n",
       "      <td>0.99114</td>\n",
       "      <td>3.27</td>\n",
       "      <td>0.50</td>\n",
       "      <td>11.2</td>\n",
       "      <td>6</td>\n",
       "      <td>2</td>\n",
       "    </tr>\n",
       "    <tr>\n",
       "      <th>4894</th>\n",
       "      <td>white</td>\n",
       "      <td>6.6</td>\n",
       "      <td>0.320000</td>\n",
       "      <td>0.36</td>\n",
       "      <td>8.0</td>\n",
       "      <td>0.047</td>\n",
       "      <td>57.0</td>\n",
       "      <td>168.0</td>\n",
       "      <td>0.99490</td>\n",
       "      <td>3.15</td>\n",
       "      <td>0.46</td>\n",
       "      <td>9.6</td>\n",
       "      <td>5</td>\n",
       "      <td>1</td>\n",
       "    </tr>\n",
       "    <tr>\n",
       "      <th>4895</th>\n",
       "      <td>white</td>\n",
       "      <td>6.5</td>\n",
       "      <td>0.278252</td>\n",
       "      <td>0.19</td>\n",
       "      <td>1.2</td>\n",
       "      <td>0.041</td>\n",
       "      <td>30.0</td>\n",
       "      <td>111.0</td>\n",
       "      <td>0.99254</td>\n",
       "      <td>2.99</td>\n",
       "      <td>0.46</td>\n",
       "      <td>9.4</td>\n",
       "      <td>6</td>\n",
       "      <td>0</td>\n",
       "    </tr>\n",
       "    <tr>\n",
       "      <th>4896</th>\n",
       "      <td>white</td>\n",
       "      <td>5.5</td>\n",
       "      <td>0.290000</td>\n",
       "      <td>0.30</td>\n",
       "      <td>1.1</td>\n",
       "      <td>0.022</td>\n",
       "      <td>20.0</td>\n",
       "      <td>110.0</td>\n",
       "      <td>0.98869</td>\n",
       "      <td>3.34</td>\n",
       "      <td>0.38</td>\n",
       "      <td>12.8</td>\n",
       "      <td>7</td>\n",
       "      <td>0</td>\n",
       "    </tr>\n",
       "    <tr>\n",
       "      <th>4897</th>\n",
       "      <td>white</td>\n",
       "      <td>6.0</td>\n",
       "      <td>0.210000</td>\n",
       "      <td>0.38</td>\n",
       "      <td>0.8</td>\n",
       "      <td>0.020</td>\n",
       "      <td>22.0</td>\n",
       "      <td>98.0</td>\n",
       "      <td>0.98941</td>\n",
       "      <td>3.26</td>\n",
       "      <td>0.32</td>\n",
       "      <td>11.8</td>\n",
       "      <td>6</td>\n",
       "      <td>2</td>\n",
       "    </tr>\n",
       "  </tbody>\n",
       "</table>\n",
       "<p>4898 rows × 14 columns</p>\n",
       "</div>"
      ],
      "text/plain": [
       "       type  new_fixed acidity  new_volatile acidity  new_citric acid  \\\n",
       "0     white                7.0              0.270000             0.36   \n",
       "1     white                6.3              0.300000             0.34   \n",
       "2     white                8.1              0.280000             0.40   \n",
       "3     white                7.2              0.230000             0.32   \n",
       "4     white                7.2              0.230000             0.32   \n",
       "...     ...                ...                   ...              ...   \n",
       "4893  white                6.2              0.210000             0.29   \n",
       "4894  white                6.6              0.320000             0.36   \n",
       "4895  white                6.5              0.278252             0.19   \n",
       "4896  white                5.5              0.290000             0.30   \n",
       "4897  white                6.0              0.210000             0.38   \n",
       "\n",
       "      new_residual sugar  new_chlorides  new_free sulfur dioxide  \\\n",
       "0                   20.7          0.045                     45.0   \n",
       "1                    1.6          0.049                     14.0   \n",
       "2                    6.9          0.050                     30.0   \n",
       "3                    8.5          0.058                     47.0   \n",
       "4                    8.5          0.058                     47.0   \n",
       "...                  ...            ...                      ...   \n",
       "4893                 1.6          0.039                     24.0   \n",
       "4894                 8.0          0.047                     57.0   \n",
       "4895                 1.2          0.041                     30.0   \n",
       "4896                 1.1          0.022                     20.0   \n",
       "4897                 0.8          0.020                     22.0   \n",
       "\n",
       "      new_total sulfur dioxide  density    pH  new_sulphates  alcohol  \\\n",
       "0                        170.0  1.00100  3.00           0.45      8.8   \n",
       "1                        132.0  0.99400  3.30           0.49      9.5   \n",
       "2                         97.0  0.99510  3.26           0.44     10.1   \n",
       "3                        186.0  0.99560  3.19           0.40      9.9   \n",
       "4                        186.0  0.99560  3.19           0.40      9.9   \n",
       "...                        ...      ...   ...            ...      ...   \n",
       "4893                      92.0  0.99114  3.27           0.50     11.2   \n",
       "4894                     168.0  0.99490  3.15           0.46      9.6   \n",
       "4895                     111.0  0.99254  2.99           0.46      9.4   \n",
       "4896                     110.0  0.98869  3.34           0.38     12.8   \n",
       "4897                      98.0  0.98941  3.26           0.32     11.8   \n",
       "\n",
       "      quality  cluster  \n",
       "0           6        1  \n",
       "1           6        2  \n",
       "2           6        2  \n",
       "3           6        1  \n",
       "4           6        1  \n",
       "...       ...      ...  \n",
       "4893        6        2  \n",
       "4894        5        1  \n",
       "4895        6        0  \n",
       "4896        7        0  \n",
       "4897        6        2  \n",
       "\n",
       "[4898 rows x 14 columns]"
      ]
     },
     "execution_count": 2028,
     "metadata": {},
     "output_type": "execute_result"
    }
   ],
   "source": [
    "wine_white1"
   ]
  },
  {
   "cell_type": "code",
   "execution_count": 2029,
   "id": "934de211-c7a2-4d13-8dff-a3dc8b0bbe66",
   "metadata": {},
   "outputs": [],
   "source": [
    "wine_red1['cluster'] = km_red.labels_"
   ]
  },
  {
   "cell_type": "code",
   "execution_count": 2030,
   "id": "e9be6478-b5ac-47be-a7da-07eeefaa40ce",
   "metadata": {},
   "outputs": [
    {
     "data": {
      "text/html": [
       "<div>\n",
       "<style scoped>\n",
       "    .dataframe tbody tr th:only-of-type {\n",
       "        vertical-align: middle;\n",
       "    }\n",
       "\n",
       "    .dataframe tbody tr th {\n",
       "        vertical-align: top;\n",
       "    }\n",
       "\n",
       "    .dataframe thead th {\n",
       "        text-align: right;\n",
       "    }\n",
       "</style>\n",
       "<table border=\"1\" class=\"dataframe\">\n",
       "  <thead>\n",
       "    <tr style=\"text-align: right;\">\n",
       "      <th></th>\n",
       "      <th>type</th>\n",
       "      <th>new_fixed acidity</th>\n",
       "      <th>new_volatile acidity</th>\n",
       "      <th>new_citric acid</th>\n",
       "      <th>new_residual sugar</th>\n",
       "      <th>new_chlorides</th>\n",
       "      <th>new_free sulfur dioxide</th>\n",
       "      <th>new_total sulfur dioxide</th>\n",
       "      <th>density</th>\n",
       "      <th>pH</th>\n",
       "      <th>new_sulphates</th>\n",
       "      <th>alcohol</th>\n",
       "      <th>quality</th>\n",
       "      <th>cluster</th>\n",
       "    </tr>\n",
       "  </thead>\n",
       "  <tbody>\n",
       "    <tr>\n",
       "      <th>4898</th>\n",
       "      <td>red</td>\n",
       "      <td>7.4</td>\n",
       "      <td>0.700</td>\n",
       "      <td>0.00</td>\n",
       "      <td>1.9</td>\n",
       "      <td>0.076</td>\n",
       "      <td>11.0</td>\n",
       "      <td>34.0</td>\n",
       "      <td>0.99780</td>\n",
       "      <td>3.51</td>\n",
       "      <td>0.560000</td>\n",
       "      <td>9.4</td>\n",
       "      <td>5</td>\n",
       "      <td>1</td>\n",
       "    </tr>\n",
       "    <tr>\n",
       "      <th>4899</th>\n",
       "      <td>red</td>\n",
       "      <td>7.8</td>\n",
       "      <td>0.880</td>\n",
       "      <td>0.00</td>\n",
       "      <td>2.6</td>\n",
       "      <td>0.098</td>\n",
       "      <td>25.0</td>\n",
       "      <td>67.0</td>\n",
       "      <td>0.99680</td>\n",
       "      <td>3.20</td>\n",
       "      <td>0.680000</td>\n",
       "      <td>9.8</td>\n",
       "      <td>5</td>\n",
       "      <td>1</td>\n",
       "    </tr>\n",
       "    <tr>\n",
       "      <th>4900</th>\n",
       "      <td>red</td>\n",
       "      <td>7.8</td>\n",
       "      <td>0.760</td>\n",
       "      <td>0.04</td>\n",
       "      <td>2.3</td>\n",
       "      <td>0.092</td>\n",
       "      <td>15.0</td>\n",
       "      <td>54.0</td>\n",
       "      <td>0.99700</td>\n",
       "      <td>3.26</td>\n",
       "      <td>0.650000</td>\n",
       "      <td>9.8</td>\n",
       "      <td>5</td>\n",
       "      <td>1</td>\n",
       "    </tr>\n",
       "    <tr>\n",
       "      <th>4901</th>\n",
       "      <td>red</td>\n",
       "      <td>11.2</td>\n",
       "      <td>0.280</td>\n",
       "      <td>0.56</td>\n",
       "      <td>1.9</td>\n",
       "      <td>0.075</td>\n",
       "      <td>17.0</td>\n",
       "      <td>60.0</td>\n",
       "      <td>0.99800</td>\n",
       "      <td>3.16</td>\n",
       "      <td>0.580000</td>\n",
       "      <td>9.8</td>\n",
       "      <td>6</td>\n",
       "      <td>2</td>\n",
       "    </tr>\n",
       "    <tr>\n",
       "      <th>4902</th>\n",
       "      <td>red</td>\n",
       "      <td>7.4</td>\n",
       "      <td>0.700</td>\n",
       "      <td>0.00</td>\n",
       "      <td>1.9</td>\n",
       "      <td>0.076</td>\n",
       "      <td>11.0</td>\n",
       "      <td>34.0</td>\n",
       "      <td>0.99780</td>\n",
       "      <td>3.51</td>\n",
       "      <td>0.560000</td>\n",
       "      <td>9.4</td>\n",
       "      <td>5</td>\n",
       "      <td>1</td>\n",
       "    </tr>\n",
       "    <tr>\n",
       "      <th>...</th>\n",
       "      <td>...</td>\n",
       "      <td>...</td>\n",
       "      <td>...</td>\n",
       "      <td>...</td>\n",
       "      <td>...</td>\n",
       "      <td>...</td>\n",
       "      <td>...</td>\n",
       "      <td>...</td>\n",
       "      <td>...</td>\n",
       "      <td>...</td>\n",
       "      <td>...</td>\n",
       "      <td>...</td>\n",
       "      <td>...</td>\n",
       "      <td>...</td>\n",
       "    </tr>\n",
       "    <tr>\n",
       "      <th>6492</th>\n",
       "      <td>red</td>\n",
       "      <td>6.2</td>\n",
       "      <td>0.600</td>\n",
       "      <td>0.08</td>\n",
       "      <td>2.0</td>\n",
       "      <td>0.090</td>\n",
       "      <td>32.0</td>\n",
       "      <td>44.0</td>\n",
       "      <td>0.99490</td>\n",
       "      <td>3.45</td>\n",
       "      <td>0.580000</td>\n",
       "      <td>10.5</td>\n",
       "      <td>5</td>\n",
       "      <td>1</td>\n",
       "    </tr>\n",
       "    <tr>\n",
       "      <th>6493</th>\n",
       "      <td>red</td>\n",
       "      <td>5.9</td>\n",
       "      <td>0.550</td>\n",
       "      <td>0.10</td>\n",
       "      <td>2.2</td>\n",
       "      <td>0.062</td>\n",
       "      <td>39.0</td>\n",
       "      <td>51.0</td>\n",
       "      <td>0.99512</td>\n",
       "      <td>3.52</td>\n",
       "      <td>0.658078</td>\n",
       "      <td>11.2</td>\n",
       "      <td>6</td>\n",
       "      <td>0</td>\n",
       "    </tr>\n",
       "    <tr>\n",
       "      <th>6494</th>\n",
       "      <td>red</td>\n",
       "      <td>6.3</td>\n",
       "      <td>0.510</td>\n",
       "      <td>0.13</td>\n",
       "      <td>2.3</td>\n",
       "      <td>0.076</td>\n",
       "      <td>29.0</td>\n",
       "      <td>40.0</td>\n",
       "      <td>0.99574</td>\n",
       "      <td>3.42</td>\n",
       "      <td>0.750000</td>\n",
       "      <td>11.0</td>\n",
       "      <td>6</td>\n",
       "      <td>0</td>\n",
       "    </tr>\n",
       "    <tr>\n",
       "      <th>6495</th>\n",
       "      <td>red</td>\n",
       "      <td>5.9</td>\n",
       "      <td>0.645</td>\n",
       "      <td>0.12</td>\n",
       "      <td>2.0</td>\n",
       "      <td>0.075</td>\n",
       "      <td>32.0</td>\n",
       "      <td>44.0</td>\n",
       "      <td>0.99547</td>\n",
       "      <td>3.57</td>\n",
       "      <td>0.710000</td>\n",
       "      <td>10.2</td>\n",
       "      <td>5</td>\n",
       "      <td>1</td>\n",
       "    </tr>\n",
       "    <tr>\n",
       "      <th>6496</th>\n",
       "      <td>red</td>\n",
       "      <td>6.0</td>\n",
       "      <td>0.310</td>\n",
       "      <td>0.47</td>\n",
       "      <td>3.6</td>\n",
       "      <td>0.067</td>\n",
       "      <td>18.0</td>\n",
       "      <td>42.0</td>\n",
       "      <td>0.99549</td>\n",
       "      <td>3.39</td>\n",
       "      <td>0.660000</td>\n",
       "      <td>11.0</td>\n",
       "      <td>6</td>\n",
       "      <td>2</td>\n",
       "    </tr>\n",
       "  </tbody>\n",
       "</table>\n",
       "<p>1599 rows × 14 columns</p>\n",
       "</div>"
      ],
      "text/plain": [
       "     type  new_fixed acidity  new_volatile acidity  new_citric acid  \\\n",
       "4898  red                7.4                 0.700             0.00   \n",
       "4899  red                7.8                 0.880             0.00   \n",
       "4900  red                7.8                 0.760             0.04   \n",
       "4901  red               11.2                 0.280             0.56   \n",
       "4902  red                7.4                 0.700             0.00   \n",
       "...   ...                ...                   ...              ...   \n",
       "6492  red                6.2                 0.600             0.08   \n",
       "6493  red                5.9                 0.550             0.10   \n",
       "6494  red                6.3                 0.510             0.13   \n",
       "6495  red                5.9                 0.645             0.12   \n",
       "6496  red                6.0                 0.310             0.47   \n",
       "\n",
       "      new_residual sugar  new_chlorides  new_free sulfur dioxide  \\\n",
       "4898                 1.9          0.076                     11.0   \n",
       "4899                 2.6          0.098                     25.0   \n",
       "4900                 2.3          0.092                     15.0   \n",
       "4901                 1.9          0.075                     17.0   \n",
       "4902                 1.9          0.076                     11.0   \n",
       "...                  ...            ...                      ...   \n",
       "6492                 2.0          0.090                     32.0   \n",
       "6493                 2.2          0.062                     39.0   \n",
       "6494                 2.3          0.076                     29.0   \n",
       "6495                 2.0          0.075                     32.0   \n",
       "6496                 3.6          0.067                     18.0   \n",
       "\n",
       "      new_total sulfur dioxide  density    pH  new_sulphates  alcohol  \\\n",
       "4898                      34.0  0.99780  3.51       0.560000      9.4   \n",
       "4899                      67.0  0.99680  3.20       0.680000      9.8   \n",
       "4900                      54.0  0.99700  3.26       0.650000      9.8   \n",
       "4901                      60.0  0.99800  3.16       0.580000      9.8   \n",
       "4902                      34.0  0.99780  3.51       0.560000      9.4   \n",
       "...                        ...      ...   ...            ...      ...   \n",
       "6492                      44.0  0.99490  3.45       0.580000     10.5   \n",
       "6493                      51.0  0.99512  3.52       0.658078     11.2   \n",
       "6494                      40.0  0.99574  3.42       0.750000     11.0   \n",
       "6495                      44.0  0.99547  3.57       0.710000     10.2   \n",
       "6496                      42.0  0.99549  3.39       0.660000     11.0   \n",
       "\n",
       "      quality  cluster  \n",
       "4898        5        1  \n",
       "4899        5        1  \n",
       "4900        5        1  \n",
       "4901        6        2  \n",
       "4902        5        1  \n",
       "...       ...      ...  \n",
       "6492        5        1  \n",
       "6493        6        0  \n",
       "6494        6        0  \n",
       "6495        5        1  \n",
       "6496        6        2  \n",
       "\n",
       "[1599 rows x 14 columns]"
      ]
     },
     "execution_count": 2030,
     "metadata": {},
     "output_type": "execute_result"
    }
   ],
   "source": [
    "wine_red1"
   ]
  },
  {
   "cell_type": "code",
   "execution_count": 2031,
   "id": "e3dca19d-23d8-4627-9285-9b70f2b7f3dd",
   "metadata": {},
   "outputs": [],
   "source": [
    "wine_k = pd.concat([wine_white1, wine_red1])"
   ]
  },
  {
   "cell_type": "code",
   "execution_count": 2032,
   "id": "8fdd2419-6b01-4b5e-9a99-b5083d548d0c",
   "metadata": {},
   "outputs": [],
   "source": [
    "wine_k1= wine_k.loc[:,['new_volatile acidity','new_residual sugar', 'pH', 'density','alcohol', 'cluster']]"
   ]
  },
  {
   "cell_type": "code",
   "execution_count": 2033,
   "id": "4d8b2887-4830-49d2-aca7-e2dd3b4d90cd",
   "metadata": {},
   "outputs": [
    {
     "data": {
      "text/html": [
       "<div>\n",
       "<style scoped>\n",
       "    .dataframe tbody tr th:only-of-type {\n",
       "        vertical-align: middle;\n",
       "    }\n",
       "\n",
       "    .dataframe tbody tr th {\n",
       "        vertical-align: top;\n",
       "    }\n",
       "\n",
       "    .dataframe thead th {\n",
       "        text-align: right;\n",
       "    }\n",
       "</style>\n",
       "<table border=\"1\" class=\"dataframe\">\n",
       "  <thead>\n",
       "    <tr style=\"text-align: right;\">\n",
       "      <th></th>\n",
       "      <th>new_volatile acidity</th>\n",
       "      <th>new_residual sugar</th>\n",
       "      <th>pH</th>\n",
       "      <th>density</th>\n",
       "      <th>alcohol</th>\n",
       "      <th>cluster</th>\n",
       "    </tr>\n",
       "  </thead>\n",
       "  <tbody>\n",
       "    <tr>\n",
       "      <th>0</th>\n",
       "      <td>0.270</td>\n",
       "      <td>20.7</td>\n",
       "      <td>3.00</td>\n",
       "      <td>1.00100</td>\n",
       "      <td>8.8</td>\n",
       "      <td>1</td>\n",
       "    </tr>\n",
       "    <tr>\n",
       "      <th>1</th>\n",
       "      <td>0.300</td>\n",
       "      <td>1.6</td>\n",
       "      <td>3.30</td>\n",
       "      <td>0.99400</td>\n",
       "      <td>9.5</td>\n",
       "      <td>2</td>\n",
       "    </tr>\n",
       "    <tr>\n",
       "      <th>2</th>\n",
       "      <td>0.280</td>\n",
       "      <td>6.9</td>\n",
       "      <td>3.26</td>\n",
       "      <td>0.99510</td>\n",
       "      <td>10.1</td>\n",
       "      <td>2</td>\n",
       "    </tr>\n",
       "    <tr>\n",
       "      <th>3</th>\n",
       "      <td>0.230</td>\n",
       "      <td>8.5</td>\n",
       "      <td>3.19</td>\n",
       "      <td>0.99560</td>\n",
       "      <td>9.9</td>\n",
       "      <td>1</td>\n",
       "    </tr>\n",
       "    <tr>\n",
       "      <th>4</th>\n",
       "      <td>0.230</td>\n",
       "      <td>8.5</td>\n",
       "      <td>3.19</td>\n",
       "      <td>0.99560</td>\n",
       "      <td>9.9</td>\n",
       "      <td>1</td>\n",
       "    </tr>\n",
       "    <tr>\n",
       "      <th>...</th>\n",
       "      <td>...</td>\n",
       "      <td>...</td>\n",
       "      <td>...</td>\n",
       "      <td>...</td>\n",
       "      <td>...</td>\n",
       "      <td>...</td>\n",
       "    </tr>\n",
       "    <tr>\n",
       "      <th>6492</th>\n",
       "      <td>0.600</td>\n",
       "      <td>2.0</td>\n",
       "      <td>3.45</td>\n",
       "      <td>0.99490</td>\n",
       "      <td>10.5</td>\n",
       "      <td>1</td>\n",
       "    </tr>\n",
       "    <tr>\n",
       "      <th>6493</th>\n",
       "      <td>0.550</td>\n",
       "      <td>2.2</td>\n",
       "      <td>3.52</td>\n",
       "      <td>0.99512</td>\n",
       "      <td>11.2</td>\n",
       "      <td>0</td>\n",
       "    </tr>\n",
       "    <tr>\n",
       "      <th>6494</th>\n",
       "      <td>0.510</td>\n",
       "      <td>2.3</td>\n",
       "      <td>3.42</td>\n",
       "      <td>0.99574</td>\n",
       "      <td>11.0</td>\n",
       "      <td>0</td>\n",
       "    </tr>\n",
       "    <tr>\n",
       "      <th>6495</th>\n",
       "      <td>0.645</td>\n",
       "      <td>2.0</td>\n",
       "      <td>3.57</td>\n",
       "      <td>0.99547</td>\n",
       "      <td>10.2</td>\n",
       "      <td>1</td>\n",
       "    </tr>\n",
       "    <tr>\n",
       "      <th>6496</th>\n",
       "      <td>0.310</td>\n",
       "      <td>3.6</td>\n",
       "      <td>3.39</td>\n",
       "      <td>0.99549</td>\n",
       "      <td>11.0</td>\n",
       "      <td>2</td>\n",
       "    </tr>\n",
       "  </tbody>\n",
       "</table>\n",
       "<p>6497 rows × 6 columns</p>\n",
       "</div>"
      ],
      "text/plain": [
       "      new_volatile acidity  new_residual sugar    pH  density  alcohol  \\\n",
       "0                    0.270                20.7  3.00  1.00100      8.8   \n",
       "1                    0.300                 1.6  3.30  0.99400      9.5   \n",
       "2                    0.280                 6.9  3.26  0.99510     10.1   \n",
       "3                    0.230                 8.5  3.19  0.99560      9.9   \n",
       "4                    0.230                 8.5  3.19  0.99560      9.9   \n",
       "...                    ...                 ...   ...      ...      ...   \n",
       "6492                 0.600                 2.0  3.45  0.99490     10.5   \n",
       "6493                 0.550                 2.2  3.52  0.99512     11.2   \n",
       "6494                 0.510                 2.3  3.42  0.99574     11.0   \n",
       "6495                 0.645                 2.0  3.57  0.99547     10.2   \n",
       "6496                 0.310                 3.6  3.39  0.99549     11.0   \n",
       "\n",
       "      cluster  \n",
       "0           1  \n",
       "1           2  \n",
       "2           2  \n",
       "3           1  \n",
       "4           1  \n",
       "...       ...  \n",
       "6492        1  \n",
       "6493        0  \n",
       "6494        0  \n",
       "6495        1  \n",
       "6496        2  \n",
       "\n",
       "[6497 rows x 6 columns]"
      ]
     },
     "execution_count": 2033,
     "metadata": {},
     "output_type": "execute_result"
    }
   ],
   "source": [
    "wine_k1"
   ]
  },
  {
   "cell_type": "code",
   "execution_count": 2034,
   "id": "aa2e1654-91dd-4d2a-b042-28a118b01d35",
   "metadata": {},
   "outputs": [
    {
     "data": {
      "text/html": [
       "<div>\n",
       "<style scoped>\n",
       "    .dataframe tbody tr th:only-of-type {\n",
       "        vertical-align: middle;\n",
       "    }\n",
       "\n",
       "    .dataframe tbody tr th {\n",
       "        vertical-align: top;\n",
       "    }\n",
       "\n",
       "    .dataframe thead th {\n",
       "        text-align: right;\n",
       "    }\n",
       "</style>\n",
       "<table border=\"1\" class=\"dataframe\">\n",
       "  <thead>\n",
       "    <tr style=\"text-align: right;\">\n",
       "      <th></th>\n",
       "      <th>new_volatile acidity</th>\n",
       "      <th>new_residual sugar</th>\n",
       "      <th>pH</th>\n",
       "      <th>density</th>\n",
       "      <th>alcohol</th>\n",
       "      <th>cluster</th>\n",
       "    </tr>\n",
       "  </thead>\n",
       "  <tbody>\n",
       "    <tr>\n",
       "      <th>count</th>\n",
       "      <td>1861.000000</td>\n",
       "      <td>1861.000000</td>\n",
       "      <td>1861.000000</td>\n",
       "      <td>1861.000000</td>\n",
       "      <td>1861.000000</td>\n",
       "      <td>1861.0</td>\n",
       "    </tr>\n",
       "    <tr>\n",
       "      <th>mean</th>\n",
       "      <td>0.335784</td>\n",
       "      <td>3.180848</td>\n",
       "      <td>3.200692</td>\n",
       "      <td>0.992100</td>\n",
       "      <td>11.694043</td>\n",
       "      <td>0.0</td>\n",
       "    </tr>\n",
       "    <tr>\n",
       "      <th>std</th>\n",
       "      <td>0.095673</td>\n",
       "      <td>2.411543</td>\n",
       "      <td>0.166339</td>\n",
       "      <td>0.002094</td>\n",
       "      <td>1.022158</td>\n",
       "      <td>0.0</td>\n",
       "    </tr>\n",
       "    <tr>\n",
       "      <th>min</th>\n",
       "      <td>0.120000</td>\n",
       "      <td>0.600000</td>\n",
       "      <td>2.740000</td>\n",
       "      <td>0.987110</td>\n",
       "      <td>8.800000</td>\n",
       "      <td>0.0</td>\n",
       "    </tr>\n",
       "    <tr>\n",
       "      <th>25%</th>\n",
       "      <td>0.278252</td>\n",
       "      <td>1.600000</td>\n",
       "      <td>3.080000</td>\n",
       "      <td>0.990480</td>\n",
       "      <td>11.000000</td>\n",
       "      <td>0.0</td>\n",
       "    </tr>\n",
       "    <tr>\n",
       "      <th>50%</th>\n",
       "      <td>0.320000</td>\n",
       "      <td>2.200000</td>\n",
       "      <td>3.190000</td>\n",
       "      <td>0.991800</td>\n",
       "      <td>11.800000</td>\n",
       "      <td>0.0</td>\n",
       "    </tr>\n",
       "    <tr>\n",
       "      <th>75%</th>\n",
       "      <td>0.380000</td>\n",
       "      <td>4.200000</td>\n",
       "      <td>3.300000</td>\n",
       "      <td>0.993580</td>\n",
       "      <td>12.500000</td>\n",
       "      <td>0.0</td>\n",
       "    </tr>\n",
       "    <tr>\n",
       "      <th>max</th>\n",
       "      <td>0.850000</td>\n",
       "      <td>15.500000</td>\n",
       "      <td>4.010000</td>\n",
       "      <td>0.997690</td>\n",
       "      <td>14.900000</td>\n",
       "      <td>0.0</td>\n",
       "    </tr>\n",
       "  </tbody>\n",
       "</table>\n",
       "</div>"
      ],
      "text/plain": [
       "       new_volatile acidity  new_residual sugar           pH      density  \\\n",
       "count           1861.000000         1861.000000  1861.000000  1861.000000   \n",
       "mean               0.335784            3.180848     3.200692     0.992100   \n",
       "std                0.095673            2.411543     0.166339     0.002094   \n",
       "min                0.120000            0.600000     2.740000     0.987110   \n",
       "25%                0.278252            1.600000     3.080000     0.990480   \n",
       "50%                0.320000            2.200000     3.190000     0.991800   \n",
       "75%                0.380000            4.200000     3.300000     0.993580   \n",
       "max                0.850000           15.500000     4.010000     0.997690   \n",
       "\n",
       "           alcohol  cluster  \n",
       "count  1861.000000   1861.0  \n",
       "mean     11.694043      0.0  \n",
       "std       1.022158      0.0  \n",
       "min       8.800000      0.0  \n",
       "25%      11.000000      0.0  \n",
       "50%      11.800000      0.0  \n",
       "75%      12.500000      0.0  \n",
       "max      14.900000      0.0  "
      ]
     },
     "execution_count": 2034,
     "metadata": {},
     "output_type": "execute_result"
    }
   ],
   "source": [
    "wine_k1.loc[ wine_k1['cluster'] == 0 , : ].describe()"
   ]
  },
  {
   "cell_type": "code",
   "execution_count": 2035,
   "id": "6e75f51f-f6f8-44d1-9000-6776480aa45f",
   "metadata": {},
   "outputs": [
    {
     "data": {
      "text/html": [
       "<div>\n",
       "<style scoped>\n",
       "    .dataframe tbody tr th:only-of-type {\n",
       "        vertical-align: middle;\n",
       "    }\n",
       "\n",
       "    .dataframe tbody tr th {\n",
       "        vertical-align: top;\n",
       "    }\n",
       "\n",
       "    .dataframe thead th {\n",
       "        text-align: right;\n",
       "    }\n",
       "</style>\n",
       "<table border=\"1\" class=\"dataframe\">\n",
       "  <thead>\n",
       "    <tr style=\"text-align: right;\">\n",
       "      <th></th>\n",
       "      <th>new_volatile acidity</th>\n",
       "      <th>new_residual sugar</th>\n",
       "      <th>pH</th>\n",
       "      <th>density</th>\n",
       "      <th>alcohol</th>\n",
       "      <th>cluster</th>\n",
       "    </tr>\n",
       "  </thead>\n",
       "  <tbody>\n",
       "    <tr>\n",
       "      <th>count</th>\n",
       "      <td>2488.00000</td>\n",
       "      <td>2488.000000</td>\n",
       "      <td>2488.000000</td>\n",
       "      <td>2488.000000</td>\n",
       "      <td>2488.000000</td>\n",
       "      <td>2488.0</td>\n",
       "    </tr>\n",
       "    <tr>\n",
       "      <th>mean</th>\n",
       "      <td>0.37912</td>\n",
       "      <td>8.703796</td>\n",
       "      <td>3.202607</td>\n",
       "      <td>0.997002</td>\n",
       "      <td>9.602572</td>\n",
       "      <td>1.0</td>\n",
       "    </tr>\n",
       "    <tr>\n",
       "      <th>std</th>\n",
       "      <td>0.18511</td>\n",
       "      <td>5.331241</td>\n",
       "      <td>0.162220</td>\n",
       "      <td>0.001802</td>\n",
       "      <td>0.650146</td>\n",
       "      <td>0.0</td>\n",
       "    </tr>\n",
       "    <tr>\n",
       "      <th>min</th>\n",
       "      <td>0.10500</td>\n",
       "      <td>1.200000</td>\n",
       "      <td>2.720000</td>\n",
       "      <td>0.993380</td>\n",
       "      <td>8.000000</td>\n",
       "      <td>1.0</td>\n",
       "    </tr>\n",
       "    <tr>\n",
       "      <th>25%</th>\n",
       "      <td>0.25000</td>\n",
       "      <td>2.538806</td>\n",
       "      <td>3.090000</td>\n",
       "      <td>0.995800</td>\n",
       "      <td>9.100000</td>\n",
       "      <td>1.0</td>\n",
       "    </tr>\n",
       "    <tr>\n",
       "      <th>50%</th>\n",
       "      <td>0.31000</td>\n",
       "      <td>8.800000</td>\n",
       "      <td>3.180000</td>\n",
       "      <td>0.996860</td>\n",
       "      <td>9.500000</td>\n",
       "      <td>1.0</td>\n",
       "    </tr>\n",
       "    <tr>\n",
       "      <th>75%</th>\n",
       "      <td>0.49000</td>\n",
       "      <td>13.000000</td>\n",
       "      <td>3.310000</td>\n",
       "      <td>0.998000</td>\n",
       "      <td>9.900000</td>\n",
       "      <td>1.0</td>\n",
       "    </tr>\n",
       "    <tr>\n",
       "      <th>max</th>\n",
       "      <td>1.01000</td>\n",
       "      <td>22.000000</td>\n",
       "      <td>3.690000</td>\n",
       "      <td>1.038980</td>\n",
       "      <td>12.700000</td>\n",
       "      <td>1.0</td>\n",
       "    </tr>\n",
       "  </tbody>\n",
       "</table>\n",
       "</div>"
      ],
      "text/plain": [
       "       new_volatile acidity  new_residual sugar           pH      density  \\\n",
       "count            2488.00000         2488.000000  2488.000000  2488.000000   \n",
       "mean                0.37912            8.703796     3.202607     0.997002   \n",
       "std                 0.18511            5.331241     0.162220     0.001802   \n",
       "min                 0.10500            1.200000     2.720000     0.993380   \n",
       "25%                 0.25000            2.538806     3.090000     0.995800   \n",
       "50%                 0.31000            8.800000     3.180000     0.996860   \n",
       "75%                 0.49000           13.000000     3.310000     0.998000   \n",
       "max                 1.01000           22.000000     3.690000     1.038980   \n",
       "\n",
       "           alcohol  cluster  \n",
       "count  2488.000000   2488.0  \n",
       "mean      9.602572      1.0  \n",
       "std       0.650146      0.0  \n",
       "min       8.000000      1.0  \n",
       "25%       9.100000      1.0  \n",
       "50%       9.500000      1.0  \n",
       "75%       9.900000      1.0  \n",
       "max      12.700000      1.0  "
      ]
     },
     "execution_count": 2035,
     "metadata": {},
     "output_type": "execute_result"
    }
   ],
   "source": [
    "wine_k1.loc[ wine_k1['cluster'] == 1 , : ].describe()"
   ]
  },
  {
   "cell_type": "code",
   "execution_count": 2036,
   "id": "4a02e152-2e54-430c-8d6c-4a5526fe3f77",
   "metadata": {},
   "outputs": [
    {
     "data": {
      "text/html": [
       "<div>\n",
       "<style scoped>\n",
       "    .dataframe tbody tr th:only-of-type {\n",
       "        vertical-align: middle;\n",
       "    }\n",
       "\n",
       "    .dataframe tbody tr th {\n",
       "        vertical-align: top;\n",
       "    }\n",
       "\n",
       "    .dataframe thead th {\n",
       "        text-align: right;\n",
       "    }\n",
       "</style>\n",
       "<table border=\"1\" class=\"dataframe\">\n",
       "  <thead>\n",
       "    <tr style=\"text-align: right;\">\n",
       "      <th></th>\n",
       "      <th>new_volatile acidity</th>\n",
       "      <th>new_residual sugar</th>\n",
       "      <th>pH</th>\n",
       "      <th>density</th>\n",
       "      <th>alcohol</th>\n",
       "      <th>cluster</th>\n",
       "    </tr>\n",
       "  </thead>\n",
       "  <tbody>\n",
       "    <tr>\n",
       "      <th>count</th>\n",
       "      <td>2148.000000</td>\n",
       "      <td>2148.000000</td>\n",
       "      <td>2148.000000</td>\n",
       "      <td>2148.000000</td>\n",
       "      <td>2148.000000</td>\n",
       "      <td>2148.0</td>\n",
       "    </tr>\n",
       "    <tr>\n",
       "      <th>mean</th>\n",
       "      <td>0.264661</td>\n",
       "      <td>3.304610</td>\n",
       "      <td>3.252009</td>\n",
       "      <td>0.994276</td>\n",
       "      <td>10.480175</td>\n",
       "      <td>2.0</td>\n",
       "    </tr>\n",
       "    <tr>\n",
       "      <th>std</th>\n",
       "      <td>0.123751</td>\n",
       "      <td>2.512951</td>\n",
       "      <td>0.148126</td>\n",
       "      <td>0.002732</td>\n",
       "      <td>0.860267</td>\n",
       "      <td>0.0</td>\n",
       "    </tr>\n",
       "    <tr>\n",
       "      <th>min</th>\n",
       "      <td>0.080000</td>\n",
       "      <td>0.700000</td>\n",
       "      <td>2.740000</td>\n",
       "      <td>0.988860</td>\n",
       "      <td>8.000000</td>\n",
       "      <td>2.0</td>\n",
       "    </tr>\n",
       "    <tr>\n",
       "      <th>25%</th>\n",
       "      <td>0.180000</td>\n",
       "      <td>1.500000</td>\n",
       "      <td>3.150000</td>\n",
       "      <td>0.992300</td>\n",
       "      <td>9.800000</td>\n",
       "      <td>2.0</td>\n",
       "    </tr>\n",
       "    <tr>\n",
       "      <th>50%</th>\n",
       "      <td>0.230000</td>\n",
       "      <td>2.300000</td>\n",
       "      <td>3.240000</td>\n",
       "      <td>0.993700</td>\n",
       "      <td>10.400000</td>\n",
       "      <td>2.0</td>\n",
       "    </tr>\n",
       "    <tr>\n",
       "      <th>75%</th>\n",
       "      <td>0.290000</td>\n",
       "      <td>4.600000</td>\n",
       "      <td>3.340000</td>\n",
       "      <td>0.995803</td>\n",
       "      <td>11.000000</td>\n",
       "      <td>2.0</td>\n",
       "    </tr>\n",
       "    <tr>\n",
       "      <th>max</th>\n",
       "      <td>0.900000</td>\n",
       "      <td>14.500000</td>\n",
       "      <td>3.820000</td>\n",
       "      <td>1.003690</td>\n",
       "      <td>13.700000</td>\n",
       "      <td>2.0</td>\n",
       "    </tr>\n",
       "  </tbody>\n",
       "</table>\n",
       "</div>"
      ],
      "text/plain": [
       "       new_volatile acidity  new_residual sugar           pH      density  \\\n",
       "count           2148.000000         2148.000000  2148.000000  2148.000000   \n",
       "mean               0.264661            3.304610     3.252009     0.994276   \n",
       "std                0.123751            2.512951     0.148126     0.002732   \n",
       "min                0.080000            0.700000     2.740000     0.988860   \n",
       "25%                0.180000            1.500000     3.150000     0.992300   \n",
       "50%                0.230000            2.300000     3.240000     0.993700   \n",
       "75%                0.290000            4.600000     3.340000     0.995803   \n",
       "max                0.900000           14.500000     3.820000     1.003690   \n",
       "\n",
       "           alcohol  cluster  \n",
       "count  2148.000000   2148.0  \n",
       "mean     10.480175      2.0  \n",
       "std       0.860267      0.0  \n",
       "min       8.000000      2.0  \n",
       "25%       9.800000      2.0  \n",
       "50%      10.400000      2.0  \n",
       "75%      11.000000      2.0  \n",
       "max      13.700000      2.0  "
      ]
     },
     "execution_count": 2036,
     "metadata": {},
     "output_type": "execute_result"
    }
   ],
   "source": [
    "wine_k1.loc[ wine_k1['cluster'] == 2 , : ].describe()"
   ]
  },
  {
   "cell_type": "markdown",
   "id": "b9abbd1b-d98c-4942-b6a5-abe4008dd31a",
   "metadata": {},
   "source": [
    "## Analisis sin estratificacion de tipo de vino (1 entrenamiento)"
   ]
  },
  {
   "cell_type": "code",
   "execution_count": 2037,
   "id": "8663a006-e03c-428a-91c8-127dcad576bf",
   "metadata": {},
   "outputs": [],
   "source": [
    "cols_to_use = ['new_volatile acidity', 'new_residual sugar', 'pH', 'density', 'alcohol']"
   ]
  },
  {
   "cell_type": "code",
   "execution_count": 2038,
   "id": "8c75b4dc-175f-45a4-814d-f8630cb9ce97",
   "metadata": {},
   "outputs": [],
   "source": [
    "wine_n =  wine_limpio.loc[ : , cols_to_use ].copy()"
   ]
  },
  {
   "cell_type": "code",
   "execution_count": 2039,
   "id": "5d7d91a1-61fa-453e-a3a3-14242550b4db",
   "metadata": {},
   "outputs": [],
   "source": [
    "x = wine_n.loc[ : , cols_to_use ].values"
   ]
  },
  {
   "cell_type": "code",
   "execution_count": 2040,
   "id": "b6fa7594-a0aa-4695-83a1-2a6e1d926bf3",
   "metadata": {},
   "outputs": [],
   "source": [
    "x = StandardScaler().fit_transform(x)"
   ]
  },
  {
   "cell_type": "code",
   "execution_count": 2041,
   "id": "30c49787-bac9-457c-a286-fe8ed5240587",
   "metadata": {},
   "outputs": [],
   "source": [
    "pca = PCA( n_components=2 )"
   ]
  },
  {
   "cell_type": "code",
   "execution_count": 2042,
   "id": "c3156518-32f1-4bc2-b4ba-656f5518f749",
   "metadata": {},
   "outputs": [],
   "source": [
    "principalComponents = pca.fit_transform(x)"
   ]
  },
  {
   "cell_type": "code",
   "execution_count": 2043,
   "id": "96bf2167-8933-450b-9e23-8f7be15f03a7",
   "metadata": {},
   "outputs": [],
   "source": [
    "pcadf = pd.DataFrame(data=principalComponents ,columns=['c1','c2']) "
   ]
  },
  {
   "cell_type": "code",
   "execution_count": 2044,
   "id": "64505840-9ac0-4bf0-8c63-4565b81e9995",
   "metadata": {},
   "outputs": [
    {
     "data": {
      "text/plain": [
       "<matplotlib.collections.PathCollection at 0x229c50a5ac0>"
      ]
     },
     "execution_count": 2044,
     "metadata": {},
     "output_type": "execute_result"
    },
    {
     "data": {
      "image/png": "[encoded data removed]",
      "text/plain": [
       "<Figure size 432x288 with 1 Axes>"
      ]
     },
     "metadata": {
      "needs_background": "light"
     },
     "output_type": "display_data"
    }
   ],
   "source": [
    "plt.scatter( pcadf['c1'] , pcadf['c2'] )"
   ]
  },
  {
   "cell_type": "code",
   "execution_count": 2045,
   "id": "48b3ce46-a399-4d34-9275-0f2c7d509232",
   "metadata": {},
   "outputs": [],
   "source": [
    "km = KMeans( n_clusters=3  ).fit(pcadf)"
   ]
  },
  {
   "cell_type": "code",
   "execution_count": 2046,
   "id": "883a9800-eaa0-4ec9-a34b-d6783745a53c",
   "metadata": {},
   "outputs": [
    {
     "data": {
      "text/plain": [
       "array([[ 1.48599567, -0.5245171 ],\n",
       "       [ 0.09030115,  1.86716819],\n",
       "       [-1.20297791, -0.5145989 ]])"
      ]
     },
     "execution_count": 2046,
     "metadata": {},
     "output_type": "execute_result"
    }
   ],
   "source": [
    "km.cluster_centers_"
   ]
  },
  {
   "cell_type": "code",
   "execution_count": 2047,
   "id": "a68fa61b-3426-4eaa-b064-bb7d3429a7dc",
   "metadata": {},
   "outputs": [],
   "source": [
    "cetroids = km.cluster_centers_"
   ]
  },
  {
   "cell_type": "code",
   "execution_count": 2048,
   "id": "805d5275-61ea-4330-a446-623c08c3e35b",
   "metadata": {},
   "outputs": [
    {
     "data": {
      "text/plain": [
       "array([0, 2, 0, ..., 1, 1, 1])"
      ]
     },
     "execution_count": 2048,
     "metadata": {},
     "output_type": "execute_result"
    }
   ],
   "source": [
    "km.labels_"
   ]
  },
  {
   "cell_type": "code",
   "execution_count": 2049,
   "id": "727ce5fb-9da0-4bdf-8e5c-736142706c35",
   "metadata": {},
   "outputs": [
    {
     "data": {
      "text/plain": [
       "<matplotlib.collections.PathCollection at 0x229c5105a30>"
      ]
     },
     "execution_count": 2049,
     "metadata": {},
     "output_type": "execute_result"
    },
    {
     "data": {
      "image/png": "[encoded data removed]",
      "text/plain": [
       "<Figure size 432x288 with 1 Axes>"
      ]
     },
     "metadata": {
      "needs_background": "light"
     },
     "output_type": "display_data"
    }
   ],
   "source": [
    "plt.scatter( pcadf['c1'] , pcadf['c2'] , c=km.labels_.astype(float) , s=50, alpha=0.5 )"
   ]
  },
  {
   "cell_type": "code",
   "execution_count": 2050,
   "id": "e9fbf944-081a-4bb4-b529-baa566f807e7",
   "metadata": {},
   "outputs": [],
   "source": [
    "wine_n['cluster'] = km.labels_"
   ]
  },
  {
   "cell_type": "code",
   "execution_count": 2051,
   "id": "011bd105-0b07-48b5-bab0-16c3110233ed",
   "metadata": {},
   "outputs": [
    {
     "data": {
      "text/html": [
       "<div>\n",
       "<style scoped>\n",
       "    .dataframe tbody tr th:only-of-type {\n",
       "        vertical-align: middle;\n",
       "    }\n",
       "\n",
       "    .dataframe tbody tr th {\n",
       "        vertical-align: top;\n",
       "    }\n",
       "\n",
       "    .dataframe thead th {\n",
       "        text-align: right;\n",
       "    }\n",
       "</style>\n",
       "<table border=\"1\" class=\"dataframe\">\n",
       "  <thead>\n",
       "    <tr style=\"text-align: right;\">\n",
       "      <th></th>\n",
       "      <th>new_volatile acidity</th>\n",
       "      <th>new_residual sugar</th>\n",
       "      <th>pH</th>\n",
       "      <th>density</th>\n",
       "      <th>alcohol</th>\n",
       "      <th>cluster</th>\n",
       "    </tr>\n",
       "  </thead>\n",
       "  <tbody>\n",
       "    <tr>\n",
       "      <th>0</th>\n",
       "      <td>0.270</td>\n",
       "      <td>20.7</td>\n",
       "      <td>3.00</td>\n",
       "      <td>1.00100</td>\n",
       "      <td>8.8</td>\n",
       "      <td>0</td>\n",
       "    </tr>\n",
       "    <tr>\n",
       "      <th>1</th>\n",
       "      <td>0.300</td>\n",
       "      <td>1.6</td>\n",
       "      <td>3.30</td>\n",
       "      <td>0.99400</td>\n",
       "      <td>9.5</td>\n",
       "      <td>2</td>\n",
       "    </tr>\n",
       "    <tr>\n",
       "      <th>2</th>\n",
       "      <td>0.280</td>\n",
       "      <td>6.9</td>\n",
       "      <td>3.26</td>\n",
       "      <td>0.99510</td>\n",
       "      <td>10.1</td>\n",
       "      <td>0</td>\n",
       "    </tr>\n",
       "    <tr>\n",
       "      <th>3</th>\n",
       "      <td>0.230</td>\n",
       "      <td>8.5</td>\n",
       "      <td>3.19</td>\n",
       "      <td>0.99560</td>\n",
       "      <td>9.9</td>\n",
       "      <td>0</td>\n",
       "    </tr>\n",
       "    <tr>\n",
       "      <th>4</th>\n",
       "      <td>0.230</td>\n",
       "      <td>8.5</td>\n",
       "      <td>3.19</td>\n",
       "      <td>0.99560</td>\n",
       "      <td>9.9</td>\n",
       "      <td>0</td>\n",
       "    </tr>\n",
       "    <tr>\n",
       "      <th>...</th>\n",
       "      <td>...</td>\n",
       "      <td>...</td>\n",
       "      <td>...</td>\n",
       "      <td>...</td>\n",
       "      <td>...</td>\n",
       "      <td>...</td>\n",
       "    </tr>\n",
       "    <tr>\n",
       "      <th>6492</th>\n",
       "      <td>0.600</td>\n",
       "      <td>2.0</td>\n",
       "      <td>3.45</td>\n",
       "      <td>0.99490</td>\n",
       "      <td>10.5</td>\n",
       "      <td>1</td>\n",
       "    </tr>\n",
       "    <tr>\n",
       "      <th>6493</th>\n",
       "      <td>0.550</td>\n",
       "      <td>2.2</td>\n",
       "      <td>3.52</td>\n",
       "      <td>0.99512</td>\n",
       "      <td>11.2</td>\n",
       "      <td>1</td>\n",
       "    </tr>\n",
       "    <tr>\n",
       "      <th>6494</th>\n",
       "      <td>0.510</td>\n",
       "      <td>2.3</td>\n",
       "      <td>3.42</td>\n",
       "      <td>0.99574</td>\n",
       "      <td>11.0</td>\n",
       "      <td>1</td>\n",
       "    </tr>\n",
       "    <tr>\n",
       "      <th>6495</th>\n",
       "      <td>0.645</td>\n",
       "      <td>2.0</td>\n",
       "      <td>3.57</td>\n",
       "      <td>0.99547</td>\n",
       "      <td>10.2</td>\n",
       "      <td>1</td>\n",
       "    </tr>\n",
       "    <tr>\n",
       "      <th>6496</th>\n",
       "      <td>0.310</td>\n",
       "      <td>3.6</td>\n",
       "      <td>3.39</td>\n",
       "      <td>0.99549</td>\n",
       "      <td>11.0</td>\n",
       "      <td>1</td>\n",
       "    </tr>\n",
       "  </tbody>\n",
       "</table>\n",
       "<p>6497 rows × 6 columns</p>\n",
       "</div>"
      ],
      "text/plain": [
       "      new_volatile acidity  new_residual sugar    pH  density  alcohol  \\\n",
       "0                    0.270                20.7  3.00  1.00100      8.8   \n",
       "1                    0.300                 1.6  3.30  0.99400      9.5   \n",
       "2                    0.280                 6.9  3.26  0.99510     10.1   \n",
       "3                    0.230                 8.5  3.19  0.99560      9.9   \n",
       "4                    0.230                 8.5  3.19  0.99560      9.9   \n",
       "...                    ...                 ...   ...      ...      ...   \n",
       "6492                 0.600                 2.0  3.45  0.99490     10.5   \n",
       "6493                 0.550                 2.2  3.52  0.99512     11.2   \n",
       "6494                 0.510                 2.3  3.42  0.99574     11.0   \n",
       "6495                 0.645                 2.0  3.57  0.99547     10.2   \n",
       "6496                 0.310                 3.6  3.39  0.99549     11.0   \n",
       "\n",
       "      cluster  \n",
       "0           0  \n",
       "1           2  \n",
       "2           0  \n",
       "3           0  \n",
       "4           0  \n",
       "...       ...  \n",
       "6492        1  \n",
       "6493        1  \n",
       "6494        1  \n",
       "6495        1  \n",
       "6496        1  \n",
       "\n",
       "[6497 rows x 6 columns]"
      ]
     },
     "execution_count": 2051,
     "metadata": {},
     "output_type": "execute_result"
    }
   ],
   "source": [
    "wine_n"
   ]
  },
  {
   "cell_type": "code",
   "execution_count": 2052,
   "id": "0890d444-b8a0-461a-9c6e-8353e0ec8adf",
   "metadata": {},
   "outputs": [
    {
     "data": {
      "text/html": [
       "<div>\n",
       "<style scoped>\n",
       "    .dataframe tbody tr th:only-of-type {\n",
       "        vertical-align: middle;\n",
       "    }\n",
       "\n",
       "    .dataframe tbody tr th {\n",
       "        vertical-align: top;\n",
       "    }\n",
       "\n",
       "    .dataframe thead th {\n",
       "        text-align: right;\n",
       "    }\n",
       "</style>\n",
       "<table border=\"1\" class=\"dataframe\">\n",
       "  <thead>\n",
       "    <tr style=\"text-align: right;\">\n",
       "      <th></th>\n",
       "      <th>new_volatile acidity</th>\n",
       "      <th>new_residual sugar</th>\n",
       "      <th>pH</th>\n",
       "      <th>density</th>\n",
       "      <th>alcohol</th>\n",
       "      <th>cluster</th>\n",
       "    </tr>\n",
       "  </thead>\n",
       "  <tbody>\n",
       "    <tr>\n",
       "      <th>count</th>\n",
       "      <td>2224.000000</td>\n",
       "      <td>2224.000000</td>\n",
       "      <td>2224.000000</td>\n",
       "      <td>2224.000000</td>\n",
       "      <td>2224.000000</td>\n",
       "      <td>2224.0</td>\n",
       "    </tr>\n",
       "    <tr>\n",
       "      <th>mean</th>\n",
       "      <td>0.273980</td>\n",
       "      <td>10.162313</td>\n",
       "      <td>3.145030</td>\n",
       "      <td>0.996837</td>\n",
       "      <td>9.572804</td>\n",
       "      <td>0.0</td>\n",
       "    </tr>\n",
       "    <tr>\n",
       "      <th>std</th>\n",
       "      <td>0.075419</td>\n",
       "      <td>4.452479</td>\n",
       "      <td>0.128133</td>\n",
       "      <td>0.002080</td>\n",
       "      <td>0.649947</td>\n",
       "      <td>0.0</td>\n",
       "    </tr>\n",
       "    <tr>\n",
       "      <th>min</th>\n",
       "      <td>0.105000</td>\n",
       "      <td>0.950000</td>\n",
       "      <td>2.720000</td>\n",
       "      <td>0.993000</td>\n",
       "      <td>8.000000</td>\n",
       "      <td>0.0</td>\n",
       "    </tr>\n",
       "    <tr>\n",
       "      <th>25%</th>\n",
       "      <td>0.220000</td>\n",
       "      <td>7.100000</td>\n",
       "      <td>3.060000</td>\n",
       "      <td>0.995400</td>\n",
       "      <td>9.100000</td>\n",
       "      <td>0.0</td>\n",
       "    </tr>\n",
       "    <tr>\n",
       "      <th>50%</th>\n",
       "      <td>0.270000</td>\n",
       "      <td>10.200000</td>\n",
       "      <td>3.140000</td>\n",
       "      <td>0.996700</td>\n",
       "      <td>9.400000</td>\n",
       "      <td>0.0</td>\n",
       "    </tr>\n",
       "    <tr>\n",
       "      <th>75%</th>\n",
       "      <td>0.320000</td>\n",
       "      <td>13.400000</td>\n",
       "      <td>3.220000</td>\n",
       "      <td>0.998200</td>\n",
       "      <td>9.900000</td>\n",
       "      <td>0.0</td>\n",
       "    </tr>\n",
       "    <tr>\n",
       "      <th>max</th>\n",
       "      <td>0.540000</td>\n",
       "      <td>22.000000</td>\n",
       "      <td>3.660000</td>\n",
       "      <td>1.038980</td>\n",
       "      <td>12.300000</td>\n",
       "      <td>0.0</td>\n",
       "    </tr>\n",
       "  </tbody>\n",
       "</table>\n",
       "</div>"
      ],
      "text/plain": [
       "       new_volatile acidity  new_residual sugar           pH      density  \\\n",
       "count           2224.000000         2224.000000  2224.000000  2224.000000   \n",
       "mean               0.273980           10.162313     3.145030     0.996837   \n",
       "std                0.075419            4.452479     0.128133     0.002080   \n",
       "min                0.105000            0.950000     2.720000     0.993000   \n",
       "25%                0.220000            7.100000     3.060000     0.995400   \n",
       "50%                0.270000           10.200000     3.140000     0.996700   \n",
       "75%                0.320000           13.400000     3.220000     0.998200   \n",
       "max                0.540000           22.000000     3.660000     1.038980   \n",
       "\n",
       "           alcohol  cluster  \n",
       "count  2224.000000   2224.0  \n",
       "mean      9.572804      0.0  \n",
       "std       0.649947      0.0  \n",
       "min       8.000000      0.0  \n",
       "25%       9.100000      0.0  \n",
       "50%       9.400000      0.0  \n",
       "75%       9.900000      0.0  \n",
       "max      12.300000      0.0  "
      ]
     },
     "execution_count": 2052,
     "metadata": {},
     "output_type": "execute_result"
    }
   ],
   "source": [
    "wine_n.loc[ wine_n['cluster'] == 0 , : ].describe()"
   ]
  },
  {
   "cell_type": "code",
   "execution_count": 2053,
   "id": "8961ea43-5f94-4ed1-b7d1-98f2ac8f233b",
   "metadata": {},
   "outputs": [
    {
     "data": {
      "text/html": [
       "<div>\n",
       "<style scoped>\n",
       "    .dataframe tbody tr th:only-of-type {\n",
       "        vertical-align: middle;\n",
       "    }\n",
       "\n",
       "    .dataframe tbody tr th {\n",
       "        vertical-align: top;\n",
       "    }\n",
       "\n",
       "    .dataframe thead th {\n",
       "        text-align: right;\n",
       "    }\n",
       "</style>\n",
       "<table border=\"1\" class=\"dataframe\">\n",
       "  <thead>\n",
       "    <tr style=\"text-align: right;\">\n",
       "      <th></th>\n",
       "      <th>new_volatile acidity</th>\n",
       "      <th>new_residual sugar</th>\n",
       "      <th>pH</th>\n",
       "      <th>density</th>\n",
       "      <th>alcohol</th>\n",
       "      <th>cluster</th>\n",
       "    </tr>\n",
       "  </thead>\n",
       "  <tbody>\n",
       "    <tr>\n",
       "      <th>count</th>\n",
       "      <td>1412.000000</td>\n",
       "      <td>1412.000000</td>\n",
       "      <td>1412.000000</td>\n",
       "      <td>1412.000000</td>\n",
       "      <td>1412.000000</td>\n",
       "      <td>1412.0</td>\n",
       "    </tr>\n",
       "    <tr>\n",
       "      <th>mean</th>\n",
       "      <td>0.543221</td>\n",
       "      <td>2.433011</td>\n",
       "      <td>3.352862</td>\n",
       "      <td>0.996677</td>\n",
       "      <td>10.209289</td>\n",
       "      <td>1.0</td>\n",
       "    </tr>\n",
       "    <tr>\n",
       "      <th>std</th>\n",
       "      <td>0.160694</td>\n",
       "      <td>1.219453</td>\n",
       "      <td>0.150024</td>\n",
       "      <td>0.001775</td>\n",
       "      <td>0.880477</td>\n",
       "      <td>0.0</td>\n",
       "    </tr>\n",
       "    <tr>\n",
       "      <th>min</th>\n",
       "      <td>0.110000</td>\n",
       "      <td>0.800000</td>\n",
       "      <td>2.870000</td>\n",
       "      <td>0.990820</td>\n",
       "      <td>8.400000</td>\n",
       "      <td>1.0</td>\n",
       "    </tr>\n",
       "    <tr>\n",
       "      <th>25%</th>\n",
       "      <td>0.430000</td>\n",
       "      <td>1.900000</td>\n",
       "      <td>3.260000</td>\n",
       "      <td>0.995600</td>\n",
       "      <td>9.500000</td>\n",
       "      <td>1.0</td>\n",
       "    </tr>\n",
       "    <tr>\n",
       "      <th>50%</th>\n",
       "      <td>0.540000</td>\n",
       "      <td>2.200000</td>\n",
       "      <td>3.350000</td>\n",
       "      <td>0.996600</td>\n",
       "      <td>10.000000</td>\n",
       "      <td>1.0</td>\n",
       "    </tr>\n",
       "    <tr>\n",
       "      <th>75%</th>\n",
       "      <td>0.645000</td>\n",
       "      <td>2.538806</td>\n",
       "      <td>3.440000</td>\n",
       "      <td>0.997680</td>\n",
       "      <td>10.800000</td>\n",
       "      <td>1.0</td>\n",
       "    </tr>\n",
       "    <tr>\n",
       "      <th>max</th>\n",
       "      <td>1.010000</td>\n",
       "      <td>14.500000</td>\n",
       "      <td>4.010000</td>\n",
       "      <td>1.003690</td>\n",
       "      <td>13.400000</td>\n",
       "      <td>1.0</td>\n",
       "    </tr>\n",
       "  </tbody>\n",
       "</table>\n",
       "</div>"
      ],
      "text/plain": [
       "       new_volatile acidity  new_residual sugar           pH      density  \\\n",
       "count           1412.000000         1412.000000  1412.000000  1412.000000   \n",
       "mean               0.543221            2.433011     3.352862     0.996677   \n",
       "std                0.160694            1.219453     0.150024     0.001775   \n",
       "min                0.110000            0.800000     2.870000     0.990820   \n",
       "25%                0.430000            1.900000     3.260000     0.995600   \n",
       "50%                0.540000            2.200000     3.350000     0.996600   \n",
       "75%                0.645000            2.538806     3.440000     0.997680   \n",
       "max                1.010000           14.500000     4.010000     1.003690   \n",
       "\n",
       "           alcohol  cluster  \n",
       "count  1412.000000   1412.0  \n",
       "mean     10.209289      1.0  \n",
       "std       0.880477      0.0  \n",
       "min       8.400000      1.0  \n",
       "25%       9.500000      1.0  \n",
       "50%      10.000000      1.0  \n",
       "75%      10.800000      1.0  \n",
       "max      13.400000      1.0  "
      ]
     },
     "execution_count": 2053,
     "metadata": {},
     "output_type": "execute_result"
    }
   ],
   "source": [
    "wine_n.loc[ wine_n['cluster'] == 1 , : ].describe()"
   ]
  },
  {
   "cell_type": "code",
   "execution_count": 2054,
   "id": "bc5e17a3-cbf0-47a5-91aa-7601e52bb9a5",
   "metadata": {},
   "outputs": [
    {
     "data": {
      "text/html": [
       "<div>\n",
       "<style scoped>\n",
       "    .dataframe tbody tr th:only-of-type {\n",
       "        vertical-align: middle;\n",
       "    }\n",
       "\n",
       "    .dataframe tbody tr th {\n",
       "        vertical-align: top;\n",
       "    }\n",
       "\n",
       "    .dataframe thead th {\n",
       "        text-align: right;\n",
       "    }\n",
       "</style>\n",
       "<table border=\"1\" class=\"dataframe\">\n",
       "  <thead>\n",
       "    <tr style=\"text-align: right;\">\n",
       "      <th></th>\n",
       "      <th>new_volatile acidity</th>\n",
       "      <th>new_residual sugar</th>\n",
       "      <th>pH</th>\n",
       "      <th>density</th>\n",
       "      <th>alcohol</th>\n",
       "      <th>cluster</th>\n",
       "    </tr>\n",
       "  </thead>\n",
       "  <tbody>\n",
       "    <tr>\n",
       "      <th>count</th>\n",
       "      <td>2861.000000</td>\n",
       "      <td>2861.000000</td>\n",
       "      <td>2861.000000</td>\n",
       "      <td>2861.000000</td>\n",
       "      <td>2861.000000</td>\n",
       "      <td>2861.0</td>\n",
       "    </tr>\n",
       "    <tr>\n",
       "      <th>mean</th>\n",
       "      <td>0.265738</td>\n",
       "      <td>3.018703</td>\n",
       "      <td>3.209053</td>\n",
       "      <td>0.992056</td>\n",
       "      <td>11.345612</td>\n",
       "      <td>2.0</td>\n",
       "    </tr>\n",
       "    <tr>\n",
       "      <th>std</th>\n",
       "      <td>0.079971</td>\n",
       "      <td>2.331925</td>\n",
       "      <td>0.146809</td>\n",
       "      <td>0.001742</td>\n",
       "      <td>1.046371</td>\n",
       "      <td>0.0</td>\n",
       "    </tr>\n",
       "    <tr>\n",
       "      <th>min</th>\n",
       "      <td>0.080000</td>\n",
       "      <td>0.600000</td>\n",
       "      <td>2.740000</td>\n",
       "      <td>0.987110</td>\n",
       "      <td>8.800000</td>\n",
       "      <td>2.0</td>\n",
       "    </tr>\n",
       "    <tr>\n",
       "      <th>25%</th>\n",
       "      <td>0.200000</td>\n",
       "      <td>1.400000</td>\n",
       "      <td>3.110000</td>\n",
       "      <td>0.990800</td>\n",
       "      <td>10.600000</td>\n",
       "      <td>2.0</td>\n",
       "    </tr>\n",
       "    <tr>\n",
       "      <th>50%</th>\n",
       "      <td>0.260000</td>\n",
       "      <td>2.000000</td>\n",
       "      <td>3.210000</td>\n",
       "      <td>0.992000</td>\n",
       "      <td>11.300000</td>\n",
       "      <td>2.0</td>\n",
       "    </tr>\n",
       "    <tr>\n",
       "      <th>75%</th>\n",
       "      <td>0.320000</td>\n",
       "      <td>4.200000</td>\n",
       "      <td>3.300000</td>\n",
       "      <td>0.993200</td>\n",
       "      <td>12.200000</td>\n",
       "      <td>2.0</td>\n",
       "    </tr>\n",
       "    <tr>\n",
       "      <th>max</th>\n",
       "      <td>0.600000</td>\n",
       "      <td>15.500000</td>\n",
       "      <td>3.760000</td>\n",
       "      <td>0.998000</td>\n",
       "      <td>14.900000</td>\n",
       "      <td>2.0</td>\n",
       "    </tr>\n",
       "  </tbody>\n",
       "</table>\n",
       "</div>"
      ],
      "text/plain": [
       "       new_volatile acidity  new_residual sugar           pH      density  \\\n",
       "count           2861.000000         2861.000000  2861.000000  2861.000000   \n",
       "mean               0.265738            3.018703     3.209053     0.992056   \n",
       "std                0.079971            2.331925     0.146809     0.001742   \n",
       "min                0.080000            0.600000     2.740000     0.987110   \n",
       "25%                0.200000            1.400000     3.110000     0.990800   \n",
       "50%                0.260000            2.000000     3.210000     0.992000   \n",
       "75%                0.320000            4.200000     3.300000     0.993200   \n",
       "max                0.600000           15.500000     3.760000     0.998000   \n",
       "\n",
       "           alcohol  cluster  \n",
       "count  2861.000000   2861.0  \n",
       "mean     11.345612      2.0  \n",
       "std       1.046371      0.0  \n",
       "min       8.800000      2.0  \n",
       "25%      10.600000      2.0  \n",
       "50%      11.300000      2.0  \n",
       "75%      12.200000      2.0  \n",
       "max      14.900000      2.0  "
      ]
     },
     "execution_count": 2054,
     "metadata": {},
     "output_type": "execute_result"
    }
   ],
   "source": [
    "wine_n.loc[ wine_n['cluster'] == 2 , : ].describe()"
   ]
  },
  {
   "cell_type": "markdown",
   "id": "791dfa70-798b-40f3-b367-8f23f32135ba",
   "metadata": {},
   "source": [
    "## Conclusiones"
   ]
  },
  {
   "cell_type": "markdown",
   "id": "16417ca3-e461-407b-9b0c-cb9c18be4f53",
   "metadata": {},
   "source": [
    "Según los análisis de ambos casos tomaría un solo entrenamiento y no dividiría el dataset (2 entrenamientos) por tipo de vino (rojo y blanco) ya que al analizar los clúster si dividimos por el tipo de vino podemos notar ciertas inconsistencias como por ejemplo si se agrupa cada tipo de vino con sus respectivas caracteristicas y luego unimos el resultado podemos notar que en el cluster 0 de vinos rojos no tienen mucha relacion con el cluster 0 de vinos blancos"
   ]
  },
  {
   "cell_type": "markdown",
   "id": "12a2ec3b-8c3b-4b1c-9d36-edfda10c7ff5",
   "metadata": {},
   "source": [
    "Mientras que en el análisis sin estratificar podemos notar que la agrupación en cada clúster hace mucho sentido, por ejemplo:\n",
    "-Clúster 0 tiene una mayor azúcar residual y por lo tanto menor cantidad de alcohol, lo que significa que es un vino suave\n",
    "-Clúster 1 tiene cantidad de alcohol moderado y son los vinos más ácidos\n",
    "-Clúster 2 tiene un nivel de azúcar y acidez normal, pero son los vinos con mayor nivel de alcohol"
   ]
  },
  {
   "cell_type": "markdown",
   "id": "eee08cd7-4216-43ab-a0c9-0db0cd3e266a",
   "metadata": {},
   "source": [
    "También hay que tomar en cuenta que si un usuario compra un vino dulce se le recomendara del clúster 0 y aquí puede contener tanto vinos rojos o blancos con características similares, esa elección del tipo de vino pues es más dirigida al cliente ya que el vino rojo y blanco pues se consumen en diferentes ocasiones entonces el cliente elegirá el vino que más le convenga según la ocasión"
   ]
  },
  {
   "cell_type": "code",
   "execution_count": 2055,
   "id": "a070cea3-cd13-4c5d-bdbd-112f35305df6",
   "metadata": {},
   "outputs": [
    {
     "data": {
      "text/html": [
       "<div>\n",
       "<style scoped>\n",
       "    .dataframe tbody tr th:only-of-type {\n",
       "        vertical-align: middle;\n",
       "    }\n",
       "\n",
       "    .dataframe tbody tr th {\n",
       "        vertical-align: top;\n",
       "    }\n",
       "\n",
       "    .dataframe thead th {\n",
       "        text-align: right;\n",
       "    }\n",
       "</style>\n",
       "<table border=\"1\" class=\"dataframe\">\n",
       "  <thead>\n",
       "    <tr style=\"text-align: right;\">\n",
       "      <th></th>\n",
       "      <th>new_volatile acidity</th>\n",
       "      <th>new_residual sugar</th>\n",
       "      <th>pH</th>\n",
       "      <th>density</th>\n",
       "      <th>alcohol</th>\n",
       "      <th>cluster</th>\n",
       "    </tr>\n",
       "  </thead>\n",
       "  <tbody>\n",
       "    <tr>\n",
       "      <th>0</th>\n",
       "      <td>0.270</td>\n",
       "      <td>20.7</td>\n",
       "      <td>3.00</td>\n",
       "      <td>1.00100</td>\n",
       "      <td>8.8</td>\n",
       "      <td>0</td>\n",
       "    </tr>\n",
       "    <tr>\n",
       "      <th>1</th>\n",
       "      <td>0.300</td>\n",
       "      <td>1.6</td>\n",
       "      <td>3.30</td>\n",
       "      <td>0.99400</td>\n",
       "      <td>9.5</td>\n",
       "      <td>2</td>\n",
       "    </tr>\n",
       "    <tr>\n",
       "      <th>2</th>\n",
       "      <td>0.280</td>\n",
       "      <td>6.9</td>\n",
       "      <td>3.26</td>\n",
       "      <td>0.99510</td>\n",
       "      <td>10.1</td>\n",
       "      <td>0</td>\n",
       "    </tr>\n",
       "    <tr>\n",
       "      <th>3</th>\n",
       "      <td>0.230</td>\n",
       "      <td>8.5</td>\n",
       "      <td>3.19</td>\n",
       "      <td>0.99560</td>\n",
       "      <td>9.9</td>\n",
       "      <td>0</td>\n",
       "    </tr>\n",
       "    <tr>\n",
       "      <th>4</th>\n",
       "      <td>0.230</td>\n",
       "      <td>8.5</td>\n",
       "      <td>3.19</td>\n",
       "      <td>0.99560</td>\n",
       "      <td>9.9</td>\n",
       "      <td>0</td>\n",
       "    </tr>\n",
       "    <tr>\n",
       "      <th>...</th>\n",
       "      <td>...</td>\n",
       "      <td>...</td>\n",
       "      <td>...</td>\n",
       "      <td>...</td>\n",
       "      <td>...</td>\n",
       "      <td>...</td>\n",
       "    </tr>\n",
       "    <tr>\n",
       "      <th>6492</th>\n",
       "      <td>0.600</td>\n",
       "      <td>2.0</td>\n",
       "      <td>3.45</td>\n",
       "      <td>0.99490</td>\n",
       "      <td>10.5</td>\n",
       "      <td>1</td>\n",
       "    </tr>\n",
       "    <tr>\n",
       "      <th>6493</th>\n",
       "      <td>0.550</td>\n",
       "      <td>2.2</td>\n",
       "      <td>3.52</td>\n",
       "      <td>0.99512</td>\n",
       "      <td>11.2</td>\n",
       "      <td>1</td>\n",
       "    </tr>\n",
       "    <tr>\n",
       "      <th>6494</th>\n",
       "      <td>0.510</td>\n",
       "      <td>2.3</td>\n",
       "      <td>3.42</td>\n",
       "      <td>0.99574</td>\n",
       "      <td>11.0</td>\n",
       "      <td>1</td>\n",
       "    </tr>\n",
       "    <tr>\n",
       "      <th>6495</th>\n",
       "      <td>0.645</td>\n",
       "      <td>2.0</td>\n",
       "      <td>3.57</td>\n",
       "      <td>0.99547</td>\n",
       "      <td>10.2</td>\n",
       "      <td>1</td>\n",
       "    </tr>\n",
       "    <tr>\n",
       "      <th>6496</th>\n",
       "      <td>0.310</td>\n",
       "      <td>3.6</td>\n",
       "      <td>3.39</td>\n",
       "      <td>0.99549</td>\n",
       "      <td>11.0</td>\n",
       "      <td>1</td>\n",
       "    </tr>\n",
       "  </tbody>\n",
       "</table>\n",
       "<p>6497 rows × 6 columns</p>\n",
       "</div>"
      ],
      "text/plain": [
       "      new_volatile acidity  new_residual sugar    pH  density  alcohol  \\\n",
       "0                    0.270                20.7  3.00  1.00100      8.8   \n",
       "1                    0.300                 1.6  3.30  0.99400      9.5   \n",
       "2                    0.280                 6.9  3.26  0.99510     10.1   \n",
       "3                    0.230                 8.5  3.19  0.99560      9.9   \n",
       "4                    0.230                 8.5  3.19  0.99560      9.9   \n",
       "...                    ...                 ...   ...      ...      ...   \n",
       "6492                 0.600                 2.0  3.45  0.99490     10.5   \n",
       "6493                 0.550                 2.2  3.52  0.99512     11.2   \n",
       "6494                 0.510                 2.3  3.42  0.99574     11.0   \n",
       "6495                 0.645                 2.0  3.57  0.99547     10.2   \n",
       "6496                 0.310                 3.6  3.39  0.99549     11.0   \n",
       "\n",
       "      cluster  \n",
       "0           0  \n",
       "1           2  \n",
       "2           0  \n",
       "3           0  \n",
       "4           0  \n",
       "...       ...  \n",
       "6492        1  \n",
       "6493        1  \n",
       "6494        1  \n",
       "6495        1  \n",
       "6496        1  \n",
       "\n",
       "[6497 rows x 6 columns]"
      ]
     },
     "execution_count": 2055,
     "metadata": {},
     "output_type": "execute_result"
    }
   ],
   "source": [
    "wine_n"
   ]
  },
  {
   "cell_type": "code",
   "execution_count": 2056,
   "id": "36db3552-fe70-430d-a8bc-3bb325a0cd3d",
   "metadata": {},
   "outputs": [],
   "source": [
    "wine_limpio['cluster'] = km.labels_"
   ]
  },
  {
   "cell_type": "markdown",
   "id": "f35fb7dd-e45a-4837-a6d8-7890ae95a8c6",
   "metadata": {},
   "source": [
    "## Machine learning supervisado"
   ]
  },
  {
   "cell_type": "markdown",
   "id": "cc0ade7c-f9b9-4ae8-9aea-965a5690dc79",
   "metadata": {},
   "source": [
    "### Creamos la variable de respuesta"
   ]
  },
  {
   "cell_type": "code",
   "execution_count": 2057,
   "id": "89ebfc44-f8bb-4a6c-936f-e823b2010897",
   "metadata": {},
   "outputs": [],
   "source": [
    "wine_limpio['Outcome']= wine_limpio.apply( lambda r: 1 if r['quality']>=5 else 0 , axis = 1 )"
   ]
  },
  {
   "cell_type": "code",
   "execution_count": 2058,
   "id": "7112294a-54a6-4a58-b9f9-fd6bb6fd9481",
   "metadata": {},
   "outputs": [
    {
     "data": {
      "text/plain": [
       "Index(['type', 'new_fixed acidity', 'new_volatile acidity', 'new_citric acid',\n",
       "       'new_residual sugar', 'new_chlorides', 'new_free sulfur dioxide',\n",
       "       'new_total sulfur dioxide', 'density', 'pH', 'new_sulphates', 'alcohol',\n",
       "       'quality', 'cluster', 'Outcome'],\n",
       "      dtype='object')"
      ]
     },
     "execution_count": 2058,
     "metadata": {},
     "output_type": "execute_result"
    }
   ],
   "source": [
    "wine_limpio.columns"
   ]
  },
  {
   "cell_type": "code",
   "execution_count": 2059,
   "id": "ae3723ad-1b01-4d39-8ec4-5ba74aa175c0",
   "metadata": {},
   "outputs": [],
   "source": [
    "wine_mls=wine_limpio.loc[:, ['new_fixed acidity', 'new_citric acid', 'new_chlorides', 'new_free sulfur dioxide', 'new_total sulfur dioxide', 'new_sulphates', 'cluster','Outcome']].copy()\n",
    "wine_mls1=wine_limpio.loc[:, ['type','new_fixed acidity', 'new_citric acid', 'new_chlorides', 'new_free sulfur dioxide', 'new_total sulfur dioxide', 'new_sulphates', 'cluster','Outcome']].copy()"
   ]
  },
  {
   "cell_type": "markdown",
   "id": "7200fe2e-d51c-4b22-8017-4708ffd8ce92",
   "metadata": {},
   "source": [
    "### En este caso se haran 2 analisis uno sin la estratificacion (sin la variable type) y otro incluyendo la variable type para ver los resultados que se generan"
   ]
  },
  {
   "cell_type": "markdown",
   "id": "27b120b7-d355-44ca-a3ac-f4c7ff72151f",
   "metadata": {},
   "source": [
    "### Dataset sin la variable Type"
   ]
  },
  {
   "cell_type": "code",
   "execution_count": 2060,
   "id": "b12881c4-e5c6-47ce-9083-2d251c61590c",
   "metadata": {},
   "outputs": [
    {
     "data": {
      "text/html": [
       "<div>\n",
       "<style scoped>\n",
       "    .dataframe tbody tr th:only-of-type {\n",
       "        vertical-align: middle;\n",
       "    }\n",
       "\n",
       "    .dataframe tbody tr th {\n",
       "        vertical-align: top;\n",
       "    }\n",
       "\n",
       "    .dataframe thead th {\n",
       "        text-align: right;\n",
       "    }\n",
       "</style>\n",
       "<table border=\"1\" class=\"dataframe\">\n",
       "  <thead>\n",
       "    <tr style=\"text-align: right;\">\n",
       "      <th></th>\n",
       "      <th>new_fixed acidity</th>\n",
       "      <th>new_citric acid</th>\n",
       "      <th>new_chlorides</th>\n",
       "      <th>new_free sulfur dioxide</th>\n",
       "      <th>new_total sulfur dioxide</th>\n",
       "      <th>new_sulphates</th>\n",
       "      <th>cluster</th>\n",
       "      <th>Outcome</th>\n",
       "    </tr>\n",
       "  </thead>\n",
       "  <tbody>\n",
       "    <tr>\n",
       "      <th>0</th>\n",
       "      <td>7.0</td>\n",
       "      <td>0.36</td>\n",
       "      <td>0.045</td>\n",
       "      <td>45.0</td>\n",
       "      <td>170.0</td>\n",
       "      <td>0.450000</td>\n",
       "      <td>0</td>\n",
       "      <td>1</td>\n",
       "    </tr>\n",
       "    <tr>\n",
       "      <th>1</th>\n",
       "      <td>6.3</td>\n",
       "      <td>0.34</td>\n",
       "      <td>0.049</td>\n",
       "      <td>14.0</td>\n",
       "      <td>132.0</td>\n",
       "      <td>0.490000</td>\n",
       "      <td>2</td>\n",
       "      <td>1</td>\n",
       "    </tr>\n",
       "    <tr>\n",
       "      <th>2</th>\n",
       "      <td>8.1</td>\n",
       "      <td>0.40</td>\n",
       "      <td>0.050</td>\n",
       "      <td>30.0</td>\n",
       "      <td>97.0</td>\n",
       "      <td>0.440000</td>\n",
       "      <td>0</td>\n",
       "      <td>1</td>\n",
       "    </tr>\n",
       "    <tr>\n",
       "      <th>3</th>\n",
       "      <td>7.2</td>\n",
       "      <td>0.32</td>\n",
       "      <td>0.058</td>\n",
       "      <td>47.0</td>\n",
       "      <td>186.0</td>\n",
       "      <td>0.400000</td>\n",
       "      <td>0</td>\n",
       "      <td>1</td>\n",
       "    </tr>\n",
       "    <tr>\n",
       "      <th>4</th>\n",
       "      <td>7.2</td>\n",
       "      <td>0.32</td>\n",
       "      <td>0.058</td>\n",
       "      <td>47.0</td>\n",
       "      <td>186.0</td>\n",
       "      <td>0.400000</td>\n",
       "      <td>0</td>\n",
       "      <td>1</td>\n",
       "    </tr>\n",
       "    <tr>\n",
       "      <th>...</th>\n",
       "      <td>...</td>\n",
       "      <td>...</td>\n",
       "      <td>...</td>\n",
       "      <td>...</td>\n",
       "      <td>...</td>\n",
       "      <td>...</td>\n",
       "      <td>...</td>\n",
       "      <td>...</td>\n",
       "    </tr>\n",
       "    <tr>\n",
       "      <th>6492</th>\n",
       "      <td>6.2</td>\n",
       "      <td>0.08</td>\n",
       "      <td>0.090</td>\n",
       "      <td>32.0</td>\n",
       "      <td>44.0</td>\n",
       "      <td>0.580000</td>\n",
       "      <td>1</td>\n",
       "      <td>1</td>\n",
       "    </tr>\n",
       "    <tr>\n",
       "      <th>6493</th>\n",
       "      <td>5.9</td>\n",
       "      <td>0.10</td>\n",
       "      <td>0.062</td>\n",
       "      <td>39.0</td>\n",
       "      <td>51.0</td>\n",
       "      <td>0.658078</td>\n",
       "      <td>1</td>\n",
       "      <td>1</td>\n",
       "    </tr>\n",
       "    <tr>\n",
       "      <th>6494</th>\n",
       "      <td>6.3</td>\n",
       "      <td>0.13</td>\n",
       "      <td>0.076</td>\n",
       "      <td>29.0</td>\n",
       "      <td>40.0</td>\n",
       "      <td>0.750000</td>\n",
       "      <td>1</td>\n",
       "      <td>1</td>\n",
       "    </tr>\n",
       "    <tr>\n",
       "      <th>6495</th>\n",
       "      <td>5.9</td>\n",
       "      <td>0.12</td>\n",
       "      <td>0.075</td>\n",
       "      <td>32.0</td>\n",
       "      <td>44.0</td>\n",
       "      <td>0.710000</td>\n",
       "      <td>1</td>\n",
       "      <td>1</td>\n",
       "    </tr>\n",
       "    <tr>\n",
       "      <th>6496</th>\n",
       "      <td>6.0</td>\n",
       "      <td>0.47</td>\n",
       "      <td>0.067</td>\n",
       "      <td>18.0</td>\n",
       "      <td>42.0</td>\n",
       "      <td>0.660000</td>\n",
       "      <td>1</td>\n",
       "      <td>1</td>\n",
       "    </tr>\n",
       "  </tbody>\n",
       "</table>\n",
       "<p>6497 rows × 8 columns</p>\n",
       "</div>"
      ],
      "text/plain": [
       "      new_fixed acidity  new_citric acid  new_chlorides  \\\n",
       "0                   7.0             0.36          0.045   \n",
       "1                   6.3             0.34          0.049   \n",
       "2                   8.1             0.40          0.050   \n",
       "3                   7.2             0.32          0.058   \n",
       "4                   7.2             0.32          0.058   \n",
       "...                 ...              ...            ...   \n",
       "6492                6.2             0.08          0.090   \n",
       "6493                5.9             0.10          0.062   \n",
       "6494                6.3             0.13          0.076   \n",
       "6495                5.9             0.12          0.075   \n",
       "6496                6.0             0.47          0.067   \n",
       "\n",
       "      new_free sulfur dioxide  new_total sulfur dioxide  new_sulphates  \\\n",
       "0                        45.0                     170.0       0.450000   \n",
       "1                        14.0                     132.0       0.490000   \n",
       "2                        30.0                      97.0       0.440000   \n",
       "3                        47.0                     186.0       0.400000   \n",
       "4                        47.0                     186.0       0.400000   \n",
       "...                       ...                       ...            ...   \n",
       "6492                     32.0                      44.0       0.580000   \n",
       "6493                     39.0                      51.0       0.658078   \n",
       "6494                     29.0                      40.0       0.750000   \n",
       "6495                     32.0                      44.0       0.710000   \n",
       "6496                     18.0                      42.0       0.660000   \n",
       "\n",
       "      cluster  Outcome  \n",
       "0           0        1  \n",
       "1           2        1  \n",
       "2           0        1  \n",
       "3           0        1  \n",
       "4           0        1  \n",
       "...       ...      ...  \n",
       "6492        1        1  \n",
       "6493        1        1  \n",
       "6494        1        1  \n",
       "6495        1        1  \n",
       "6496        1        1  \n",
       "\n",
       "[6497 rows x 8 columns]"
      ]
     },
     "execution_count": 2060,
     "metadata": {},
     "output_type": "execute_result"
    }
   ],
   "source": [
    "wine_mls"
   ]
  },
  {
   "cell_type": "markdown",
   "id": "880e53fb-c2fc-475e-9948-3749ca42a10d",
   "metadata": {},
   "source": [
    "## Dataset Con la variable type"
   ]
  },
  {
   "cell_type": "code",
   "execution_count": 2061,
   "id": "83307248-5639-48cb-8456-f7f322711821",
   "metadata": {},
   "outputs": [
    {
     "data": {
      "text/html": [
       "<div>\n",
       "<style scoped>\n",
       "    .dataframe tbody tr th:only-of-type {\n",
       "        vertical-align: middle;\n",
       "    }\n",
       "\n",
       "    .dataframe tbody tr th {\n",
       "        vertical-align: top;\n",
       "    }\n",
       "\n",
       "    .dataframe thead th {\n",
       "        text-align: right;\n",
       "    }\n",
       "</style>\n",
       "<table border=\"1\" class=\"dataframe\">\n",
       "  <thead>\n",
       "    <tr style=\"text-align: right;\">\n",
       "      <th></th>\n",
       "      <th>type</th>\n",
       "      <th>new_fixed acidity</th>\n",
       "      <th>new_citric acid</th>\n",
       "      <th>new_chlorides</th>\n",
       "      <th>new_free sulfur dioxide</th>\n",
       "      <th>new_total sulfur dioxide</th>\n",
       "      <th>new_sulphates</th>\n",
       "      <th>cluster</th>\n",
       "      <th>Outcome</th>\n",
       "    </tr>\n",
       "  </thead>\n",
       "  <tbody>\n",
       "    <tr>\n",
       "      <th>0</th>\n",
       "      <td>white</td>\n",
       "      <td>7.0</td>\n",
       "      <td>0.36</td>\n",
       "      <td>0.045</td>\n",
       "      <td>45.0</td>\n",
       "      <td>170.0</td>\n",
       "      <td>0.450000</td>\n",
       "      <td>0</td>\n",
       "      <td>1</td>\n",
       "    </tr>\n",
       "    <tr>\n",
       "      <th>1</th>\n",
       "      <td>white</td>\n",
       "      <td>6.3</td>\n",
       "      <td>0.34</td>\n",
       "      <td>0.049</td>\n",
       "      <td>14.0</td>\n",
       "      <td>132.0</td>\n",
       "      <td>0.490000</td>\n",
       "      <td>2</td>\n",
       "      <td>1</td>\n",
       "    </tr>\n",
       "    <tr>\n",
       "      <th>2</th>\n",
       "      <td>white</td>\n",
       "      <td>8.1</td>\n",
       "      <td>0.40</td>\n",
       "      <td>0.050</td>\n",
       "      <td>30.0</td>\n",
       "      <td>97.0</td>\n",
       "      <td>0.440000</td>\n",
       "      <td>0</td>\n",
       "      <td>1</td>\n",
       "    </tr>\n",
       "    <tr>\n",
       "      <th>3</th>\n",
       "      <td>white</td>\n",
       "      <td>7.2</td>\n",
       "      <td>0.32</td>\n",
       "      <td>0.058</td>\n",
       "      <td>47.0</td>\n",
       "      <td>186.0</td>\n",
       "      <td>0.400000</td>\n",
       "      <td>0</td>\n",
       "      <td>1</td>\n",
       "    </tr>\n",
       "    <tr>\n",
       "      <th>4</th>\n",
       "      <td>white</td>\n",
       "      <td>7.2</td>\n",
       "      <td>0.32</td>\n",
       "      <td>0.058</td>\n",
       "      <td>47.0</td>\n",
       "      <td>186.0</td>\n",
       "      <td>0.400000</td>\n",
       "      <td>0</td>\n",
       "      <td>1</td>\n",
       "    </tr>\n",
       "    <tr>\n",
       "      <th>...</th>\n",
       "      <td>...</td>\n",
       "      <td>...</td>\n",
       "      <td>...</td>\n",
       "      <td>...</td>\n",
       "      <td>...</td>\n",
       "      <td>...</td>\n",
       "      <td>...</td>\n",
       "      <td>...</td>\n",
       "      <td>...</td>\n",
       "    </tr>\n",
       "    <tr>\n",
       "      <th>6492</th>\n",
       "      <td>red</td>\n",
       "      <td>6.2</td>\n",
       "      <td>0.08</td>\n",
       "      <td>0.090</td>\n",
       "      <td>32.0</td>\n",
       "      <td>44.0</td>\n",
       "      <td>0.580000</td>\n",
       "      <td>1</td>\n",
       "      <td>1</td>\n",
       "    </tr>\n",
       "    <tr>\n",
       "      <th>6493</th>\n",
       "      <td>red</td>\n",
       "      <td>5.9</td>\n",
       "      <td>0.10</td>\n",
       "      <td>0.062</td>\n",
       "      <td>39.0</td>\n",
       "      <td>51.0</td>\n",
       "      <td>0.658078</td>\n",
       "      <td>1</td>\n",
       "      <td>1</td>\n",
       "    </tr>\n",
       "    <tr>\n",
       "      <th>6494</th>\n",
       "      <td>red</td>\n",
       "      <td>6.3</td>\n",
       "      <td>0.13</td>\n",
       "      <td>0.076</td>\n",
       "      <td>29.0</td>\n",
       "      <td>40.0</td>\n",
       "      <td>0.750000</td>\n",
       "      <td>1</td>\n",
       "      <td>1</td>\n",
       "    </tr>\n",
       "    <tr>\n",
       "      <th>6495</th>\n",
       "      <td>red</td>\n",
       "      <td>5.9</td>\n",
       "      <td>0.12</td>\n",
       "      <td>0.075</td>\n",
       "      <td>32.0</td>\n",
       "      <td>44.0</td>\n",
       "      <td>0.710000</td>\n",
       "      <td>1</td>\n",
       "      <td>1</td>\n",
       "    </tr>\n",
       "    <tr>\n",
       "      <th>6496</th>\n",
       "      <td>red</td>\n",
       "      <td>6.0</td>\n",
       "      <td>0.47</td>\n",
       "      <td>0.067</td>\n",
       "      <td>18.0</td>\n",
       "      <td>42.0</td>\n",
       "      <td>0.660000</td>\n",
       "      <td>1</td>\n",
       "      <td>1</td>\n",
       "    </tr>\n",
       "  </tbody>\n",
       "</table>\n",
       "<p>6497 rows × 9 columns</p>\n",
       "</div>"
      ],
      "text/plain": [
       "       type  new_fixed acidity  new_citric acid  new_chlorides  \\\n",
       "0     white                7.0             0.36          0.045   \n",
       "1     white                6.3             0.34          0.049   \n",
       "2     white                8.1             0.40          0.050   \n",
       "3     white                7.2             0.32          0.058   \n",
       "4     white                7.2             0.32          0.058   \n",
       "...     ...                ...              ...            ...   \n",
       "6492    red                6.2             0.08          0.090   \n",
       "6493    red                5.9             0.10          0.062   \n",
       "6494    red                6.3             0.13          0.076   \n",
       "6495    red                5.9             0.12          0.075   \n",
       "6496    red                6.0             0.47          0.067   \n",
       "\n",
       "      new_free sulfur dioxide  new_total sulfur dioxide  new_sulphates  \\\n",
       "0                        45.0                     170.0       0.450000   \n",
       "1                        14.0                     132.0       0.490000   \n",
       "2                        30.0                      97.0       0.440000   \n",
       "3                        47.0                     186.0       0.400000   \n",
       "4                        47.0                     186.0       0.400000   \n",
       "...                       ...                       ...            ...   \n",
       "6492                     32.0                      44.0       0.580000   \n",
       "6493                     39.0                      51.0       0.658078   \n",
       "6494                     29.0                      40.0       0.750000   \n",
       "6495                     32.0                      44.0       0.710000   \n",
       "6496                     18.0                      42.0       0.660000   \n",
       "\n",
       "      cluster  Outcome  \n",
       "0           0        1  \n",
       "1           2        1  \n",
       "2           0        1  \n",
       "3           0        1  \n",
       "4           0        1  \n",
       "...       ...      ...  \n",
       "6492        1        1  \n",
       "6493        1        1  \n",
       "6494        1        1  \n",
       "6495        1        1  \n",
       "6496        1        1  \n",
       "\n",
       "[6497 rows x 9 columns]"
      ]
     },
     "execution_count": 2061,
     "metadata": {},
     "output_type": "execute_result"
    }
   ],
   "source": [
    "wine_mls1"
   ]
  },
  {
   "cell_type": "markdown",
   "id": "37bd609a-4074-4db5-b74e-cbf7e37830b1",
   "metadata": {},
   "source": [
    "### Como debemos usar variables numericas entonces debemos crear dummy variables para poder usar la variable type"
   ]
  },
  {
   "cell_type": "code",
   "execution_count": 2062,
   "id": "131a5268-236d-498a-a90c-0d60703abbf4",
   "metadata": {},
   "outputs": [],
   "source": [
    "from sklearn.preprocessing import LabelBinarizer"
   ]
  },
  {
   "cell_type": "code",
   "execution_count": 2063,
   "id": "f9edc1b5-5cb4-4756-84a1-af6bf15d3054",
   "metadata": {},
   "outputs": [],
   "source": [
    "label_binarizer = LabelBinarizer()"
   ]
  },
  {
   "cell_type": "code",
   "execution_count": 2064,
   "id": "83e70bbe-4d86-457a-80d9-cc72ab493d9f",
   "metadata": {},
   "outputs": [],
   "source": [
    "label_binarizer_output = label_binarizer.fit_transform( wine_mls1['type'])"
   ]
  },
  {
   "cell_type": "code",
   "execution_count": 2065,
   "id": "f16bc18e-b232-4ab9-9603-68121a7dfdc6",
   "metadata": {},
   "outputs": [],
   "source": [
    "result_df = pd.DataFrame(label_binarizer_output)"
   ]
  },
  {
   "cell_type": "code",
   "execution_count": 2066,
   "id": "4e7448af-2cc8-4e3c-a534-50bce82ffc24",
   "metadata": {},
   "outputs": [],
   "source": [
    "result_df.columns=['Type']"
   ]
  },
  {
   "cell_type": "code",
   "execution_count": 2067,
   "id": "7950aeb8-9217-45c5-912a-a5f51431b09d",
   "metadata": {},
   "outputs": [],
   "source": [
    "wine_mls1 = pd.concat([wine_mls1, result_df], axis=1)"
   ]
  },
  {
   "cell_type": "code",
   "execution_count": 2068,
   "id": "26b2c457-c168-4d58-8bb1-533a07959a18",
   "metadata": {},
   "outputs": [],
   "source": [
    "wine_mls1=wine_mls1.loc[:, ['Type','new_fixed acidity', 'new_citric acid', 'new_chlorides', 'new_free sulfur dioxide', 'new_total sulfur dioxide', 'new_sulphates', 'cluster','Outcome']].copy()"
   ]
  },
  {
   "cell_type": "code",
   "execution_count": 2069,
   "id": "1b1e9636-99a2-433d-be00-9208f13be158",
   "metadata": {},
   "outputs": [
    {
     "data": {
      "text/html": [
       "<div>\n",
       "<style scoped>\n",
       "    .dataframe tbody tr th:only-of-type {\n",
       "        vertical-align: middle;\n",
       "    }\n",
       "\n",
       "    .dataframe tbody tr th {\n",
       "        vertical-align: top;\n",
       "    }\n",
       "\n",
       "    .dataframe thead th {\n",
       "        text-align: right;\n",
       "    }\n",
       "</style>\n",
       "<table border=\"1\" class=\"dataframe\">\n",
       "  <thead>\n",
       "    <tr style=\"text-align: right;\">\n",
       "      <th></th>\n",
       "      <th>Type</th>\n",
       "      <th>new_fixed acidity</th>\n",
       "      <th>new_citric acid</th>\n",
       "      <th>new_chlorides</th>\n",
       "      <th>new_free sulfur dioxide</th>\n",
       "      <th>new_total sulfur dioxide</th>\n",
       "      <th>new_sulphates</th>\n",
       "      <th>cluster</th>\n",
       "      <th>Outcome</th>\n",
       "    </tr>\n",
       "  </thead>\n",
       "  <tbody>\n",
       "    <tr>\n",
       "      <th>0</th>\n",
       "      <td>1</td>\n",
       "      <td>7.0</td>\n",
       "      <td>0.36</td>\n",
       "      <td>0.045</td>\n",
       "      <td>45.0</td>\n",
       "      <td>170.0</td>\n",
       "      <td>0.450000</td>\n",
       "      <td>0</td>\n",
       "      <td>1</td>\n",
       "    </tr>\n",
       "    <tr>\n",
       "      <th>1</th>\n",
       "      <td>1</td>\n",
       "      <td>6.3</td>\n",
       "      <td>0.34</td>\n",
       "      <td>0.049</td>\n",
       "      <td>14.0</td>\n",
       "      <td>132.0</td>\n",
       "      <td>0.490000</td>\n",
       "      <td>2</td>\n",
       "      <td>1</td>\n",
       "    </tr>\n",
       "    <tr>\n",
       "      <th>2</th>\n",
       "      <td>1</td>\n",
       "      <td>8.1</td>\n",
       "      <td>0.40</td>\n",
       "      <td>0.050</td>\n",
       "      <td>30.0</td>\n",
       "      <td>97.0</td>\n",
       "      <td>0.440000</td>\n",
       "      <td>0</td>\n",
       "      <td>1</td>\n",
       "    </tr>\n",
       "    <tr>\n",
       "      <th>3</th>\n",
       "      <td>1</td>\n",
       "      <td>7.2</td>\n",
       "      <td>0.32</td>\n",
       "      <td>0.058</td>\n",
       "      <td>47.0</td>\n",
       "      <td>186.0</td>\n",
       "      <td>0.400000</td>\n",
       "      <td>0</td>\n",
       "      <td>1</td>\n",
       "    </tr>\n",
       "    <tr>\n",
       "      <th>4</th>\n",
       "      <td>1</td>\n",
       "      <td>7.2</td>\n",
       "      <td>0.32</td>\n",
       "      <td>0.058</td>\n",
       "      <td>47.0</td>\n",
       "      <td>186.0</td>\n",
       "      <td>0.400000</td>\n",
       "      <td>0</td>\n",
       "      <td>1</td>\n",
       "    </tr>\n",
       "    <tr>\n",
       "      <th>...</th>\n",
       "      <td>...</td>\n",
       "      <td>...</td>\n",
       "      <td>...</td>\n",
       "      <td>...</td>\n",
       "      <td>...</td>\n",
       "      <td>...</td>\n",
       "      <td>...</td>\n",
       "      <td>...</td>\n",
       "      <td>...</td>\n",
       "    </tr>\n",
       "    <tr>\n",
       "      <th>6492</th>\n",
       "      <td>0</td>\n",
       "      <td>6.2</td>\n",
       "      <td>0.08</td>\n",
       "      <td>0.090</td>\n",
       "      <td>32.0</td>\n",
       "      <td>44.0</td>\n",
       "      <td>0.580000</td>\n",
       "      <td>1</td>\n",
       "      <td>1</td>\n",
       "    </tr>\n",
       "    <tr>\n",
       "      <th>6493</th>\n",
       "      <td>0</td>\n",
       "      <td>5.9</td>\n",
       "      <td>0.10</td>\n",
       "      <td>0.062</td>\n",
       "      <td>39.0</td>\n",
       "      <td>51.0</td>\n",
       "      <td>0.658078</td>\n",
       "      <td>1</td>\n",
       "      <td>1</td>\n",
       "    </tr>\n",
       "    <tr>\n",
       "      <th>6494</th>\n",
       "      <td>0</td>\n",
       "      <td>6.3</td>\n",
       "      <td>0.13</td>\n",
       "      <td>0.076</td>\n",
       "      <td>29.0</td>\n",
       "      <td>40.0</td>\n",
       "      <td>0.750000</td>\n",
       "      <td>1</td>\n",
       "      <td>1</td>\n",
       "    </tr>\n",
       "    <tr>\n",
       "      <th>6495</th>\n",
       "      <td>0</td>\n",
       "      <td>5.9</td>\n",
       "      <td>0.12</td>\n",
       "      <td>0.075</td>\n",
       "      <td>32.0</td>\n",
       "      <td>44.0</td>\n",
       "      <td>0.710000</td>\n",
       "      <td>1</td>\n",
       "      <td>1</td>\n",
       "    </tr>\n",
       "    <tr>\n",
       "      <th>6496</th>\n",
       "      <td>0</td>\n",
       "      <td>6.0</td>\n",
       "      <td>0.47</td>\n",
       "      <td>0.067</td>\n",
       "      <td>18.0</td>\n",
       "      <td>42.0</td>\n",
       "      <td>0.660000</td>\n",
       "      <td>1</td>\n",
       "      <td>1</td>\n",
       "    </tr>\n",
       "  </tbody>\n",
       "</table>\n",
       "<p>6497 rows × 9 columns</p>\n",
       "</div>"
      ],
      "text/plain": [
       "      Type  new_fixed acidity  new_citric acid  new_chlorides  \\\n",
       "0        1                7.0             0.36          0.045   \n",
       "1        1                6.3             0.34          0.049   \n",
       "2        1                8.1             0.40          0.050   \n",
       "3        1                7.2             0.32          0.058   \n",
       "4        1                7.2             0.32          0.058   \n",
       "...    ...                ...              ...            ...   \n",
       "6492     0                6.2             0.08          0.090   \n",
       "6493     0                5.9             0.10          0.062   \n",
       "6494     0                6.3             0.13          0.076   \n",
       "6495     0                5.9             0.12          0.075   \n",
       "6496     0                6.0             0.47          0.067   \n",
       "\n",
       "      new_free sulfur dioxide  new_total sulfur dioxide  new_sulphates  \\\n",
       "0                        45.0                     170.0       0.450000   \n",
       "1                        14.0                     132.0       0.490000   \n",
       "2                        30.0                      97.0       0.440000   \n",
       "3                        47.0                     186.0       0.400000   \n",
       "4                        47.0                     186.0       0.400000   \n",
       "...                       ...                       ...            ...   \n",
       "6492                     32.0                      44.0       0.580000   \n",
       "6493                     39.0                      51.0       0.658078   \n",
       "6494                     29.0                      40.0       0.750000   \n",
       "6495                     32.0                      44.0       0.710000   \n",
       "6496                     18.0                      42.0       0.660000   \n",
       "\n",
       "      cluster  Outcome  \n",
       "0           0        1  \n",
       "1           2        1  \n",
       "2           0        1  \n",
       "3           0        1  \n",
       "4           0        1  \n",
       "...       ...      ...  \n",
       "6492        1        1  \n",
       "6493        1        1  \n",
       "6494        1        1  \n",
       "6495        1        1  \n",
       "6496        1        1  \n",
       "\n",
       "[6497 rows x 9 columns]"
      ]
     },
     "execution_count": 2069,
     "metadata": {},
     "output_type": "execute_result"
    }
   ],
   "source": [
    "wine_mls1"
   ]
  },
  {
   "cell_type": "markdown",
   "id": "68f4d474-80f2-404e-952e-d922406564eb",
   "metadata": {},
   "source": [
    "## Entrenamiento sin estratificacion de tipos de vino (sin Variable Type)"
   ]
  },
  {
   "cell_type": "markdown",
   "id": "9582729f-34d1-4144-929f-fd5f03c68a57",
   "metadata": {},
   "source": [
    "# Regresion Logistica"
   ]
  },
  {
   "cell_type": "code",
   "execution_count": 2142,
   "id": "f0b96244-b6b7-49cc-971a-47bba923c7f9",
   "metadata": {},
   "outputs": [],
   "source": [
    "from sklearn.model_selection import train_test_split"
   ]
  },
  {
   "cell_type": "code",
   "execution_count": 2143,
   "id": "61984254-2c99-4ab0-aab7-cec1ed2c5cea",
   "metadata": {},
   "outputs": [],
   "source": [
    "from sklearn.linear_model import LogisticRegression\n",
    "from sklearn import metrics\n",
    "from sklearn.metrics import accuracy_score, f1_score, precision_score, recall_score, classification_report, confusion_matrix, roc_curve"
   ]
  },
  {
   "cell_type": "code",
   "execution_count": 2144,
   "id": "aa49b0aa-79c7-46e2-9c7a-ed5be88c4926",
   "metadata": {},
   "outputs": [],
   "source": [
    "features_col = wine_mls.columns.values[0:6]"
   ]
  },
  {
   "cell_type": "code",
   "execution_count": 2145,
   "id": "0cdcd995-52b2-4691-876e-b25ccea5f53a",
   "metadata": {},
   "outputs": [],
   "source": [
    "X = wine_mls[features_col].values\n",
    "y = wine_mls[\"Outcome\"].values"
   ]
  },
  {
   "cell_type": "code",
   "execution_count": 2146,
   "id": "9abd2eb2-a0b8-4a64-9b77-8ca169a59122",
   "metadata": {},
   "outputs": [],
   "source": [
    "X_train, X_test, Y_train, Y_test = train_test_split(X,y,test_size = 0.30, random_state=0)"
   ]
  },
  {
   "cell_type": "code",
   "execution_count": 2147,
   "id": "1460c90b-a669-4a3d-a754-73e0094a64ed",
   "metadata": {},
   "outputs": [
    {
     "data": {
      "text/plain": [
       "LogisticRegression(max_iter=200)"
      ]
     },
     "execution_count": 2147,
     "metadata": {},
     "output_type": "execute_result"
    }
   ],
   "source": [
    "log_model = LogisticRegression(solver='lbfgs', max_iter=200)\n",
    "log_model.fit(X_train,Y_train)"
   ]
  },
  {
   "cell_type": "code",
   "execution_count": 2148,
   "id": "5f17e489-65f9-413a-b2f4-b89b0b73fb78",
   "metadata": {},
   "outputs": [],
   "source": [
    "y_pred  = log_model.predict(X_test)"
   ]
  },
  {
   "cell_type": "code",
   "execution_count": 2149,
   "id": "51becffa-9871-4ffb-9377-05b8a8fd19ed",
   "metadata": {},
   "outputs": [
    {
     "data": {
      "text/plain": [
       "array([1, 1, 1, ..., 1, 1, 1], dtype=int64)"
      ]
     },
     "execution_count": 2149,
     "metadata": {},
     "output_type": "execute_result"
    }
   ],
   "source": [
    "y_pred"
   ]
  },
  {
   "cell_type": "code",
   "execution_count": 2150,
   "id": "1de12368-faf3-4a08-89b6-0ec1f1dd7213",
   "metadata": {},
   "outputs": [
    {
     "data": {
      "text/plain": [
       "array([1, 1, 1, ..., 1, 1, 1], dtype=int64)"
      ]
     },
     "execution_count": 2150,
     "metadata": {},
     "output_type": "execute_result"
    }
   ],
   "source": [
    "Y_test"
   ]
  },
  {
   "cell_type": "code",
   "execution_count": 2151,
   "id": "718df67e-e7d5-4adf-b8ec-8195796c6437",
   "metadata": {},
   "outputs": [],
   "source": [
    "cnf_matrix = metrics.confusion_matrix(Y_test, y_pred)"
   ]
  },
  {
   "cell_type": "code",
   "execution_count": 2152,
   "id": "2b04a972-1de8-409a-ab60-b0c313c9d56c",
   "metadata": {},
   "outputs": [
    {
     "data": {
      "text/plain": [
       "Text(0.5, 257.44, 'Etiqueta de prediccion')"
      ]
     },
     "execution_count": 2152,
     "metadata": {},
     "output_type": "execute_result"
    },
    {
     "data": {
      "image/png": "[encoded data removed]",
      "text/plain": [
       "<Figure size 432x288 with 2 Axes>"
      ]
     },
     "metadata": {
      "needs_background": "light"
     },
     "output_type": "display_data"
    }
   ],
   "source": [
    "import numpy as np\n",
    "class_names = [0,1]\n",
    "fig, ax = plt.subplots()\n",
    "tick_marks = np.arange(len(class_names))\n",
    "plt.xticks(tick_marks, class_names)\n",
    "plt.yticks(tick_marks, class_names)\n",
    "\n",
    "sns.heatmap(pd.DataFrame(cnf_matrix), annot = True, cmap=\"Blues_r\", fmt=\"g\")\n",
    "ax.xaxis.set_label_position(\"top\")\n",
    "plt.tight_layout()\n",
    "plt.title(\"Matriz de confusion\", y=1.1)\n",
    "plt.ylabel(\"Etiqueta Actual\")\n",
    "plt.xlabel(\"Etiqueta de prediccion\")"
   ]
  },
  {
   "cell_type": "code",
   "execution_count": 2153,
   "id": "8cf43037-a7ec-4029-9855-2f3950838932",
   "metadata": {},
   "outputs": [
    {
     "name": "stdout",
     "output_type": "stream",
     "text": [
      "0.963076923076923\n"
     ]
    }
   ],
   "source": [
    "print(precision_score(Y_test, y_pred))"
   ]
  },
  {
   "cell_type": "markdown",
   "id": "565d77dc-8c26-4102-a39f-8c066f5431c2",
   "metadata": {},
   "source": [
    "## Neuronal Network"
   ]
  },
  {
   "cell_type": "code",
   "execution_count": 2154,
   "id": "f7c2d068-4fdc-43e2-978b-f026e7825235",
   "metadata": {},
   "outputs": [],
   "source": [
    "from sklearn.neural_network import MLPClassifier"
   ]
  },
  {
   "cell_type": "code",
   "execution_count": 2155,
   "id": "b62101f3-ccc1-4ab8-b298-a6bc9fdbd46c",
   "metadata": {},
   "outputs": [],
   "source": [
    "x_train = X_train \n",
    "x_test = X_test\n",
    "y_train = Y_train\n",
    "y_test =  Y_test "
   ]
  },
  {
   "cell_type": "code",
   "execution_count": 2156,
   "id": "3132f296-d87e-4f1e-9a0c-9e905933fcc7",
   "metadata": {},
   "outputs": [],
   "source": [
    "# Making the Neural Network Classifier\n",
    "NN = MLPClassifier(random_state=1, max_iter=200)\n",
    "\n",
    "# Training the model on the training data and labels\n",
    "NN.fit(x_train, y_train)\n",
    "\n",
    "# Testing the model i.e. predicting the labels of the test data.\n",
    "y_pred = NN.predict(x_test)\n",
    "\n",
    "# Evaluating the results of the model\n",
    "accuracy = accuracy_score(y_test,y_pred)*100\n",
    "confusion_mat = confusion_matrix(y_test,y_pred)"
   ]
  },
  {
   "cell_type": "code",
   "execution_count": 2157,
   "id": "ca20ab71-cf5a-47d6-84e5-04b417c0767c",
   "metadata": {},
   "outputs": [
    {
     "name": "stdout",
     "output_type": "stream",
     "text": [
      "0.963076923076923\n"
     ]
    }
   ],
   "source": [
    "print(precision_score(y_test, y_pred))"
   ]
  },
  {
   "cell_type": "markdown",
   "id": "2990bd2b-5867-45d2-a9ca-7e6fcd239e8b",
   "metadata": {},
   "source": [
    "## Arbol de desiciones"
   ]
  },
  {
   "cell_type": "code",
   "execution_count": 2158,
   "id": "2e3a9efa-b686-400d-8c01-2764a48e2b4e",
   "metadata": {},
   "outputs": [],
   "source": [
    "from sklearn import tree"
   ]
  },
  {
   "cell_type": "code",
   "execution_count": 2159,
   "id": "7466a6bb-d9ae-426b-96b7-5c604053e6aa",
   "metadata": {},
   "outputs": [],
   "source": [
    "tree_one = tree.DecisionTreeClassifier(random_state=1)"
   ]
  },
  {
   "cell_type": "code",
   "execution_count": 2160,
   "id": "bb056421-3469-4e3a-b031-adf2ee019117",
   "metadata": {},
   "outputs": [],
   "source": [
    "tree_one = tree_one.fit( x_train , y_train )"
   ]
  },
  {
   "cell_type": "code",
   "execution_count": 2161,
   "id": "c86a94a9-bdbb-4a63-9aac-f4cd736cfad7",
   "metadata": {},
   "outputs": [
    {
     "data": {
      "text/plain": [
       "19"
      ]
     },
     "execution_count": 2161,
     "metadata": {},
     "output_type": "execute_result"
    }
   ],
   "source": [
    "tree_one.tree_.max_depth"
   ]
  },
  {
   "cell_type": "code",
   "execution_count": 2162,
   "id": "47784505-5430-45aa-bcd6-7fb62f982548",
   "metadata": {},
   "outputs": [],
   "source": [
    "y_pred = tree_one.predict(x_test)"
   ]
  },
  {
   "cell_type": "code",
   "execution_count": 2163,
   "id": "8b694e88-b68f-41ee-af61-659541a0195e",
   "metadata": {},
   "outputs": [
    {
     "name": "stdout",
     "output_type": "stream",
     "text": [
      "0.9698093220338984\n"
     ]
    }
   ],
   "source": [
    "print(precision_score(y_test, y_pred))"
   ]
  },
  {
   "cell_type": "markdown",
   "id": "75cfd85d-c9b4-4898-a5a1-777459d1e525",
   "metadata": {},
   "source": [
    "## Random Forest"
   ]
  },
  {
   "cell_type": "code",
   "execution_count": 2164,
   "id": "95d4a107-6c7b-49ec-b09f-230e1563061c",
   "metadata": {},
   "outputs": [],
   "source": [
    "# Import the model we are using\n",
    "from sklearn.ensemble import RandomForestRegressor\n",
    "# Instantiate model with 1000 decision trees\n",
    "rf = RandomForestRegressor(n_estimators = 200, random_state = 42)\n",
    "# Train the model on training data\n",
    "rf.fit(x_train , y_train);"
   ]
  },
  {
   "cell_type": "code",
   "execution_count": 2165,
   "id": "103e9b06-4171-4acd-a6f7-640c2a238c90",
   "metadata": {},
   "outputs": [],
   "source": [
    "y_pred = rf.predict(x_test) >= 0.5"
   ]
  },
  {
   "cell_type": "code",
   "execution_count": 2166,
   "id": "9aaf0c45-f74a-487e-bcb3-94ce8d182f6f",
   "metadata": {},
   "outputs": [
    {
     "name": "stdout",
     "output_type": "stream",
     "text": [
      "0.9660144181256437\n"
     ]
    }
   ],
   "source": [
    "print(precision_score(y_test, y_pred))"
   ]
  },
  {
   "cell_type": "markdown",
   "id": "8fc2809a-c22f-47d3-9f6f-b19a6e1776de",
   "metadata": {},
   "source": [
    "## Entrenamiento por estratificacion de tipos de vino (Variable Type)"
   ]
  },
  {
   "cell_type": "markdown",
   "id": "61d9c84c-7909-48f6-8d16-68fe6171478e",
   "metadata": {},
   "source": [
    "## Logistic regresion"
   ]
  },
  {
   "cell_type": "code",
   "execution_count": 2167,
   "id": "a72571fb-e5a1-49e0-8422-349c58850d6c",
   "metadata": {},
   "outputs": [],
   "source": [
    "features_col = wine_mls1.columns.values[0:7]"
   ]
  },
  {
   "cell_type": "code",
   "execution_count": 2168,
   "id": "5c1e637e-e906-4fd6-8b5d-57c8b789bbe0",
   "metadata": {},
   "outputs": [],
   "source": [
    "X = wine_mls1[features_col].values\n",
    "y = wine_mls1[\"Outcome\"].values"
   ]
  },
  {
   "cell_type": "code",
   "execution_count": 2169,
   "id": "bfb6d3fb-c1db-4068-9c53-13250f4926c1",
   "metadata": {},
   "outputs": [],
   "source": [
    "X_train, X_test, Y_train, Y_test = train_test_split(X,y,test_size = 0.30, random_state=0)"
   ]
  },
  {
   "cell_type": "code",
   "execution_count": 2170,
   "id": "f81c42d6-8766-4993-942f-137a518f1405",
   "metadata": {},
   "outputs": [
    {
     "data": {
      "text/plain": [
       "LogisticRegression(max_iter=200)"
      ]
     },
     "execution_count": 2170,
     "metadata": {},
     "output_type": "execute_result"
    }
   ],
   "source": [
    "log_model = LogisticRegression(solver='lbfgs', max_iter=200)\n",
    "log_model.fit(X_train,Y_train)"
   ]
  },
  {
   "cell_type": "code",
   "execution_count": 2171,
   "id": "4af65745-36c6-4b53-9035-9b7e9610f6ac",
   "metadata": {},
   "outputs": [],
   "source": [
    "y_pred  = log_model.predict(X_test)"
   ]
  },
  {
   "cell_type": "code",
   "execution_count": 2172,
   "id": "346d4bc6-29cc-4344-8486-094cf6fde65b",
   "metadata": {},
   "outputs": [
    {
     "data": {
      "text/plain": [
       "array([1, 1, 1, ..., 1, 1, 1], dtype=int64)"
      ]
     },
     "execution_count": 2172,
     "metadata": {},
     "output_type": "execute_result"
    }
   ],
   "source": [
    "y_pred"
   ]
  },
  {
   "cell_type": "code",
   "execution_count": 2173,
   "id": "b134f086-22b5-412e-b0fb-cf7a6408f4c9",
   "metadata": {},
   "outputs": [
    {
     "data": {
      "text/plain": [
       "array([1, 1, 1, ..., 1, 1, 1], dtype=int64)"
      ]
     },
     "execution_count": 2173,
     "metadata": {},
     "output_type": "execute_result"
    }
   ],
   "source": [
    "Y_test"
   ]
  },
  {
   "cell_type": "code",
   "execution_count": 2174,
   "id": "c567f642-b79e-48b0-b6d5-69c27d94577c",
   "metadata": {},
   "outputs": [],
   "source": [
    "cnf_matrix = metrics.confusion_matrix(Y_test, y_pred)"
   ]
  },
  {
   "cell_type": "code",
   "execution_count": 2175,
   "id": "5dd8ea41-8eee-4dfd-b32f-6164693ce0f4",
   "metadata": {},
   "outputs": [
    {
     "data": {
      "text/plain": [
       "Text(0.5, 257.44, 'Etiqueta de prediccion')"
      ]
     },
     "execution_count": 2175,
     "metadata": {},
     "output_type": "execute_result"
    },
    {
     "data": {
      "image/png": "[encoded data removed]",
      "text/plain": [
       "<Figure size 432x288 with 2 Axes>"
      ]
     },
     "metadata": {
      "needs_background": "light"
     },
     "output_type": "display_data"
    }
   ],
   "source": [
    "import numpy as np\n",
    "class_names = [0,1]\n",
    "fig, ax = plt.subplots()\n",
    "tick_marks = np.arange(len(class_names))\n",
    "plt.xticks(tick_marks, class_names)\n",
    "plt.yticks(tick_marks, class_names)\n",
    "\n",
    "sns.heatmap(pd.DataFrame(cnf_matrix), annot = True, cmap=\"Blues_r\", fmt=\"g\")\n",
    "ax.xaxis.set_label_position(\"top\")\n",
    "plt.tight_layout()\n",
    "plt.title(\"Matriz de confusion\", y=1.1)\n",
    "plt.ylabel(\"Etiqueta Actual\")\n",
    "plt.xlabel(\"Etiqueta de prediccion\")"
   ]
  },
  {
   "cell_type": "code",
   "execution_count": 2176,
   "id": "b34f99e8-0aa7-4aa5-9ac5-8128bf6a291b",
   "metadata": {},
   "outputs": [
    {
     "name": "stdout",
     "output_type": "stream",
     "text": [
      "0.963076923076923\n"
     ]
    }
   ],
   "source": [
    "print(precision_score(Y_test, y_pred))"
   ]
  },
  {
   "cell_type": "markdown",
   "id": "41aa47e7-b626-428a-a778-d7c93ca46a04",
   "metadata": {},
   "source": [
    "## Neuronal Network"
   ]
  },
  {
   "cell_type": "code",
   "execution_count": 2177,
   "id": "a02bcfb0-0f66-442d-95b0-0c2718e731e6",
   "metadata": {},
   "outputs": [],
   "source": [
    "x_train = X_train \n",
    "x_test = X_test\n",
    "y_train = Y_train\n",
    "y_test =  Y_test "
   ]
  },
  {
   "cell_type": "code",
   "execution_count": 2178,
   "id": "7037a4af-d918-408c-b672-9fc6070811dc",
   "metadata": {},
   "outputs": [],
   "source": [
    "# Making the Neural Network Classifier\n",
    "NN = MLPClassifier(random_state=1, max_iter=200)\n",
    "\n",
    "# Training the model on the training data and labels\n",
    "NN.fit(x_train, y_train)\n",
    "\n",
    "# Testing the model i.e. predicting the labels of the test data.\n",
    "y_pred = NN.predict(x_test)\n",
    "\n",
    "# Evaluating the results of the model\n",
    "accuracy = accuracy_score(y_test,y_pred)*100\n",
    "confusion_mat = confusion_matrix(y_test,y_pred)"
   ]
  },
  {
   "cell_type": "code",
   "execution_count": 2179,
   "id": "20c6fd63-670d-4620-b014-90c2e1b4072d",
   "metadata": {},
   "outputs": [
    {
     "name": "stdout",
     "output_type": "stream",
     "text": [
      "0.963076923076923\n"
     ]
    }
   ],
   "source": [
    "print(precision_score(y_test, y_pred))"
   ]
  },
  {
   "cell_type": "markdown",
   "id": "f348f2a8-b64f-4c62-a4f4-c6dcdcc23ddf",
   "metadata": {},
   "source": [
    "## Arbol de desiciones"
   ]
  },
  {
   "cell_type": "code",
   "execution_count": 2180,
   "id": "ddae1fdc-488b-451b-b48d-a81ef518709c",
   "metadata": {},
   "outputs": [],
   "source": [
    "tree_one = tree.DecisionTreeClassifier(random_state=1)\n",
    "tree_one = tree_one.fit( x_train , y_train )"
   ]
  },
  {
   "cell_type": "code",
   "execution_count": 2181,
   "id": "e54f6f94-8633-4639-ba1a-ae9ec039e401",
   "metadata": {},
   "outputs": [
    {
     "data": {
      "text/plain": [
       "22"
      ]
     },
     "execution_count": 2181,
     "metadata": {},
     "output_type": "execute_result"
    }
   ],
   "source": [
    "tree_one.tree_.max_depth"
   ]
  },
  {
   "cell_type": "code",
   "execution_count": 2182,
   "id": "2ef2b5b5-b448-4462-9a1a-954718cfba4d",
   "metadata": {},
   "outputs": [],
   "source": [
    "y_pred = tree_one.predict(x_test)"
   ]
  },
  {
   "cell_type": "code",
   "execution_count": 2183,
   "id": "3c3d7634-f0cc-4c44-8229-a900f5a30c00",
   "metadata": {},
   "outputs": [
    {
     "name": "stdout",
     "output_type": "stream",
     "text": [
      "0.9697612732095491\n"
     ]
    }
   ],
   "source": [
    "print(precision_score(y_test, y_pred))"
   ]
  },
  {
   "cell_type": "markdown",
   "id": "29bd3c43-b72f-4c89-bfd9-986dd3cef759",
   "metadata": {},
   "source": [
    "## Random Forest"
   ]
  },
  {
   "cell_type": "code",
   "execution_count": 2184,
   "id": "0f4007e8-1c81-423f-9dcc-b1de3e075f6a",
   "metadata": {},
   "outputs": [],
   "source": [
    "# Import the model we are using\n",
    "from sklearn.ensemble import RandomForestRegressor\n",
    "# Instantiate model with 1000 decision trees\n",
    "rf = RandomForestRegressor(n_estimators = 200, random_state = 42)\n",
    "# Train the model on training data\n",
    "rf.fit(x_train , y_train);"
   ]
  },
  {
   "cell_type": "code",
   "execution_count": 2185,
   "id": "6fe97d17-a3f6-4bef-bbfa-baeb079df5b2",
   "metadata": {},
   "outputs": [],
   "source": [
    "y_pred = rf.predict(x_test) >= 0.5"
   ]
  },
  {
   "cell_type": "code",
   "execution_count": 2186,
   "id": "c5b8a25d-ec24-4914-863e-b5d0c92055ff",
   "metadata": {},
   "outputs": [
    {
     "name": "stdout",
     "output_type": "stream",
     "text": [
      "0.9660144181256437\n"
     ]
    }
   ],
   "source": [
    "print(precision_score(y_test, y_pred))"
   ]
  },
  {
   "cell_type": "markdown",
   "id": "339c1463-7ae1-4931-9c9b-b11b8473143c",
   "metadata": {},
   "source": [
    "## Conclusiones"
   ]
  },
  {
   "cell_type": "markdown",
   "id": "dddebec4-7ab6-470d-9566-5e0303e313d5",
   "metadata": {},
   "source": [
    "-Para este análisis decidí tomar la precisión de cada entrenamiento para saber que tan bueno fue prediciendo el outcome 1 (lo positivo)\n",
    "\n",
    "-Según lo que pude analizar incluir la variable type no altera las predicciones del modelo por lo tanto no era muy necesario incluir esta variable ya que los resultados son\n",
    "idénticos en ambos entrenamientos.\n",
    "\n",
    "-Con respecto a los modelos puedo concluir que el modelo que mejor resultados me genero fue el Árbol de Decisiones ya que tiene una precisión de 96.98%\n",
    "\n",
    "-Tambien decidi reducir la cantidad de iteracciones de cada modelo para evitar un sobreajuste ya que la cantidad de datos era de 6000\n"
   ]
  },
  {
   "cell_type": "code",
   "execution_count": null,
   "id": "336a1557-2a87-4032-899a-b755a63186f4",
   "metadata": {},
   "outputs": [],
   "source": []
  }
 ],
 "metadata": {
  "kernelspec": {
   "display_name": "Python 3 (ipykernel)",
   "language": "python",
   "name": "python3"
  },
  "language_info": {
   "codemirror_mode": {
    "name": "ipython",
    "version": 3
   },
   "file_extension": ".py",
   "mimetype": "text/x-python",
   "name": "python",
   "nbconvert_exporter": "python",
   "pygments_lexer": "ipython3",
   "version": "3.9.12"
  }
 },
 "nbformat": 4,
 "nbformat_minor": 5
}
